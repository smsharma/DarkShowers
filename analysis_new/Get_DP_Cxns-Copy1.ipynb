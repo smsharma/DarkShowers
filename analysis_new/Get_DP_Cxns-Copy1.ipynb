{
 "cells": [
  {
   "cell_type": "code",
   "execution_count": 197,
   "metadata": {
    "collapsed": true
   },
   "outputs": [],
   "source": [
    "import pandas as pd\n",
    "import numpy as np\n",
    "from bs4 import BeautifulSoup\n",
    "import matplotlib.pyplot as plt\n",
    "\n",
    "%matplotlib inline"
   ]
  },
  {
   "cell_type": "code",
   "execution_count": 87,
   "metadata": {
    "collapsed": false
   },
   "outputs": [],
   "source": [
    "masses = list(np.linspace(500,15000,20)) + [20000,50000,100000]\n",
    "# [20000,50000,100000]"
   ]
  },
  {
   "cell_type": "code",
   "execution_count": 88,
   "metadata": {
    "collapsed": true
   },
   "outputs": [],
   "source": [
    "masses = list(np.array([   500.        ,   1263.15789474,   2026.31578947,   2789.47368421,\n",
    "         3552.63157895,   4315.78947368,   5078.94736842,   \n",
    "         6605.26315789,   7368.42105263,   8131.57894737,   8894.73684211,\n",
    "         9657.89473684,  10421.05263158,  11184.21052632,  \n",
    "        12710.52631579,  13473.68421053,  14236.84210526,  15000.        ])) + [20000,50000,100000]\n"
   ]
  },
  {
   "cell_type": "code",
   "execution_count": 89,
   "metadata": {
    "collapsed": true
   },
   "outputs": [],
   "source": [
    "masses = [100000]"
   ]
  },
  {
   "cell_type": "code",
   "execution_count": 61,
   "metadata": {
    "collapsed": false
   },
   "outputs": [],
   "source": [
    "dp_frac = []\n",
    "\n",
    "good_graphs = []\n",
    "bad_graphs = []\n",
    "\n",
    "for mass in masses:\n",
    "    with open (\"/group/hepheno/smsharma/Dark-Showers/MG5_aMC_v2_5_6_patch_int_signal_sig_tchannel_\"+str(mass) + \"_0/bin/sig_tchannel/HTML/run_01/results.html\", \"r\") as myfile:\n",
    "\n",
    "        data=myfile.read()\n",
    "        \n",
    "    soup = BeautifulSoup(data) # Parse the HTML as a string\n",
    "    \n",
    "    for table in soup.find_all('table')[1:]:\n",
    "    \n",
    "        dp_sum = 0.\n",
    "        rest_sum = 0.\n",
    "\n",
    "        for row in table.find_all('tr'):\n",
    "            column_marker = 0\n",
    "            columns = row.find_all('td')\n",
    "\n",
    "            for icolumn, column in enumerate(columns):\n",
    "                graph_cxn = None\n",
    "                if icolumn == 0:\n",
    "                    graph_name = (column.get_text())\n",
    "                if icolumn == 1:\n",
    "                    graph_cxn = (column.get_text())\n",
    "                if graph_cxn is not None:\n",
    "                    if float(graph_cxn) > 1e-12: \n",
    "#                         print graph_name, graph_cxn\n",
    "                        good_graphs.append(graph_name)\n",
    "                    else:\n",
    "                        bad_graphs.append(graph_name)"
   ]
  },
  {
   "cell_type": "code",
   "execution_count": 64,
   "metadata": {
    "collapsed": true
   },
   "outputs": [],
   "source": [
    "masses = list(np.array([   500.        ,   1263.15789474,   2026.31578947,   2789.47368421,\n",
    "         3552.63157895,   4315.78947368,   5078.94736842,   \n",
    "         7368.42105263,   8131.57894737,   8894.73684211,\n",
    "         9657.89473684,  10421.05263158,  11184.21052632,  \n",
    "        12710.52631579,  13473.68421053,  14236.84210526,  15000.        ])) + [20000,50000,100000]"
   ]
  },
  {
   "cell_type": "code",
   "execution_count": 65,
   "metadata": {
    "collapsed": false
   },
   "outputs": [
    {
     "name": "stdout",
     "output_type": "stream",
     "text": [
      "500.0 0.788399179376\n",
      "1263.15789474 0.944706412645\n",
      "2026.31578947 0.983407784189\n",
      "2789.47368421 0.993236993209\n",
      "3552.63157895 0.996133683534\n",
      "4315.78947368 0.997119686845\n",
      "5078.94736842 0.997353633617\n",
      "7368.42105263 0.997562452221\n",
      "8131.57894737 0.997530734599\n",
      "8894.73684211 0.997515504128\n",
      "9657.89473684 0.997568571547\n",
      "10421.0526316 0.997531912237\n",
      "11184.2105263 0.997536245523\n",
      "12710.5263158 0.997741341129\n",
      "13473.6842105 0.997734888142\n",
      "14236.8421053 0.997775504496\n",
      "15000.0 0.997736825017\n",
      "20000 0.997780850594\n",
      "50000 0.997807836649\n",
      "100000 0.997802602352\n"
     ]
    }
   ],
   "source": [
    "dp_frac = []\n",
    "\n",
    "for mass in masses:\n",
    "    with open (\"/group/hepheno/smsharma/Dark-Showers/MG5_aMC_v2_5_6_patch_int_signal_sig_tchannel_\"+str(mass) + \"_0/bin/sig_tchannel/HTML/run_01/results.html\", \"r\") as myfile:\n",
    "        data=myfile.read()\n",
    "        \n",
    "    soup = BeautifulSoup(data) # Parse the HTML as a string\n",
    "    dp_sum = 0.\n",
    "    rest_sum = 0.\n",
    "    \n",
    "    for table in soup.find_all('table')[1:]:\n",
    "    \n",
    "\n",
    "\n",
    "        for row in table.find_all('tr'):\n",
    "            column_marker = 0\n",
    "            columns = row.find_all('td')\n",
    "\n",
    "            for icolumn, column in enumerate(columns):\n",
    "                graph_cxn = None\n",
    "                if icolumn == 0:\n",
    "                    graph_name = (column.get_text())\n",
    "                if icolumn == 1:\n",
    "                    graph_cxn = (column.get_text())\n",
    "                if graph_cxn is not None:\n",
    "#                     print graph_name, graph_cxn\n",
    "                    if graph_name in good_graphs:\n",
    "                        dp_sum += float(graph_cxn)\n",
    "                    else:\n",
    "                        rest_sum += float(graph_cxn)\n",
    "    print mass, dp_sum/(dp_sum+rest_sum)\n",
    "#     print dp_sum,rest_sum\n",
    "\n",
    "\n",
    "    dp_frac.append(dp_sum/(dp_sum+rest_sum))"
   ]
  },
  {
   "cell_type": "code",
   "execution_count": 68,
   "metadata": {
    "collapsed": true
   },
   "outputs": [],
   "source": [
    "fs_labels = 26\n",
    "fs_ticks = 25\n",
    "fs_text = 23\n",
    "fs_legend = 22"
   ]
  },
  {
   "cell_type": "code",
   "execution_count": 69,
   "metadata": {
    "collapsed": false
   },
   "outputs": [
    {
     "name": "stderr",
     "output_type": "stream",
     "text": [
      "/group/hepheno/heptools/anaconda3/envs/venv_py27/lib/python2.7/site-packages/matplotlib/axes/_axes.py:545: UserWarning: No labelled objects found. Use label='...' kwarg on individual plots.\n",
      "  warnings.warn(\"No labelled objects found. \"\n"
     ]
    },
    {
     "data": {
      "text/plain": [
       "<matplotlib.lines.Line2D at 0x7f32dc190990>"
      ]
     },
     "execution_count": 69,
     "metadata": {},
     "output_type": "execute_result"
    },
    {
     "data": {
      "image/png": "[encoded data removed]",
      "text/plain": [
       "<matplotlib.figure.Figure at 0x7f32eec88710>"
      ]
     },
     "metadata": {},
     "output_type": "display_data"
    }
   ],
   "source": [
    "fig=plt.figure(figsize=(9,7))\n",
    "plot_colorsss=['cornflowerblue','mediumseagreen', 'firebrick','indigo','violet','maroon','darkgrey','lightpink','black','forestgreen','cornflowerblue', 'salmon','violet','goldenrod','maroon','darkgrey','lightpink']\n",
    "\n",
    "lw = 2.5\n",
    "\n",
    "\n",
    "plt.plot(masses, np.array(dp_frac)*1, color = 'navy')\n",
    "plt.xscale(\"log\")\n",
    "plt.xlabel(\"$M_\\phi$\",fontsize=fs_labels)\n",
    "plt.ylabel(\"$\\sigma_{q \\overline q\\\\rightarrow \\chi\\overline\\chi}/\\sigma_\\mathrm{tot}$\",fontsize=fs_labels)\n",
    "plt.ylim(0.2,1.2)\n",
    "plt.xlim(min(masses), max(masses))\n",
    "\n",
    "leg = plt.legend(bbox_to_anchor=(0, 0, 0.97, 0.95),\n",
    "           fontsize=22, ncol=1,frameon=False,\n",
    "           handletextpad=.5,\n",
    "           borderaxespad=0.,title=\"$M_\\phi$\")\n",
    "plt.tick_params(axis='both', which='major', labelsize=fs_ticks)\n",
    "\n",
    "title = \"$t$-channel\"\n",
    "plt.title(title, fontsize=fs_labels)\n",
    "ax = plt.gca()\n",
    "ttl = ax.title\n",
    "ttl.set_position([.5, 1.02])\n",
    "plt.tight_layout()\n",
    "\n",
    "plt.axhline(1.,ls='--',lw=0.5)\n",
    "\n",
    "# plt.savefig(\"CxnDPvsRest.pdf\")"
   ]
  },
  {
   "cell_type": "code",
   "execution_count": 198,
   "metadata": {
    "collapsed": true
   },
   "outputs": [],
   "source": [
    "masses = [100000]"
   ]
  },
  {
   "cell_type": "code",
   "execution_count": 199,
   "metadata": {
    "collapsed": false
   },
   "outputs": [],
   "source": [
    "dp_frac = []\n",
    "\n",
    "good_graphs = []\n",
    "bad_graphs = []\n",
    "\n",
    "for mass in masses:\n",
    "    with open (\"/group/hepheno/smsharma/Dark-Showers/MG5_aMC_v2_5_6_patch_int_signal/bin/sig_tchannel_lambda0p3//Events/html_lambda0p3_\"+str(mass) + \"_0.html\", \"r\") as myfile:\n",
    "        data=myfile.read()\n",
    "        \n",
    "    soup = BeautifulSoup(data) # Parse the HTML as a string\n",
    "    \n",
    "    for table in soup.find_all('table')[1:]:\n",
    "    \n",
    "        dp_sum = 0.\n",
    "        rest_sum = 0.\n",
    "\n",
    "        for row in table.find_all('tr'):\n",
    "            column_marker = 0\n",
    "            columns = row.find_all('td')\n",
    "\n",
    "            for icolumn, column in enumerate(columns):\n",
    "                graph_cxn = None\n",
    "                if icolumn == 0:\n",
    "                    graph_name = (column.get_text())\n",
    "                if icolumn == 1:\n",
    "                    graph_cxn = (column.get_text())\n",
    "                if graph_cxn is not None:\n",
    "#                     print graph_name, graph_cxn\n",
    "                    if float(graph_cxn) > 1e-17: \n",
    "                        \n",
    "                        good_graphs.append(graph_name)\n",
    "                    else:\n",
    "                        bad_graphs.append(graph_name)"
   ]
  },
  {
   "cell_type": "code",
   "execution_count": 200,
   "metadata": {
    "collapsed": false
   },
   "outputs": [],
   "source": [
    "masses = [100] + list(np.arange(300,2000, 100))+  list(np.arange(2000,7000, 500))"
   ]
  },
  {
   "cell_type": "code",
   "execution_count": 210,
   "metadata": {
    "collapsed": false
   },
   "outputs": [
    {
     "name": "stdout",
     "output_type": "stream",
     "text": [
      "100 0.481817422089\n",
      "300 0.601214295491\n",
      "400 0.623974070499\n",
      "500 0.649753352335\n",
      "600 0.67660141285\n",
      "700 0.702876818491\n",
      "800 0.729471506023\n",
      "900 0.755796363593\n",
      "1000 0.783212168215\n",
      "1100 0.807979065805\n",
      "1200 0.833507803667\n",
      "1300 0.856408637999\n",
      "1400 0.881362340573\n",
      "1500 0.897451668577\n",
      "1600 0.915594306995\n",
      "1700 0.928742980017\n",
      "1800 0.940974836956\n",
      "1900 0.950315164889\n",
      "2000 0.957447758594\n",
      "2500 0.981179037352\n",
      "3000 0.990449116762\n",
      "3500 0.995685712703\n",
      "4000 0.997828107608\n",
      "4500 0.998897495865\n",
      "5000 0.999305290423\n",
      "5500 0.999492057482\n",
      "6000 0.999568980155\n",
      "6500 0.99960072172\n"
     ]
    }
   ],
   "source": [
    "dp_frac = []\n",
    "dp_sum_ary = []\n",
    "\n",
    "for mass in masses:\n",
    "    with open (\"/group/hepheno/smsharma/Dark-Showers/MG5_aMC_v2_5_6_patch_int_signal/bin/sig_tchannel_lambda0p3//Events/html_lambda0p3_\"+str(mass) + \"_0.lhe\", \"r\") as myfile:\n",
    "        data=myfile.read()\n",
    "        \n",
    "    soup = BeautifulSoup(data) # Parse the HTML as a string\n",
    "    dp_sum = 0.\n",
    "    rest_sum = 0.\n",
    "    \n",
    "    for table in soup.find_all('table')[1:]:\n",
    "    \n",
    "\n",
    "\n",
    "        for row in table.find_all('tr'):\n",
    "            column_marker = 0\n",
    "            columns = row.find_all('td')\n",
    "\n",
    "            for icolumn, column in enumerate(columns):\n",
    "                graph_cxn = None\n",
    "                if icolumn == 0:\n",
    "                    graph_name = (column.get_text())\n",
    "                if icolumn == 1:\n",
    "                    graph_cxn = (column.get_text())\n",
    "                if graph_cxn is not None:\n",
    "#                     print graph_name, graph_cxn\n",
    "                    if graph_name in good_graphs:\n",
    "                        dp_sum += float(graph_cxn)\n",
    "                    else:\n",
    "                        rest_sum += float(graph_cxn)\n",
    "#                     print float(graph_cxn)\n",
    "    print mass, dp_sum/(dp_sum+rest_sum)\n",
    "#     print dp_sum,rest_sum\n",
    "\n",
    "    dp_sum_ary.append(dp_sum)\n",
    "    dp_frac.append(dp_sum/(dp_sum+rest_sum))"
   ]
  },
  {
   "cell_type": "code",
   "execution_count": 202,
   "metadata": {
    "collapsed": true
   },
   "outputs": [],
   "source": [
    "np.save(\"dp_sum_ary.npy\", dp_sum_ary)"
   ]
  },
  {
   "cell_type": "code",
   "execution_count": 203,
   "metadata": {
    "collapsed": true
   },
   "outputs": [],
   "source": [
    "masses = [100000]"
   ]
  },
  {
   "cell_type": "code",
   "execution_count": 204,
   "metadata": {
    "collapsed": false
   },
   "outputs": [],
   "source": [
    "\n",
    "good_graphs = []\n",
    "bad_graphs = []\n",
    "\n",
    "for mass in masses:\n",
    "    with open (\"/group/hepheno/smsharma/Dark-Showers/MG5_aMC_v2_5_6_patch_int_signal/bin/sig_tchannel_lambda1//Events/html_lambda0p3_\"+str(mass) + \"_0.html\", \"r\") as myfile:\n",
    "        data=myfile.read()\n",
    "        \n",
    "    soup = BeautifulSoup(data) # Parse the HTML as a string\n",
    "    \n",
    "    for table in soup.find_all('table')[1:]:\n",
    "    \n",
    "        dp_sum = 0.\n",
    "        rest_sum = 0.\n",
    "\n",
    "        for row in table.find_all('tr'):\n",
    "            column_marker = 0\n",
    "            columns = row.find_all('td')\n",
    "\n",
    "            for icolumn, column in enumerate(columns):\n",
    "                graph_cxn = None\n",
    "                if icolumn == 0:\n",
    "                    graph_name = (column.get_text())\n",
    "                if icolumn == 1:\n",
    "                    graph_cxn = (column.get_text())\n",
    "                if graph_cxn is not None:\n",
    "#                     print graph_name, graph_cxn\n",
    "                    if float(graph_cxn) > 1e-16: \n",
    "                        \n",
    "                        good_graphs.append(graph_name)\n",
    "                    else:\n",
    "                        bad_graphs.append(graph_name)"
   ]
  },
  {
   "cell_type": "code",
   "execution_count": 205,
   "metadata": {
    "collapsed": true
   },
   "outputs": [],
   "source": [
    "masses = [100] + list(np.arange(300,2000, 100))+  list(np.arange(2000,7000, 500))"
   ]
  },
  {
   "cell_type": "code",
   "execution_count": 206,
   "metadata": {
    "collapsed": false
   },
   "outputs": [
    {
     "name": "stdout",
     "output_type": "stream",
     "text": [
      "100 0.702942955665\n",
      "300 0.772851749462\n",
      "400 0.809291815112\n",
      "500 0.841258947435\n",
      "600 0.869055388437\n",
      "700 0.891132382958\n",
      "800 0.912591928775\n",
      "900 0.929385930746\n",
      "1000 0.941552556682\n",
      "1100 0.953014966492\n",
      "1200 0.961787773732\n",
      "1300 0.970037283367\n",
      "1400 0.976183520634\n",
      "1500 0.980809001585\n",
      "1600 0.984293094126\n",
      "1700 0.987234594116\n",
      "1800 0.989555424526\n",
      "1900 0.991586770936\n",
      "2000 0.993010618777\n",
      "2500 0.997095544744\n",
      "3000 0.998502056608\n",
      "3500 0.999136077699\n",
      "4000 0.999382361002\n",
      "4500 0.999482178014\n",
      "5000 0.999565482972\n",
      "5500 0.999601667072\n",
      "6000 0.999592869322\n",
      "6500 0.999600950805\n"
     ]
    }
   ],
   "source": [
    "dp_frac_lambda1 = []\n",
    "dp_sum_ary_lambda1 = []\n",
    "\n",
    "for mass in masses:\n",
    "    with open (\"/group/hepheno/smsharma/Dark-Showers/MG5_aMC_v2_5_6_patch_int_signal/bin/sig_tchannel_lambda1//Events/html_lambda0p3_\"+str(mass) + \"_0.html\", \"r\") as myfile:\n",
    "        data=myfile.read()\n",
    "        \n",
    "    soup = BeautifulSoup(data) # Parse the HTML as a string\n",
    "    dp_sum_lambda1 = 0.\n",
    "    rest_sum_lambda1 = 0.\n",
    "    \n",
    "    for table in soup.find_all('table')[1:]:\n",
    "    \n",
    "\n",
    "\n",
    "        for row in table.find_all('tr'):\n",
    "            column_marker = 0\n",
    "            columns = row.find_all('td')\n",
    "\n",
    "            for icolumn, column in enumerate(columns):\n",
    "                graph_cxn = None\n",
    "                if icolumn == 0:\n",
    "                    graph_name = (column.get_text())\n",
    "                if icolumn == 1:\n",
    "                    graph_cxn = (column.get_text())\n",
    "                if graph_cxn is not None:\n",
    "#                     print graph_name, graph_cxn\n",
    "                    if graph_name in good_graphs:\n",
    "                        dp_sum_lambda1 += float(graph_cxn)\n",
    "                    else:\n",
    "                        rest_sum_lambda1 += float(graph_cxn)\n",
    "#                     print float(graph_cxn)\n",
    "    print mass, dp_sum_lambda1/(dp_sum_lambda1+rest_sum_lambda1)\n",
    "#     print dp_sum,rest_sum\n",
    "\n",
    "    dp_sum_ary_lambda1.append(dp_sum_lambda1)\n",
    "    dp_frac_lambda1.append(dp_sum_lambda1/(dp_sum_lambda1+rest_sum_lambda1))"
   ]
  },
  {
   "cell_type": "code",
   "execution_count": 207,
   "metadata": {
    "collapsed": true
   },
   "outputs": [],
   "source": [
    "np.save(\"dp_sum_ary_lambda1.npy\", dp_sum_ary_lambda1)"
   ]
  },
  {
   "cell_type": "code",
   "execution_count": 215,
   "metadata": {
    "collapsed": false
   },
   "outputs": [
    {
     "data": {
      "image/png": "[encoded data removed]",
      "text/plain": [
       "<matplotlib.figure.Figure at 0x7f32d675ba10>"
      ]
     },
     "metadata": {},
     "output_type": "display_data"
    }
   ],
   "source": [
    "fig=plt.figure(figsize=(9,7.5))\n",
    "plot_colorsss=['cornflowerblue','mediumseagreen', 'firebrick','indigo','violet','maroon','darkgrey','lightpink','black','forestgreen','cornflowerblue', 'salmon','violet','goldenrod','maroon','darkgrey','lightpink']\n",
    "\n",
    "lw = 2.5\n",
    "\n",
    "\n",
    "plt.plot(masses, np.array(dp_frac)*1, color = 'k', label = \"$\\lambda = 0.3$\",lw=3, alpha=0.5, ls='--')\n",
    "plt.plot(masses, np.array(dp_frac_lambda1)*1, color = 'k', label = \"$\\lambda = 1$\",lw=3, alpha=0.5)\n",
    "\n",
    "\n",
    "plt.xscale(\"log\")\n",
    "plt.xlabel(\"$M_\\Phi$ [GeV]\",fontsize=fs_labels)\n",
    "plt.ylabel(\"$\\sigma_{pp\\\\rightarrow \\chi\\overline\\chi}/\\sigma_\\mathrm{tot}$\",fontsize=fs_labels)\n",
    "plt.ylim(0.2,1.2)\n",
    "plt.xlim(min(masses), max(masses))\n",
    "\n",
    "leg = plt.legend(bbox_to_anchor=(0, 0, 0.97, 0.95),\n",
    "           fontsize=fs_legend, ncol=1,frameon=False,\n",
    "           handletextpad=.5,\n",
    "           borderaxespad=0., loc='lower right')\n",
    "plt.tick_params(axis='both', which='major', labelsize=fs_ticks)\n",
    "\n",
    "title = \"$t$-channel\"\n",
    "plt.title(title, fontsize=fs_labels)\n",
    "ax = plt.gca()\n",
    "ttl = ax.title\n",
    "ttl.set_position([.5, 1.02])\n",
    "plt.tight_layout()\n",
    "\n",
    "plt.tick_params(axis='both', which='major', labelsize=fs_ticks)\n",
    "\n",
    "plt.axhline(1.,ls='--',lw=0.8, color='grey')\n",
    "\n",
    "plt.savefig(\"tchannel_direct_vs_cxn.pdf\")"
   ]
  },
  {
   "cell_type": "code",
   "execution_count": null,
   "metadata": {
    "collapsed": true
   },
   "outputs": [],
   "source": []
  }
 ],
 "metadata": {
  "anaconda-cloud": {},
  "kernelspec": {
   "display_name": "Python [conda env:venv_py27]",
   "language": "python",
   "name": "conda-env-venv_py27-py"
  },
  "language_info": {
   "codemirror_mode": {
    "name": "ipython",
    "version": 2
   },
   "file_extension": ".py",
   "mimetype": "text/x-python",
   "name": "python",
   "nbconvert_exporter": "python",
   "pygments_lexer": "ipython2",
   "version": "2.7.12"
  }
 },
 "nbformat": 4,
 "nbformat_minor": 1
}
