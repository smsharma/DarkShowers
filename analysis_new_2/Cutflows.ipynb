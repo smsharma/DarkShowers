{
 "cells": [
  {
   "cell_type": "code",
   "execution_count": 1,
   "metadata": {
    "collapsed": true
   },
   "outputs": [],
   "source": [
    "# Important necessary libraries\n",
    "import pandas as pd\n",
    "import numpy as np\n",
    "import matplotlib.pyplot as plt\n",
    "from __future__ import division\n",
    "from matplotlib.lines import Line2D\n",
    "from tqdm import *\n",
    "from itertools import compress\n",
    "from scipy.optimize import bisect\n",
    "import math\n",
    "%matplotlib inline  "
   ]
  },
  {
   "cell_type": "code",
   "execution_count": 2,
   "metadata": {
    "collapsed": true
   },
   "outputs": [],
   "source": [
    "def round_sigfigs(num, sig_figs):\n",
    "    \"\"\"Round to specified number of sigfigs.\n",
    "\n",
    "    >>> round_sigfigs(0, sig_figs=4)\n",
    "    0\n",
    "    >>> int(round_sigfigs(12345, sig_figs=2))\n",
    "    12000\n",
    "    >>> int(round_sigfigs(-12345, sig_figs=2))\n",
    "    -12000\n",
    "    >>> int(round_sigfigs(1, sig_figs=2))\n",
    "    1\n",
    "    >>> '{0:.3}'.format(round_sigfigs(3.1415, sig_figs=2))\n",
    "    '3.1'\n",
    "    >>> '{0:.3}'.format(round_sigfigs(-3.1415, sig_figs=2))\n",
    "    '-3.1'\n",
    "    >>> '{0:.5}'.format(round_sigfigs(0.00098765, sig_figs=2))\n",
    "    '0.00099'\n",
    "    >>> '{0:.6}'.format(round_sigfigs(0.00098765, sig_figs=3))\n",
    "    '0.000988'\n",
    "    \"\"\"\n",
    "    if num != 0:\n",
    "        return round(num, -int(math.floor(math.log10(abs(num))) - (sig_figs - 1)))\n",
    "    else:\n",
    "        return 0  # Can't take the log of 0\n"
   ]
  },
  {
   "cell_type": "code",
   "execution_count": 3,
   "metadata": {
    "collapsed": true
   },
   "outputs": [],
   "source": [
    "def combine_background_files(folder='../data/bkg_Zj/', lumi=37*1000, nfiles=200, cut=None,extra='', return_cxn = False, kf=1.0):\n",
    "    \"\"\" Read .evt and .meta files as output by monojet.C and \n",
    "        properly weigh events\n",
    "    \"\"\"\n",
    "    \n",
    "    evt_frames = [pd.read_csv(folder+'events_'+str(extra)+str(i)+'.evt', header=0, delimiter=',', skipinitialspace=True) for i in range(nfiles)]\n",
    "    good_frames = np.array([len(evt_frame) for evt_frame in evt_frames]) > 0\n",
    "    \n",
    "    evt_frames = list(compress(evt_frames, good_frames))\n",
    "    meta_frames = [pd.read_csv(folder+'events_'+str(extra)+str(i)+'.meta', header=0, delimiter=',', skipinitialspace=True) for i in compress(range(nfiles),good_frames)]\n",
    "    sum_weights = np.sum([meta_frame['sum_weight'] for meta_frame in meta_frames])\n",
    "    mean_cxn  = np.mean([meta_frame['cxn'] for meta_frame in meta_frames])\n",
    "    for evt_frame, meta_frame in zip(evt_frames, meta_frames):\n",
    "        evt_frame['weight'] *= (meta_frame['cxn']*lumi/sum_weights)[0]*5000*kf\n",
    "        \n",
    "    data = pd.concat(evt_frames)\n",
    "    \n",
    "    if cut is not None:\n",
    "        data = data.query(cut)\n",
    "    if return_cxn:\n",
    "        return data, mean_cxn\n",
    "    else:\n",
    "        return data"
   ]
  },
  {
   "cell_type": "code",
   "execution_count": 4,
   "metadata": {
    "collapsed": true
   },
   "outputs": [],
   "source": [
    "def to_str(num):\n",
    "    if .2 <= num <= .9:\n",
    "        return '{:.1g}'.format(num)[-2:]\n",
    "    elif num == 0:\n",
    "        return '0.0'\n",
    "    elif num == 0.99:\n",
    "        return '0.99'\n",
    "    elif num == 1:\n",
    "        return '1.0'\n",
    "    else:\n",
    "        return str(num)\n",
    "\n",
    "def combine_signal_files(folder='../data/bkg_Zj/', mphi = 1700, rinv = 1, lumi=37*1000, nfiles=2, cut = None,extra='', return_cxn = False):\n",
    "    \"\"\" Read .evt and .meta files as output by monojet.C and \n",
    "        properly weigh events\n",
    "    \"\"\"\n",
    "    \n",
    "    evt_frames = [pd.read_csv(folder+'events_'+str(extra)+str(mphi)+\"_\"+to_str(rinv)+\"_\"+str(i)+'.evt', header=0, delimiter=',', skipinitialspace=True) for i in range(nfiles)]\n",
    "    good_frames = np.array([len(evt_frame) for evt_frame in evt_frames]) > 0\n",
    "    \n",
    "    evt_frames = list(compress(evt_frames, good_frames))\n",
    "    meta_frames = [pd.read_csv(folder+'events_'+str(mphi)+\"_\"+to_str(rinv)+\"_\"+str(i)+'.meta', header=0, delimiter=',', skipinitialspace=True) for i in compress(range(nfiles),good_frames)]\n",
    "    sum_weights = np.sum([meta_frame['sum_weight'] for meta_frame in meta_frames])\n",
    "    mean_cxn  = np.mean([meta_frame['cxn'] for meta_frame in meta_frames])\n",
    "    for evt_frame, meta_frame in zip(evt_frames, meta_frames):\n",
    "        evt_frame['weight'] *= (meta_frame['cxn']*lumi/sum_weights)[0]\n",
    "\n",
    "\n",
    "        \n",
    "    data = pd.concat(evt_frames)\n",
    "    \n",
    "    if cut is not None:\n",
    "        data = data.query(cut)\n",
    "    if return_cxn:\n",
    "        return data, mean_cxn\n",
    "    else:\n",
    "        return data"
   ]
  },
  {
   "cell_type": "code",
   "execution_count": 27,
   "metadata": {
    "collapsed": true
   },
   "outputs": [],
   "source": [
    "def signif(s, b ):\n",
    "    return s/np.sqrt(s+b)"
   ]
  },
  {
   "cell_type": "code",
   "execution_count": 5,
   "metadata": {
    "collapsed": true
   },
   "outputs": [],
   "source": [
    "Zj_df = combine_background_files('../data/bkg_Zj/', nfiles=1000,kf=1.1)\n",
    "Wj_df = combine_background_files('../data/bkg_Wj/', nfiles=1000,kf=1.)\n",
    "tt_d_df = combine_background_files('../data/bkg_ttbar_dilep//', nfiles=1000,kf=1.7)\n",
    "tt_s_df = combine_background_files('../data/bkg_ttbar_semilep//', nfiles=1000,kf=1.7)\n",
    "QCD_df = combine_background_files('../data/bkg_qcd////', nfiles=2000,kf=1.0)\n",
    "\n",
    "tt_df = pd.concat([tt_d_df, tt_s_df])"
   ]
  },
  {
   "cell_type": "code",
   "execution_count": 135,
   "metadata": {
    "collapsed": true
   },
   "outputs": [],
   "source": [
    "def limit(sig,bkg):\n",
    "    if np.sum(sig)==0:\n",
    "        return 1e99\n",
    "    def func_root(x):\n",
    "        part1 = bkg > 20\n",
    "        part2 = np.logical_not(part1)\n",
    "        qcd_1 = bkg[part1]\n",
    "        qcd_2 = bkg[part2]\n",
    "        sig_1 = sig[part1]\n",
    "        sig_2 = sig[part2]\n",
    "\n",
    "        sig_t1 = (10**x)*sig_1\n",
    "        sig_t2 = (10**x)*sig_2\n",
    "        \n",
    "        sb1 = qcd_1 + sig_1\n",
    "        sb2 = qcd_2 + sig_2\n",
    "        \n",
    "        normpart = sig_t1**2/(2*(sb1+0.00000000002**2*qcd_1**2))\n",
    "        logpart = np.where(qcd_2 > 1e-3, -qcd_2*np.log(1+sig_t2/qcd_2), 0)\n",
    "        my_val = np.sum(normpart)+(np.sum(logpart)+np.sum(sig_t2)) - 2\n",
    "        return my_val\n",
    "    \n",
    "    \n",
    "    soln = bisect(func_root, -10.,20.)\n",
    "    return 10**soln"
   ]
  },
  {
   "cell_type": "code",
   "execution_count": 136,
   "metadata": {
    "collapsed": true
   },
   "outputs": [],
   "source": [
    "bkgs = [Zj_df, Wj_df, tt_df, QCD_df]"
   ]
  },
  {
   "cell_type": "code",
   "execution_count": 137,
   "metadata": {
    "collapsed": false
   },
   "outputs": [],
   "source": [
    "def get_bkg(bkg, cut=None):\n",
    "    if cut not in [None,'']:\n",
    "        new_bkg = bkg.query(cut)\n",
    "    else: \n",
    "        new_bkg = bkg\n",
    "    return np.sum(np.histogram(new_bkg['MEt'].values, weights=new_bkg['weight'].values)[0])\n",
    "\n",
    "def get_sig(sig, cut=None):\n",
    "    if cut not in [None,'']:\n",
    "        new_bkg = sig.query(cut)\n",
    "    else: \n",
    "        new_bkg = sig\n",
    "    return np.sum(np.histogram(new_bkg['MEt'].values, weights=new_bkg['weight'].values)[0])"
   ]
  },
  {
   "cell_type": "code",
   "execution_count": 38,
   "metadata": {
    "collapsed": false
   },
   "outputs": [],
   "source": [
    "bkgs_list = [get_bkg(bkg, 'MEt > 0 & dphi < 0.4') for bkg in bkgs]"
   ]
  },
  {
   "cell_type": "code",
   "execution_count": 39,
   "metadata": {
    "collapsed": true
   },
   "outputs": [],
   "source": [
    "masses = [100000]\n",
    "rinvs = [0.0, 0.01,0.1,.2,.3,.4,.5,.6,.7,.8,.9, 0.99, 1.0]"
   ]
  },
  {
   "cell_type": "code",
   "execution_count": 40,
   "metadata": {
    "collapsed": false
   },
   "outputs": [],
   "source": [
    "cuts = ['' for i in range(4)]\n",
    "trigger_presel = 'pt1 > 250 & MEt > 200'\n",
    "cuts[0] = ''\n",
    "cuts[1] = ' & MEt > 800'\n",
    "cuts[2] = ' & MEt > 800 & dphi < 0.4'\n",
    "cuts[3] = ' & MEt > 800 & dphi > 0.4'"
   ]
  },
  {
   "cell_type": "code",
   "execution_count": 41,
   "metadata": {
    "collapsed": false
   },
   "outputs": [],
   "source": [
    "bkg_cutflow = [[round_sigfigs(get_bkg(bkg, trigger_presel + cut),3) for bkg in bkgs] for cut in cuts]"
   ]
  },
  {
   "cell_type": "code",
   "execution_count": 69,
   "metadata": {
    "collapsed": true
   },
   "outputs": [],
   "source": [
    "rinvs = 0.1, 0.5, 0.9"
   ]
  },
  {
   "cell_type": "code",
   "execution_count": 70,
   "metadata": {
    "collapsed": true
   },
   "outputs": [],
   "source": [
    "sigs = [combine_signal_files('../data/sig_zprime/', 100000, rinv, extra = '' , nfiles=16, return_cxn=True)[0] for rinv in rinvs]\n",
    "cxns = [combine_signal_files('../data/sig_zprime/', 100000, rinv, extra = '' , nfiles=16, return_cxn=True)[1] for rinv in rinvs]"
   ]
  },
  {
   "cell_type": "code",
   "execution_count": 71,
   "metadata": {
    "collapsed": false
   },
   "outputs": [],
   "source": [
    "sig_cutflow = [[round_sigfigs(get_sig(sig,trigger_presel + cut)/cxn*1,3) for sig, cxn in zip(sigs, cxns)] for cut in cuts]"
   ]
  },
  {
   "cell_type": "code",
   "execution_count": 72,
   "metadata": {
    "collapsed": false
   },
   "outputs": [],
   "source": [
    "sig_cutflow_pd = pd.DataFrame(np.array(sig_cutflow).astype(np.int32))"
   ]
  },
  {
   "cell_type": "code",
   "execution_count": 73,
   "metadata": {
    "collapsed": false
   },
   "outputs": [],
   "source": [
    "bkg_cutflow_pd = pd.DataFrame(np.array(bkg_cutflow).astype(np.int32))"
   ]
  },
  {
   "cell_type": "code",
   "execution_count": 74,
   "metadata": {
    "collapsed": false
   },
   "outputs": [],
   "source": [
    "bk_sum = np.sum(bkg_cutflow, axis = 1)\n",
    "bkg_cutflow_pd['4'] = pd.Series(bk_sum, index=bkg_cutflow_pd.index).astype(np.int32)"
   ]
  },
  {
   "cell_type": "code",
   "execution_count": 75,
   "metadata": {
    "collapsed": false
   },
   "outputs": [],
   "source": [
    "sig_sigs = [[round(signif(sig_cutflow[i][j],bk_sum[i]),2) for i in range(len(cuts))] for j in range(len(rinvs))]"
   ]
  },
  {
   "cell_type": "code",
   "execution_count": 76,
   "metadata": {
    "collapsed": false
   },
   "outputs": [],
   "source": [
    "for i in range(len(np.transpose(sig_cutflow))):\n",
    "    sig_cutflow_pd.insert(2*i+1, 'sig'+str(i+1), sig_sigs[i]) "
   ]
  },
  {
   "cell_type": "code",
   "execution_count": 77,
   "metadata": {
    "collapsed": false
   },
   "outputs": [],
   "source": [
    "for i in range(len(cuts)):\n",
    "    for j in range(len(rinvs)):\n",
    "        sig_cutflow[i][j] = str(int(sig_cutflow[i][j]) )+\"(\"+str(np.transpose(sig_sigs)[i][j])+\")\""
   ]
  },
  {
   "cell_type": "code",
   "execution_count": 78,
   "metadata": {
    "collapsed": false
   },
   "outputs": [],
   "source": [
    "sig_cutflow_pd = pd.DataFrame(np.array(sig_cutflow))"
   ]
  },
  {
   "cell_type": "code",
   "execution_count": 79,
   "metadata": {
    "collapsed": true
   },
   "outputs": [],
   "source": [
    "sig_cutflow_pd = pd.DataFrame(np.array(sig_cutflow))\n",
    "bkg_cutflow_pd = pd.DataFrame(np.array(bkg_cutflow).astype(np.int32))"
   ]
  },
  {
   "cell_type": "code",
   "execution_count": 80,
   "metadata": {
    "collapsed": false
   },
   "outputs": [
    {
     "name": "stdout",
     "output_type": "stream",
     "text": [
      "\\begin{tabular}{llllrrrr}\n",
      "\\toprule\n",
      "{} &           0 &           1 &           2 &       0 &       1 &      2 &      3 \\\\\n",
      "\\midrule\n",
      "0 &  2000(2.58) &  4920(6.33) &  2340(3.02) &  225037 &  247273 &  68865 &  57311 \\\\\n",
      "1 &    43(1.01) &   174(3.94) &   108(2.49) &    1161 &     535 &     80 &      0 \\\\\n",
      "2 &     0(0.02) &    31(0.88) &     73(2.0) &    1051 &     209 &      8 &      0 \\\\\n",
      "3 &    42(1.81) &   142(5.57) &    35(1.51) &     109 &     326 &     72 &      0 \\\\\n",
      "\\bottomrule\n",
      "\\end{tabular}\n",
      "\n"
     ]
    }
   ],
   "source": [
    "print pd.concat([sig_cutflow_pd, bkg_cutflow_pd], axis = 1).to_latex()"
   ]
  },
  {
   "cell_type": "code",
   "execution_count": 138,
   "metadata": {
    "collapsed": true
   },
   "outputs": [],
   "source": [
    "benchmarks = [[0.5, 1500], [0.9, 2000]]"
   ]
  },
  {
   "cell_type": "code",
   "execution_count": 139,
   "metadata": {
    "collapsed": false
   },
   "outputs": [],
   "source": [
    "cuts = ['' for i in range(4)]\n",
    "trigger_presel = 'pt1 > 250 & MEt > 200'\n",
    "cuts[0] = ''\n",
    "cuts[1] = ' & MEt > 800'\n",
    "# cuts[2] = ' & pt2 > 120'\n",
    "# cuts[3] = ' & pt1 + pt2 + pt3 + pt4 > 800'\n",
    "cuts[2] = ' & dphi > 0.4'\n",
    "cuts[3] = ' & dphi < 0.4'\n",
    "\n",
    "for i in range(1,3):\n",
    "    cuts[i] += cuts[i-1]\n",
    "    \n",
    "cuts[3] += cuts[1]"
   ]
  },
  {
   "cell_type": "code",
   "execution_count": 140,
   "metadata": {
    "collapsed": false
   },
   "outputs": [
    {
     "data": {
      "text/plain": [
       "['', ' & MEt > 800', ' & dphi > 0.4 & MEt > 800', ' & dphi < 0.4 & MEt > 800']"
      ]
     },
     "execution_count": 140,
     "metadata": {},
     "output_type": "execute_result"
    }
   ],
   "source": [
    "cuts"
   ]
  },
  {
   "cell_type": "code",
   "execution_count": 141,
   "metadata": {
    "collapsed": true
   },
   "outputs": [],
   "source": [
    "bkg_cutflow = [[get_bkg(bkg, trigger_presel + cut) for bkg in bkgs] for cut in cuts]"
   ]
  },
  {
   "cell_type": "code",
   "execution_count": 142,
   "metadata": {
    "collapsed": false
   },
   "outputs": [],
   "source": [
    "sigs = [combine_signal_files('../data/sig_tchannel/', mass, rinv, extra = '' , nfiles=1, return_cxn=True)[0] for rinv, mass  in benchmarks]\n",
    "cxns = [combine_signal_files('../data/sig_tchannel/', mass, rinv, extra = '' , nfiles=1, return_cxn=True)[1] for rinv, mass in benchmarks]"
   ]
  },
  {
   "cell_type": "code",
   "execution_count": 143,
   "metadata": {
    "collapsed": true
   },
   "outputs": [],
   "source": [
    "sig_cutflow = [[get_sig(sig,trigger_presel + cut) for sig, cxn in zip(sigs, cxns)] for cut in cuts]"
   ]
  },
  {
   "cell_type": "code",
   "execution_count": 144,
   "metadata": {
    "collapsed": true
   },
   "outputs": [],
   "source": [
    "bk_sum = np.sum(bkg_cutflow, axis = 1)"
   ]
  },
  {
   "cell_type": "code",
   "execution_count": 145,
   "metadata": {
    "collapsed": false
   },
   "outputs": [],
   "source": [
    "sig_sigs = [[round(signif(sig_cutflow[i][j],bk_sum[i]),2) for i in range(len(cuts))] for j in range(len(benchmarks))]"
   ]
  },
  {
   "cell_type": "code",
   "execution_count": 146,
   "metadata": {
    "collapsed": true
   },
   "outputs": [],
   "source": [
    "for i in range(len(cuts)):\n",
    "    for j in range(len(benchmarks)):\n",
    "        sig_cutflow[i][j] = str(int(sig_cutflow[i][j]) )+\"(\"+str(np.transpose(sig_sigs)[i][j])+\")\""
   ]
  },
  {
   "cell_type": "code",
   "execution_count": 147,
   "metadata": {
    "collapsed": true
   },
   "outputs": [],
   "source": [
    "sig_cutflow_pd = pd.DataFrame(np.array(sig_cutflow))\n",
    "bkg_cutflow_pd = pd.DataFrame(np.array(bkg_cutflow).astype(np.int32))"
   ]
  },
  {
   "cell_type": "code",
   "execution_count": 148,
   "metadata": {
    "collapsed": true
   },
   "outputs": [],
   "source": [
    "bkg_cutflow_pd['4'] = pd.Series(bk_sum, index=bkg_cutflow_pd.index).astype(np.int32)"
   ]
  },
  {
   "cell_type": "code",
   "execution_count": 149,
   "metadata": {
    "collapsed": false,
    "scrolled": true
   },
   "outputs": [
    {
     "name": "stdout",
     "output_type": "stream",
     "text": [
      "\\begin{tabular}{lllrrrrr}\n",
      "\\toprule\n",
      "{} &          0 &         1 &       0 &       1 &      2 &      3 &       4 \\\\\n",
      "\\midrule\n",
      "0 &  2091(2.7) &  467(0.6) &  225037 &  247273 &  68865 &  57311 &  598487 \\\\\n",
      "1 &   50(1.17) &  96(2.22) &    1161 &     535 &     80 &      0 &    1777 \\\\\n",
      "2 &   13(0.38) &  64(1.77) &    1051 &     209 &      8 &      0 &    1268 \\\\\n",
      "3 &   36(1.57) &  31(1.35) &     109 &     326 &     72 &      0 &     508 \\\\\n",
      "\\bottomrule\n",
      "\\end{tabular}\n",
      "\n"
     ]
    }
   ],
   "source": [
    "print pd.concat([sig_cutflow_pd, bkg_cutflow_pd], axis = 1).to_latex()"
   ]
  },
  {
   "cell_type": "code",
   "execution_count": 130,
   "metadata": {
    "collapsed": false
   },
   "outputs": [],
   "source": [
    "benchmarks = [[0., 1500], [0.3, 1500]]"
   ]
  },
  {
   "cell_type": "code",
   "execution_count": 131,
   "metadata": {
    "collapsed": true
   },
   "outputs": [],
   "source": [
    "cuts = ['' for i in range(2)]\n",
    "trigger_presel = 'pt1 > 440 & pt2 > 60'\n",
    "cuts[0] = ''\n",
    "cuts[1] = ' & 1.2 > y1-y2 > -1.2'\n",
    "\n",
    "for i in range(1,2):\n",
    "    cuts[i] += cuts[i-1]\n",
    "    \n",
    "# cuts[5] += cuts[3]"
   ]
  },
  {
   "cell_type": "code",
   "execution_count": 132,
   "metadata": {
    "collapsed": false
   },
   "outputs": [],
   "source": [
    "bkg_cutflow = [[round_sigfigs(get_bkg(bkg, trigger_presel + cut),3) for bkg in bkgs] for cut in cuts]\n",
    "sigs = [combine_signal_files('../data/sig_zprime/', mass, rinv, extra = '' , nfiles=4, return_cxn=True)[0] for rinv, mass  in benchmarks]\n",
    "cxns = [combine_signal_files('../data/sig_zprime/', mass, rinv, extra = '' , nfiles=4, return_cxn=True)[1] for rinv, mass in benchmarks]"
   ]
  },
  {
   "cell_type": "code",
   "execution_count": 419,
   "metadata": {
    "collapsed": true
   },
   "outputs": [],
   "source": [
    "sig_cutflow = [[round_sigfigs(get_sig(sig,trigger_presel + cut),3) for sig, cxn in zip(sigs, cxns)] for cut in cuts]"
   ]
  },
  {
   "cell_type": "code",
   "execution_count": 420,
   "metadata": {
    "collapsed": true
   },
   "outputs": [],
   "source": [
    "bk_sum = np.sum(bkg_cutflow, axis = 1)"
   ]
  },
  {
   "cell_type": "code",
   "execution_count": 421,
   "metadata": {
    "collapsed": false
   },
   "outputs": [],
   "source": [
    "sig_sigs = [[round(signif(sig_cutflow[i][j],bk_sum[i]),2) for i in range(len(cuts))] for j in range(len(benchmarks))]"
   ]
  },
  {
   "cell_type": "code",
   "execution_count": 422,
   "metadata": {
    "collapsed": true
   },
   "outputs": [],
   "source": [
    "for i in range(len(cuts)):\n",
    "    for j in range(len(benchmarks)):\n",
    "        sig_cutflow[i][j] = str(int(sig_cutflow[i][j]) )+\"(\"+str(np.transpose(sig_sigs)[i][j])+\")\""
   ]
  },
  {
   "cell_type": "code",
   "execution_count": 423,
   "metadata": {
    "collapsed": true
   },
   "outputs": [],
   "source": [
    "sig_cutflow_pd = pd.DataFrame(np.array(sig_cutflow))\n",
    "bkg_cutflow_pd = pd.DataFrame(np.array(bkg_cutflow).astype(np.int32))"
   ]
  },
  {
   "cell_type": "code",
   "execution_count": 424,
   "metadata": {
    "collapsed": true
   },
   "outputs": [],
   "source": [
    "bkg_cutflow_pd['4'] = pd.Series(bk_sum, index=bkg_cutflow_pd.index).astype(np.int32)"
   ]
  },
  {
   "cell_type": "code",
   "execution_count": 425,
   "metadata": {
    "collapsed": false
   },
   "outputs": [
    {
     "name": "stdout",
     "output_type": "stream",
     "text": [
      "\\begin{tabular}{lllrrrrr}\n",
      "\\toprule\n",
      "{} &           0 &           1 &      0 &       1 &      2 &         3 &         4 \\\\\n",
      "\\midrule\n",
      "0 &   9860(1.8) &  6770(1.23) &  70900 &  143000 &  54100 &  29800000 &  30068000 \\\\\n",
      "1 &  6630(1.62) &  5060(1.24) &  41100 &   83200 &  36700 &  16500000 &  16661000 \\\\\n",
      "\\bottomrule\n",
      "\\end{tabular}\n",
      "\n"
     ]
    }
   ],
   "source": [
    "print pd.concat([sig_cutflow_pd, bkg_cutflow_pd], axis = 1).to_latex()"
   ]
  },
  {
   "cell_type": "code",
   "execution_count": 426,
   "metadata": {
    "collapsed": true
   },
   "outputs": [],
   "source": [
    "bkg_sum = pd.concat(bkgs)"
   ]
  },
  {
   "cell_type": "code",
   "execution_count": 427,
   "metadata": {
    "collapsed": false
   },
   "outputs": [
    {
     "data": {
      "image/png": "[encoded data removed]",
      "text/plain": [
       "<matplotlib.figure.Figure at 0x7ff6b1b129d0>"
      ]
     },
     "metadata": {},
     "output_type": "display_data"
    }
   ],
   "source": [
    "fig=plt.figure(figsize=(9,7))\n",
    "sig_cuts = [sig.query(trigger_presel + cuts[-1]) for sig in sigs]\n",
    "bkg_cut = bkg_sum.query(trigger_presel + cuts[-1])\n",
    "for isig, sig_cut in enumerate(sig_cuts):\n",
    "    plt.hist(sig_cut['mjj'], weights=10*sig_cut['weight'].values, histtype='step', bins = np.logspace(2,4,60), lw= 3, alpha=0.5, label = \"$M_{Z^\\prime} = $ \" + str(benchmarks[isig][1]) + \" GeV$, r_\\mathrm{inv}$ = \" + str(benchmarks[isig][0]), color=plot_colors[isig])\n",
    "plt.hist(bkg_cut['mjj'], weights=bkg_cut['weight'].values, histtype='step', bins = np.logspace(2,4,60), lw=3, alpha=0.5, color='black', label=\"Background\")\n",
    "plt.yscale(\"log\")\n",
    "plt.xscale(\"log\")\n",
    "plt.gca().set_xscale(\"log\")\n",
    "plt.xlim(700,10000)\n",
    "plt.ylabel(\"Events\", fontsize=26)\n",
    "plt.xlabel(\"$M_{jj}$ [GeV]\", fontsize=25)\n",
    "plt.ylim(1,1e7)\n",
    "leg = plt.legend(bbox_to_anchor=(0, 0, 0.97, 0.95),\n",
    "           fontsize=22, ncol=1,frameon=False,\n",
    "           handletextpad=.5,\n",
    "           borderaxespad=0., loc='upper right')\n",
    "plt.tick_params(axis='both', which='major', labelsize=25)\n",
    "plt.xticks([10**3,3*10**3,10**4],[\"$10^3$\",\"$3 \\\\times 10^3$\",\"$10^4$\"])\n",
    "plt.title(\"$M_{jj}$ resonance search\", fontsize=26)\n",
    "ax = plt.gca()\n",
    "ttl = ax.title\n",
    "ttl.set_position([.5, 1.02])\n",
    "plt.text(750,2,\"$\\mathcal L = 37~\\mathrm{fb}^{-1}$\",fontsize=23)\n",
    "plt.tight_layout()\n",
    "plt.savefig(\"ResSearch.pdf\")"
   ]
  },
  {
   "cell_type": "code",
   "execution_count": 428,
   "metadata": {
    "collapsed": false
   },
   "outputs": [],
   "source": [
    "Zj_df = combine_background_files('../data/bkg_Zj/', nfiles=1000, extra='reclustered_',kf=1.1)\n",
    "Wj_df = combine_background_files('../data/bkg_Wj/', nfiles=1000, extra='reclustered_',kf=1.)\n",
    "tt_d_df = combine_background_files('../data/bkg_ttbar_dilep//', nfiles=1000, extra='reclustered_',kf=1.7)\n",
    "tt_s_df = combine_background_files('../data/bkg_ttbar_semilep//', nfiles=1000, extra='reclustered_',kf=1.7)\n",
    "QCD_df = combine_background_files('../data/bkg_qcd//', nfiles=2000, extra='reclustered_',kf=1.)\n",
    "\n",
    "tt_df = pd.concat([tt_d_df,tt_s_df])"
   ]
  },
  {
   "cell_type": "code",
   "execution_count": 429,
   "metadata": {
    "collapsed": true
   },
   "outputs": [],
   "source": [
    "bkgs = [Zj_df, Wj_df, tt_df, QCD_df]"
   ]
  },
  {
   "cell_type": "code",
   "execution_count": 430,
   "metadata": {
    "collapsed": true
   },
   "outputs": [],
   "source": [
    "benchmarks = [[0.1, 2000], [0.5, 2000]]"
   ]
  },
  {
   "cell_type": "code",
   "execution_count": 431,
   "metadata": {
    "collapsed": false
   },
   "outputs": [],
   "source": [
    "cuts = ['' for i in range(4)]\n",
    "trigger_presel = 'pt2> 100 & MEt > 200'\n",
    "cuts[0] = ''\n",
    "cuts[1] = ' & MEt > .15*Mt'\n",
    "cuts[2] = ' & 1.1 > eta1-eta2 > -1.1'\n",
    "cuts[3] = ' & dphi < 0.4'\n",
    "\n",
    "\n",
    "for i in range(1,4):\n",
    "    cuts[i] += cuts[i-1]\n",
    "    \n",
    "# cuts[5] += cuts[3]"
   ]
  },
  {
   "cell_type": "code",
   "execution_count": 432,
   "metadata": {
    "collapsed": false
   },
   "outputs": [],
   "source": [
    "bkg_cutflow = [[round_sigfigs(get_bkg(bkg, trigger_presel + cut),3) for bkg in bkgs] for cut in cuts]\n",
    "sigs = [combine_signal_files('../data/sig_zprime/', mass, rinv, extra = 'reclustered_' , nfiles=4, return_cxn=True)[0] for rinv, mass  in benchmarks]\n",
    "cxns = [combine_signal_files('../data/sig_zprime/', mass, rinv, extra = 'reclustered_' , nfiles=4, return_cxn=True)[1] for rinv, mass in benchmarks]"
   ]
  },
  {
   "cell_type": "code",
   "execution_count": 433,
   "metadata": {
    "collapsed": true
   },
   "outputs": [],
   "source": [
    "sig_cutflow = [[round_sigfigs(get_sig(sig,trigger_presel + cut),3) for sig, cxn in zip(sigs, cxns)] for cut in cuts]"
   ]
  },
  {
   "cell_type": "code",
   "execution_count": 434,
   "metadata": {
    "collapsed": true
   },
   "outputs": [],
   "source": [
    "bk_sum = np.sum(bkg_cutflow, axis = 1)"
   ]
  },
  {
   "cell_type": "code",
   "execution_count": 435,
   "metadata": {
    "collapsed": false
   },
   "outputs": [],
   "source": [
    "sig_sigs = [[round(signif(sig_cutflow[i][j],bk_sum[i]),2) for i in range(len(cuts))] for j in range(len(benchmarks))]"
   ]
  },
  {
   "cell_type": "code",
   "execution_count": 436,
   "metadata": {
    "collapsed": true
   },
   "outputs": [],
   "source": [
    "for i in range(len(cuts)):\n",
    "    for j in range(len(benchmarks)):\n",
    "        sig_cutflow[i][j] = str(int(sig_cutflow[i][j]) )+\"(\"+str(np.transpose(sig_sigs)[i][j])+\")\""
   ]
  },
  {
   "cell_type": "code",
   "execution_count": 437,
   "metadata": {
    "collapsed": false
   },
   "outputs": [],
   "source": [
    "sig_cutflow_pd = pd.DataFrame(np.array(sig_cutflow))\n",
    "bkg_cutflow_pd = pd.DataFrame(np.array(bkg_cutflow).astype(np.int32))"
   ]
  },
  {
   "cell_type": "code",
   "execution_count": 438,
   "metadata": {
    "collapsed": true
   },
   "outputs": [],
   "source": [
    "bkg_cutflow_pd['4'] = pd.Series(bk_sum, index=bkg_cutflow_pd.index).astype(np.int32)"
   ]
  },
  {
   "cell_type": "code",
   "execution_count": 439,
   "metadata": {
    "collapsed": false
   },
   "outputs": [
    {
     "name": "stdout",
     "output_type": "stream",
     "text": [
      "\\begin{tabular}{lllrrrrr}\n",
      "\\toprule\n",
      "{} &          0 &           1 &       0 &       1 &      2 &      3 &       4 \\\\\n",
      "\\midrule\n",
      "0 &  634(1.03) &   1360(2.2) &  108000 &  141000 &  68100 &  64400 &  381500 \\\\\n",
      "1 &  403(0.69) &  1250(2.13) &  102000 &  131000 &  63700 &  46300 &  343000 \\\\\n",
      "2 &  250(0.58) &   756(1.75) &   51700 &   71200 &  38900 &  24900 &  186700 \\\\\n",
      "3 &  239(0.79) &   637(2.11) &   11100 &   33400 &  21800 &  24300 &   90600 \\\\\n",
      "\\bottomrule\n",
      "\\end{tabular}\n",
      "\n"
     ]
    }
   ],
   "source": [
    "print pd.concat([sig_cutflow_pd, bkg_cutflow_pd], axis = 1).to_latex()"
   ]
  },
  {
   "cell_type": "code",
   "execution_count": 440,
   "metadata": {
    "collapsed": true
   },
   "outputs": [],
   "source": [
    "plot_colors = ['cornflowerblue','firebrick']"
   ]
  },
  {
   "cell_type": "code",
   "execution_count": 441,
   "metadata": {
    "collapsed": true
   },
   "outputs": [],
   "source": [
    "bkg_sum = pd.concat(bkgs)"
   ]
  },
  {
   "cell_type": "code",
   "execution_count": 442,
   "metadata": {
    "collapsed": false
   },
   "outputs": [
    {
     "data": {
      "image/png": "[encoded data removed]",
      "text/plain": [
       "<matplotlib.figure.Figure at 0x7ff6b1b59850>"
      ]
     },
     "metadata": {},
     "output_type": "display_data"
    }
   ],
   "source": [
    "fig=plt.figure(figsize=(9,7))\n",
    "sig_cuts = [sig.query(trigger_presel + cuts[-1]) for sig in sigs]\n",
    "bkg_cut = bkg_sum.query(trigger_presel + cuts[-1])\n",
    "for isig, sig_cut in enumerate(sig_cuts):\n",
    "    plt.hist(sig_cut['Mt'], weights=sig_cut['weight'].values, histtype='step', bins = np.logspace(2,4,80), lw= 2.5, alpha=0.5, label = \"$M_{Z^\\prime} = $ \" + str(benchmarks[isig][1]) + \" GeV$, r_\\mathrm{inv}$ = \" + str(benchmarks[isig][0]), color=plot_colors[isig])\n",
    "    sig_plus_bkg = pd.concat([sig_cut, bkg_cut])    \n",
    "#     plt.hist(sig_plus_bkg['Mt'], weights=sig_plus_bkg['weight'], histtype='step', bins = np.linspace(100,8000,100), lw=2.5, alpha=0.5, color=plot_colors[isig])\n",
    "plt.hist(bkg_cut['Mt'], weights=bkg_cut['weight'].values, histtype='step', bins = np.logspace(2,4,80), lw=2.5, alpha=0.5, color='black', label=\"Background\")\n",
    "\n",
    "\n",
    "plt.yscale(\"log\")\n",
    "plt.xscale(\"log\")\n",
    "plt.gca().set_xscale(\"log\")\n",
    "plt.xlim(1000,10000)\n",
    "plt.ylabel(\"Events\", fontsize=24)\n",
    "plt.xlabel(\"$M_{T}$ [GeV]\", fontsize=23)\n",
    "plt.ylim(0.35,10**4)\n",
    "leg = plt.legend(bbox_to_anchor=(0, 0, 0.97, 0.95),\n",
    "           fontsize=20, ncol=1,frameon=False,\n",
    "           handletextpad=.5,\n",
    "           borderaxespad=0., loc='upper right')\n",
    "plt.tick_params(axis='both', which='major', labelsize=24)\n",
    "plt.title(\"$M_T$ resonance search\", fontsize=25)\n",
    "ax = plt.gca()\n",
    "ttl = ax.title\n",
    "ttl.set_position([.5, 1.02])\n",
    "plt.xticks([10**3,3*10**3,10**4],[\"$10^3$\",\"$3 \\\\times 10^3$\",\"$10^4$\"])\n",
    "plt.text(1070,0.55,\"$\\mathcal L = 37~\\mathrm{fb}^{-1}$\",fontsize=23)\n",
    "plt.tight_layout()\n",
    "plt.savefig(\"MTSearch.pdf\")"
   ]
  },
  {
   "cell_type": "code",
   "execution_count": null,
   "metadata": {
    "collapsed": true
   },
   "outputs": [],
   "source": []
  },
  {
   "cell_type": "code",
   "execution_count": null,
   "metadata": {
    "collapsed": true
   },
   "outputs": [],
   "source": []
  }
 ],
 "metadata": {
  "anaconda-cloud": {},
  "kernelspec": {
   "display_name": "Python [conda env:venv_py27]",
   "language": "python",
   "name": "conda-env-venv_py27-py"
  },
  "language_info": {
   "codemirror_mode": {
    "name": "ipython",
    "version": 2
   },
   "file_extension": ".py",
   "mimetype": "text/x-python",
   "name": "python",
   "nbconvert_exporter": "python",
   "pygments_lexer": "ipython2",
   "version": "2.7.12"
  }
 },
 "nbformat": 4,
 "nbformat_minor": 1
}
