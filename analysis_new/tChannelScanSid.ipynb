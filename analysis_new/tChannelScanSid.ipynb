{
 "cells": [
  {
   "cell_type": "code",
   "execution_count": 46,
   "metadata": {
    "collapsed": false
   },
   "outputs": [],
   "source": [
    "from math import *\n",
    "from numpy import sign\n",
    "from tqdm import *\n",
    "import numpy as np\n",
    "from scipy.interpolate import interp1d\n",
    "import scipy.integrate as integrate\n",
    "import scipy.optimize as optimize\n",
    "import matplotlib\n",
    "import matplotlib.cbook \n",
    "import matplotlib.pyplot as plt\n",
    "import pandas as pd\n",
    "import numpy.random as rand\n",
    "\n",
    "from matplotlib import rc\n",
    "\n",
    "%matplotlib inline  \n",
    "\n"
   ]
  },
  {
   "cell_type": "code",
   "execution_count": 37,
   "metadata": {
    "collapsed": false
   },
   "outputs": [],
   "source": [
    "mylumi=37*1000\n",
    "mycut='MEt > 800 & nj>= 2 & pt1 >100 & pt2>80 & pt4 > 50 & dphi < 0.4'\n",
    "\n",
    "def get_sig(mZ, rinv, b, cut=mycut, lumi=mylumi, folder='../gen/tChannelTotalFinal/'):\n",
    "    str1='{:d}'.format(mZ)\n",
    "    if rinv >= .1 and rinv <=.9:\n",
    "        str2='{:1.1f}'.format(rinv)  \n",
    "    elif rinv != 1:\n",
    "        str2='{:1.2f}'.format(rinv)\n",
    "    else:\n",
    "        str2='1.0'\n",
    "    strevt='tchannel_total_M' + str1 + '_rinv' + str2 + '.evt'\n",
    "    strmeta='tchannel_total_M' + str1 + '_rinv' + str2 + '.meta'\n",
    "    data_evt = pd.read_csv(folder+strevt, header=0, delimiter=',', skipinitialspace=True)\n",
    "    data_meta = pd.read_csv(folder+strmeta, header=0, delimiter=',', skipinitialspace=True)\n",
    "    data_evt = data_evt.query(cut)\n",
    "    cxn = data_meta['cxn']*1\n",
    "    scale=cxn*lumi/data_meta['nevt']\n",
    "    result, _ =np.histogram(np.asarray(data_evt['MEt']), bins=b,\n",
    "                            weights=np.repeat(scale[0],len(data_evt.index)))\n",
    "    # Apply a mask\n",
    "    return np.append(result, result[-1])\n",
    "\n",
    "\n",
    "mybins=10**np.linspace(log10(100),log10(8000),11) # MEt bins\n",
    "\n",
    "def readfile(name, folder='ntuple_Tchannel/', lumi=mylumi, cxn=None):\n",
    "    data = pd.read_csv(folder+name+'.evt', header=0, delimiter=',', skipinitialspace=True)\n",
    "    data.meta = pd.read_csv(folder+name+'.meta', header=0, delimiter=',', skipinitialspace=True)\n",
    "    if 'weight' in data.columns:\n",
    "        data['weight'] *= (data.meta['cxn']*lumi/data.meta['sum_weight'])[0]\n",
    "    else:\n",
    "        data['weight'] = (data.meta['cxn']*lumi / data.meta['nevt'])[0]  \n",
    "    if cxn is not None:\n",
    "        data['weight'] = (cxn*lumi / data.meta['nevt'])[0]  \n",
    "    return data\n",
    "\n",
    "bkg_files = ['bkg_ttbar_dilep_0',  'bkg_ttbar_semilep_0',  'bkg_Wj_0',  'bkg_Zj_0']\n",
    "\n",
    "bkg_files = ['bkg_Wj_0',  'bkg_Zj_0']\n",
    "\n",
    "bkg_files = [ readfile(f,folder='../analysis/BkgNtuplesWithMT/') for f in bkg_files ]\n",
    "\n",
    "def get_bkg(b, cut=mycut, lumi=mylumi):\n",
    "    bw = np.array(b[1:]-b[:-1])\n",
    "    bc = np.sqrt(b[1:]*b[:-1])\n",
    "    bkg_select=[ f.query(cut) for f in bkg_files ]\n",
    "    result = np.array( [ np.histogram( np.asarray(f['MEt']), bins=b,\n",
    "                            weights=f['weight'] )[0] for f in bkg_select ] )\n",
    "    result = np.sum(result, axis=0)\n",
    "    return np.append(result, result[-1])\n",
    "\n"
   ]
  },
  {
   "cell_type": "code",
   "execution_count": 39,
   "metadata": {
    "collapsed": true
   },
   "outputs": [],
   "source": [
    "rinv=np.array([.01,.1,.2,.3,.4,.5,.6,.7,.8,.9,1])\n",
    "#masses=[500,1000,2000,3000,4000,5000,7000,10000,20000,50000,100000] #[10000] #np.arange(300,3100,100)\n",
    "masses=[500,1000,2000,3000,4000]\n",
    "\n",
    "#basecut='MEt > 1000 & '\n",
    "cutlist=[]\n",
    "\n",
    "# scan over different cuts\n",
    "\n",
    "# for MEtcut in [0, 100, 200, 400, 600, 800, 1000, 1200]:\n",
    "#     for pt2cut in [100, 120, 140]:\n",
    "#         for HTcut in [0, 400]:\n",
    "#             for dphicut in ['dphi < 0.4', 'dphi > 0.4']:\n",
    "#                 c1 = 'MEt > ' + str(MEtcut) + ' & '\n",
    "#                 c2 = 'pt2 > ' + str(pt2cut) + ' & '\n",
    "#                 c3 = 'pt1 + pt2 + pt3 + pt4 > ' + str(HTcut) + ' & '\n",
    "#                 cutlist = cutlist + [ c1 + c2 + c3 + dphicut ]\n",
    "\n",
    "for MEtcut in [800, 1000, 1200]:\n",
    "    for pt2cut in [100, 120, 140, 180, 240]:\n",
    "        for HTcut in [0, 400]:\n",
    "            for dphicut in ['dphi < 0.4', 'dphi > 0.4']:\n",
    "                c1 = 'MEt > ' + str(MEtcut) + ' & '\n",
    "                c2 = 'pt2 > ' + str(pt2cut) + ' & '\n",
    "                c3 = 'pt1 + pt2 + pt3 + pt4 > ' + str(HTcut) + ' & '\n",
    "                cutlist = cutlist + [ c1 + c2 + c3 + dphicut ]\n",
    "\n",
    "\n",
    "result=np.zeros([len(rinv),len(masses)])\n",
    "cutindex=np.zeros([len(rinv),len(masses)],dtype=int)\n",
    "\n",
    "#get all the bkg first\n",
    "bkg_list=[ get_bkg(mybins, cut=c) for c in cutlist ]"
   ]
  },
  {
   "cell_type": "code",
   "execution_count": 44,
   "metadata": {
    "collapsed": true
   },
   "outputs": [],
   "source": [
    "def soverb(s,b):\n",
    "    return s/np.sqrt(s+b)"
   ]
  },
  {
   "cell_type": "code",
   "execution_count": 45,
   "metadata": {
    "collapsed": false
   },
   "outputs": [
    {
     "name": "stderr",
     "output_type": "stream",
     "text": [
      "\r",
      "0it [00:00, ?it/s]"
     ]
    },
    {
     "name": "stdout",
     "output_type": "stream",
     "text": [
      "0.10, 500, 0.784\n",
      "('optimal cut: ', 'MEt > 800 & pt2 > 100 & dphi < 0.4')\n",
      "0.20, 500, 1.537\n",
      "('optimal cut: ', 'MEt > 800 & pt2 > 100 & dphi > 0.4')\n",
      "0.30, 500, 2.156\n",
      "('optimal cut: ', 'MEt > 800 & pt2 > 100 & dphi < 0.4')\n",
      "0.40, 500, 1.495\n",
      "('optimal cut: ', 'MEt > 800 & pt2 > 100 & dphi > 0.4')\n",
      "0.50, 500, 5.891\n",
      "('optimal cut: ', 'MEt > 800 & pt2 > 120 & dphi > 0.4')\n",
      "0.60, 500, 5.212\n",
      "('optimal cut: ', 'MEt > 800 & pt2 > 120 & dphi > 0.4')\n",
      "0.70, 500, 6.151\n",
      "('optimal cut: ', 'MEt > 800 & pt2 > 120 & dphi < 0.4')\n",
      "0.80, 500, 9.343\n",
      "('optimal cut: ', 'MEt > 800 & pt2 > 140 & dphi > 0.4')\n",
      "0.90, 500, 7.065\n",
      "('optimal cut: ', 'MEt > 800 & pt2 > 120 & dphi > 0.4')\n"
     ]
    },
    {
     "name": "stderr",
     "output_type": "stream",
     "text": [
      "\r",
      "1it [01:03, 63.84s/it]"
     ]
    },
    {
     "name": "stdout",
     "output_type": "stream",
     "text": [
      "1.00, 500, 11.494\n",
      "('optimal cut: ', 'MEt > 800 & pt2 > 140 & dphi > 0.4')\n",
      "0.10, 1000, 0.366\n",
      "('optimal cut: ', 'MEt > 800 & pt2 > 100 & dphi < 0.4')\n",
      "0.20, 1000, 0.469\n",
      "('optimal cut: ', 'MEt > 800 & pt2 > 100 & dphi < 0.4')\n",
      "0.30, 1000, 1.102\n",
      "('optimal cut: ', 'MEt > 800 & pt2 > 100 & dphi > 0.4')\n",
      "0.40, 1000, 1.339\n",
      "('optimal cut: ', 'MEt > 800 & pt2 > 100 & dphi > 0.4')\n",
      "0.50, 1000, 1.618\n",
      "('optimal cut: ', 'MEt > 800 & pt2 > 100 & dphi > 0.4')\n",
      "0.60, 1000, 1.915\n",
      "('optimal cut: ', 'MEt > 800 & pt2 > 100 & dphi > 0.4')\n",
      "0.70, 1000, 2.507\n",
      "('optimal cut: ', 'MEt > 800 & pt2 > 100 & dphi < 0.4')\n",
      "0.80, 1000, 4.693\n",
      "('optimal cut: ', 'MEt > 800 & pt2 > 120 & dphi < 0.4')\n",
      "0.90, 1000, 5.765\n",
      "('optimal cut: ', 'MEt > 800 & pt2 > 120 & dphi > 0.4')\n"
     ]
    },
    {
     "name": "stderr",
     "output_type": "stream",
     "text": [
      "\r",
      "2it [01:42, 56.20s/it]"
     ]
    },
    {
     "name": "stdout",
     "output_type": "stream",
     "text": [
      "1.00, 1000, 9.922\n",
      "('optimal cut: ', 'MEt > 800 & pt2 > 140 & dphi > 0.4')\n",
      "0.10, 2000, 0.087\n",
      "('optimal cut: ', 'MEt > 800 & pt2 > 100 & dphi < 0.4')\n",
      "0.20, 2000, 0.134\n",
      "('optimal cut: ', 'MEt > 800 & pt2 > 100 & dphi < 0.4')\n",
      "0.30, 2000, 0.195\n",
      "('optimal cut: ', 'MEt > 800 & pt2 > 100 & dphi < 0.4')\n",
      "0.40, 2000, 0.267\n",
      "('optimal cut: ', 'MEt > 800 & pt2 > 100 & dphi < 0.4')\n",
      "0.50, 2000, 0.298\n",
      "('optimal cut: ', 'MEt > 800 & pt2 > 100 & dphi < 0.4')\n"
     ]
    },
    {
     "name": "stderr",
     "output_type": "stream",
     "text": [
      "\n"
     ]
    },
    {
     "ename": "KeyboardInterrupt",
     "evalue": "",
     "output_type": "error",
     "traceback": [
      "\u001b[0;31m---------------------------------------------------------------------------\u001b[0m",
      "\u001b[0;31mKeyboardInterrupt\u001b[0m                         Traceback (most recent call last)",
      "\u001b[0;32m<ipython-input-45-892eb7afdce5>\u001b[0m in \u001b[0;36m<module>\u001b[0;34m()\u001b[0m\n\u001b[1;32m      1\u001b[0m \u001b[0;32mfor\u001b[0m \u001b[0mim\u001b[0m\u001b[0;34m,\u001b[0m\u001b[0mm\u001b[0m \u001b[0;32min\u001b[0m \u001b[0mtqdm\u001b[0m\u001b[0;34m(\u001b[0m\u001b[0menumerate\u001b[0m\u001b[0;34m(\u001b[0m\u001b[0mmasses\u001b[0m\u001b[0;34m)\u001b[0m\u001b[0;34m)\u001b[0m\u001b[0;34m:\u001b[0m\u001b[0;34m\u001b[0m\u001b[0m\n\u001b[1;32m      2\u001b[0m     \u001b[0;32mfor\u001b[0m \u001b[0mir\u001b[0m\u001b[0;34m,\u001b[0m\u001b[0mr\u001b[0m \u001b[0;32min\u001b[0m \u001b[0menumerate\u001b[0m\u001b[0;34m(\u001b[0m\u001b[0mrinv\u001b[0m\u001b[0;34m[\u001b[0m\u001b[0;36m1\u001b[0m\u001b[0;34m:\u001b[0m\u001b[0;34m]\u001b[0m\u001b[0;34m)\u001b[0m\u001b[0;34m:\u001b[0m\u001b[0;34m\u001b[0m\u001b[0m\n\u001b[0;32m----> 3\u001b[0;31m         \u001b[0mtempresult\u001b[0m\u001b[0;34m=\u001b[0m\u001b[0mnp\u001b[0m\u001b[0;34m.\u001b[0m\u001b[0marray\u001b[0m\u001b[0;34m(\u001b[0m\u001b[0;34m[\u001b[0m \u001b[0msoverb\u001b[0m\u001b[0;34m(\u001b[0m\u001b[0mnp\u001b[0m\u001b[0;34m.\u001b[0m\u001b[0msum\u001b[0m\u001b[0;34m(\u001b[0m\u001b[0mget_sig\u001b[0m\u001b[0;34m(\u001b[0m\u001b[0mm\u001b[0m\u001b[0;34m,\u001b[0m\u001b[0mr\u001b[0m\u001b[0;34m,\u001b[0m \u001b[0mmybins\u001b[0m\u001b[0;34m,\u001b[0m \u001b[0mcut\u001b[0m\u001b[0;34m)\u001b[0m\u001b[0;34m)\u001b[0m\u001b[0;34m,\u001b[0m\u001b[0mnp\u001b[0m\u001b[0;34m.\u001b[0m\u001b[0msum\u001b[0m\u001b[0;34m(\u001b[0m\u001b[0mbkg_list\u001b[0m\u001b[0;34m[\u001b[0m\u001b[0mi\u001b[0m\u001b[0;34m]\u001b[0m\u001b[0;34m)\u001b[0m\u001b[0;34m)\u001b[0m \u001b[0;32mfor\u001b[0m \u001b[0mi\u001b[0m\u001b[0;34m,\u001b[0m\u001b[0mcut\u001b[0m \u001b[0;32min\u001b[0m \u001b[0menumerate\u001b[0m\u001b[0;34m(\u001b[0m\u001b[0mcutlist\u001b[0m\u001b[0;34m)\u001b[0m\u001b[0;34m]\u001b[0m\u001b[0;34m)\u001b[0m\u001b[0;34m\u001b[0m\u001b[0m\n\u001b[0m\u001b[1;32m      4\u001b[0m         \u001b[0;32mprint\u001b[0m\u001b[0;34m(\u001b[0m\u001b[0;34m\"{:1.2f}, {:d}, {:1.3f}\"\u001b[0m\u001b[0;34m.\u001b[0m\u001b[0mformat\u001b[0m\u001b[0;34m(\u001b[0m\u001b[0mr\u001b[0m\u001b[0;34m,\u001b[0m\u001b[0mm\u001b[0m\u001b[0;34m,\u001b[0m\u001b[0mnp\u001b[0m\u001b[0;34m.\u001b[0m\u001b[0mamax\u001b[0m\u001b[0;34m(\u001b[0m\u001b[0mtempresult\u001b[0m\u001b[0;34m)\u001b[0m\u001b[0;34m)\u001b[0m\u001b[0;34m)\u001b[0m\u001b[0;34m\u001b[0m\u001b[0m\n\u001b[1;32m      5\u001b[0m         \u001b[0mresult\u001b[0m\u001b[0;34m[\u001b[0m\u001b[0mir\u001b[0m\u001b[0;34m,\u001b[0m \u001b[0mim\u001b[0m\u001b[0;34m]\u001b[0m\u001b[0;34m=\u001b[0m\u001b[0mnp\u001b[0m\u001b[0;34m.\u001b[0m\u001b[0mamax\u001b[0m\u001b[0;34m(\u001b[0m\u001b[0mtempresult\u001b[0m\u001b[0;34m)\u001b[0m\u001b[0;34m\u001b[0m\u001b[0m\n",
      "\u001b[0;32m<ipython-input-37-a62792761866>\u001b[0m in \u001b[0;36mget_sig\u001b[0;34m(mZ, rinv, b, cut, lumi, folder)\u001b[0m\n\u001b[1;32m     12\u001b[0m     \u001b[0mstrevt\u001b[0m\u001b[0;34m=\u001b[0m\u001b[0;34m'tchannel_total_M'\u001b[0m \u001b[0;34m+\u001b[0m \u001b[0mstr1\u001b[0m \u001b[0;34m+\u001b[0m \u001b[0;34m'_rinv'\u001b[0m \u001b[0;34m+\u001b[0m \u001b[0mstr2\u001b[0m \u001b[0;34m+\u001b[0m \u001b[0;34m'.evt'\u001b[0m\u001b[0;34m\u001b[0m\u001b[0m\n\u001b[1;32m     13\u001b[0m     \u001b[0mstrmeta\u001b[0m\u001b[0;34m=\u001b[0m\u001b[0;34m'tchannel_total_M'\u001b[0m \u001b[0;34m+\u001b[0m \u001b[0mstr1\u001b[0m \u001b[0;34m+\u001b[0m \u001b[0;34m'_rinv'\u001b[0m \u001b[0;34m+\u001b[0m \u001b[0mstr2\u001b[0m \u001b[0;34m+\u001b[0m \u001b[0;34m'.meta'\u001b[0m\u001b[0;34m\u001b[0m\u001b[0m\n\u001b[0;32m---> 14\u001b[0;31m     \u001b[0mdata_evt\u001b[0m \u001b[0;34m=\u001b[0m \u001b[0mpd\u001b[0m\u001b[0;34m.\u001b[0m\u001b[0mread_csv\u001b[0m\u001b[0;34m(\u001b[0m\u001b[0mfolder\u001b[0m\u001b[0;34m+\u001b[0m\u001b[0mstrevt\u001b[0m\u001b[0;34m,\u001b[0m \u001b[0mheader\u001b[0m\u001b[0;34m=\u001b[0m\u001b[0;36m0\u001b[0m\u001b[0;34m,\u001b[0m \u001b[0mdelimiter\u001b[0m\u001b[0;34m=\u001b[0m\u001b[0;34m','\u001b[0m\u001b[0;34m,\u001b[0m \u001b[0mskipinitialspace\u001b[0m\u001b[0;34m=\u001b[0m\u001b[0mTrue\u001b[0m\u001b[0;34m)\u001b[0m\u001b[0;34m\u001b[0m\u001b[0m\n\u001b[0m\u001b[1;32m     15\u001b[0m     \u001b[0mdata_meta\u001b[0m \u001b[0;34m=\u001b[0m \u001b[0mpd\u001b[0m\u001b[0;34m.\u001b[0m\u001b[0mread_csv\u001b[0m\u001b[0;34m(\u001b[0m\u001b[0mfolder\u001b[0m\u001b[0;34m+\u001b[0m\u001b[0mstrmeta\u001b[0m\u001b[0;34m,\u001b[0m \u001b[0mheader\u001b[0m\u001b[0;34m=\u001b[0m\u001b[0;36m0\u001b[0m\u001b[0;34m,\u001b[0m \u001b[0mdelimiter\u001b[0m\u001b[0;34m=\u001b[0m\u001b[0;34m','\u001b[0m\u001b[0;34m,\u001b[0m \u001b[0mskipinitialspace\u001b[0m\u001b[0;34m=\u001b[0m\u001b[0mTrue\u001b[0m\u001b[0;34m)\u001b[0m\u001b[0;34m\u001b[0m\u001b[0m\n\u001b[1;32m     16\u001b[0m     \u001b[0mdata_evt\u001b[0m \u001b[0;34m=\u001b[0m \u001b[0mdata_evt\u001b[0m\u001b[0;34m.\u001b[0m\u001b[0mquery\u001b[0m\u001b[0;34m(\u001b[0m\u001b[0mcut\u001b[0m\u001b[0;34m)\u001b[0m\u001b[0;34m\u001b[0m\u001b[0m\n",
      "\u001b[0;32m/group/hepheno/heptools/anaconda3/envs/venv_py27/lib/python2.7/site-packages/pandas/io/parsers.pyc\u001b[0m in \u001b[0;36mparser_f\u001b[0;34m(filepath_or_buffer, sep, delimiter, header, names, index_col, usecols, squeeze, prefix, mangle_dupe_cols, dtype, engine, converters, true_values, false_values, skipinitialspace, skiprows, skipfooter, nrows, na_values, keep_default_na, na_filter, verbose, skip_blank_lines, parse_dates, infer_datetime_format, keep_date_col, date_parser, dayfirst, iterator, chunksize, compression, thousands, decimal, lineterminator, quotechar, quoting, escapechar, comment, encoding, dialect, tupleize_cols, error_bad_lines, warn_bad_lines, skip_footer, doublequote, delim_whitespace, as_recarray, compact_ints, use_unsigned, low_memory, buffer_lines, memory_map, float_precision)\u001b[0m\n\u001b[1;32m    560\u001b[0m                     skip_blank_lines=skip_blank_lines)\n\u001b[1;32m    561\u001b[0m \u001b[0;34m\u001b[0m\u001b[0m\n\u001b[0;32m--> 562\u001b[0;31m         \u001b[0;32mreturn\u001b[0m \u001b[0m_read\u001b[0m\u001b[0;34m(\u001b[0m\u001b[0mfilepath_or_buffer\u001b[0m\u001b[0;34m,\u001b[0m \u001b[0mkwds\u001b[0m\u001b[0;34m)\u001b[0m\u001b[0;34m\u001b[0m\u001b[0m\n\u001b[0m\u001b[1;32m    563\u001b[0m \u001b[0;34m\u001b[0m\u001b[0m\n\u001b[1;32m    564\u001b[0m     \u001b[0mparser_f\u001b[0m\u001b[0;34m.\u001b[0m\u001b[0m__name__\u001b[0m \u001b[0;34m=\u001b[0m \u001b[0mname\u001b[0m\u001b[0;34m\u001b[0m\u001b[0m\n",
      "\u001b[0;32m/group/hepheno/heptools/anaconda3/envs/venv_py27/lib/python2.7/site-packages/pandas/io/parsers.pyc\u001b[0m in \u001b[0;36m_read\u001b[0;34m(filepath_or_buffer, kwds)\u001b[0m\n\u001b[1;32m    323\u001b[0m         \u001b[0;32mreturn\u001b[0m \u001b[0mparser\u001b[0m\u001b[0;34m\u001b[0m\u001b[0m\n\u001b[1;32m    324\u001b[0m \u001b[0;34m\u001b[0m\u001b[0m\n\u001b[0;32m--> 325\u001b[0;31m     \u001b[0;32mreturn\u001b[0m \u001b[0mparser\u001b[0m\u001b[0;34m.\u001b[0m\u001b[0mread\u001b[0m\u001b[0;34m(\u001b[0m\u001b[0;34m)\u001b[0m\u001b[0;34m\u001b[0m\u001b[0m\n\u001b[0m\u001b[1;32m    326\u001b[0m \u001b[0;34m\u001b[0m\u001b[0m\n\u001b[1;32m    327\u001b[0m _parser_defaults = {\n",
      "\u001b[0;32m/group/hepheno/heptools/anaconda3/envs/venv_py27/lib/python2.7/site-packages/pandas/io/parsers.pyc\u001b[0m in \u001b[0;36mread\u001b[0;34m(self, nrows)\u001b[0m\n\u001b[1;32m    813\u001b[0m                 \u001b[0;32mraise\u001b[0m \u001b[0mValueError\u001b[0m\u001b[0;34m(\u001b[0m\u001b[0;34m'skip_footer not supported for iteration'\u001b[0m\u001b[0;34m)\u001b[0m\u001b[0;34m\u001b[0m\u001b[0m\n\u001b[1;32m    814\u001b[0m \u001b[0;34m\u001b[0m\u001b[0m\n\u001b[0;32m--> 815\u001b[0;31m         \u001b[0mret\u001b[0m \u001b[0;34m=\u001b[0m \u001b[0mself\u001b[0m\u001b[0;34m.\u001b[0m\u001b[0m_engine\u001b[0m\u001b[0;34m.\u001b[0m\u001b[0mread\u001b[0m\u001b[0;34m(\u001b[0m\u001b[0mnrows\u001b[0m\u001b[0;34m)\u001b[0m\u001b[0;34m\u001b[0m\u001b[0m\n\u001b[0m\u001b[1;32m    816\u001b[0m \u001b[0;34m\u001b[0m\u001b[0m\n\u001b[1;32m    817\u001b[0m         \u001b[0;32mif\u001b[0m \u001b[0mself\u001b[0m\u001b[0;34m.\u001b[0m\u001b[0moptions\u001b[0m\u001b[0;34m.\u001b[0m\u001b[0mget\u001b[0m\u001b[0;34m(\u001b[0m\u001b[0;34m'as_recarray'\u001b[0m\u001b[0;34m)\u001b[0m\u001b[0;34m:\u001b[0m\u001b[0;34m\u001b[0m\u001b[0m\n",
      "\u001b[0;32m/group/hepheno/heptools/anaconda3/envs/venv_py27/lib/python2.7/site-packages/pandas/io/parsers.pyc\u001b[0m in \u001b[0;36mread\u001b[0;34m(self, nrows)\u001b[0m\n\u001b[1;32m   1312\u001b[0m     \u001b[0;32mdef\u001b[0m \u001b[0mread\u001b[0m\u001b[0;34m(\u001b[0m\u001b[0mself\u001b[0m\u001b[0;34m,\u001b[0m \u001b[0mnrows\u001b[0m\u001b[0;34m=\u001b[0m\u001b[0mNone\u001b[0m\u001b[0;34m)\u001b[0m\u001b[0;34m:\u001b[0m\u001b[0;34m\u001b[0m\u001b[0m\n\u001b[1;32m   1313\u001b[0m         \u001b[0;32mtry\u001b[0m\u001b[0;34m:\u001b[0m\u001b[0;34m\u001b[0m\u001b[0m\n\u001b[0;32m-> 1314\u001b[0;31m             \u001b[0mdata\u001b[0m \u001b[0;34m=\u001b[0m \u001b[0mself\u001b[0m\u001b[0;34m.\u001b[0m\u001b[0m_reader\u001b[0m\u001b[0;34m.\u001b[0m\u001b[0mread\u001b[0m\u001b[0;34m(\u001b[0m\u001b[0mnrows\u001b[0m\u001b[0;34m)\u001b[0m\u001b[0;34m\u001b[0m\u001b[0m\n\u001b[0m\u001b[1;32m   1315\u001b[0m         \u001b[0;32mexcept\u001b[0m \u001b[0mStopIteration\u001b[0m\u001b[0;34m:\u001b[0m\u001b[0;34m\u001b[0m\u001b[0m\n\u001b[1;32m   1316\u001b[0m             \u001b[0;32mif\u001b[0m \u001b[0mself\u001b[0m\u001b[0;34m.\u001b[0m\u001b[0m_first_chunk\u001b[0m\u001b[0;34m:\u001b[0m\u001b[0;34m\u001b[0m\u001b[0m\n",
      "\u001b[0;31mKeyboardInterrupt\u001b[0m: "
     ]
    }
   ],
   "source": [
    "for im,m in tqdm(enumerate(masses)):\n",
    "    for ir,r in enumerate(rinv[1:]):\n",
    "        tempresult=np.array([ soverb(np.sum(get_sig(m,r, mybins, cut)),np.sum(bkg_list[i])) for i,cut in enumerate(cutlist)])\n",
    "        print(\"{:1.2f}, {:d}, {:1.3f}\".format(r,m,np.amax(tempresult)))\n",
    "        result[ir, im]=np.amax(tempresult)\n",
    "        cutindex[ir, im]=np.amax(tempresult)\n",
    "        print(\"optimal cut: \",cutlist[cutindex[ir,im]])\n",
    "\n"
   ]
  },
  {
   "cell_type": "code",
   "execution_count": 38,
   "metadata": {
    "collapsed": false
   },
   "outputs": [
    {
     "name": "stdout",
     "output_type": "stream",
     "text": [
      "0.00106705412157 168.962793474\n",
      "6.31532007507e-06 8.20901231276e-05 8.20898639162e-05\n"
     ]
    }
   ],
   "source": [
    "cut = 'MEt > 1000 & dphi > .4 & pt1 > 250'\n",
    "\n",
    "s = np.sum(get_sig(10000,.3, mybins, cut))\n",
    "b = np.sum(get_bkg(mybins, cut))\n",
    "           \n",
    "print s, b\n",
    "print s/b, s/np.sqrt(b), s/np.sqrt(s+b)"
   ]
  },
  {
   "cell_type": "code",
   "execution_count": 76,
   "metadata": {
    "collapsed": false
   },
   "outputs": [
    {
     "data": {
      "text/plain": [
       "array([ 4393.21744869,  2884.95887635,  1660.5346782 ,   678.50917918,\n",
       "         125.34291707,    10.35891877,     0.        ,     0.        ,\n",
       "           0.        ,     0.        ,     0.        ])"
      ]
     },
     "execution_count": 76,
     "metadata": {},
     "output_type": "execute_result"
    }
   ],
   "source": [
    "get_sig(1000,.3,mybins,cut='MEt > 0')"
   ]
  },
  {
   "cell_type": "code",
   "execution_count": 51,
   "metadata": {
    "collapsed": false,
    "scrolled": true
   },
   "outputs": [
    {
     "name": "stdout",
     "output_type": "stream",
     "text": [
      "[ -562.64870275   361.25432303   575.04213427   999.49973788   880.12114143\n",
      "  1016.45005753  1045.41825667  1160.18431481  1304.82058836  1509.03279654\n",
      "  1502.94414221  2500.        ]\n",
      "[    0.             0.           575.04213427   999.49973788   880.12114143\n",
      "  1016.45005753  1045.41825667  1160.18431481  1304.82058836  1509.03279654\n",
      "  1502.94414221  2500.        ]\n"
     ]
    },
    {
     "name": "stderr",
     "output_type": "stream",
     "text": [
      "/group/hepheno/heptools/anaconda3/envs/venv_py27/lib/python2.7/site-packages/scipy/optimize/minpack.py:161: RuntimeWarning: The iteration is not making good progress, as measured by the \n",
      "  improvement from the last five Jacobian evaluations.\n",
      "  warnings.warn(msg, RuntimeWarning)\n"
     ]
    },
    {
     "data": {
      "image/png": "[encoded data removed]",
      "text/plain": [
       "<matplotlib.figure.Figure at 0x7f1190edf510>"
      ]
     },
     "metadata": {},
     "output_type": "display_data"
    }
   ],
   "source": [
    "from scipy.optimize import fsolve\n",
    "\n",
    "mass_limit=np.zeros(len(rinv))\n",
    "for i,r in enumerate(rinv):\n",
    "    mymass = np.insert(masses,0,0)\n",
    "    masslist = np.insert(result[i],0,0)    \n",
    "    mass_limit[i] = fsolve(lambda mZ: 1-np.interp(mZ, mymass, masslist), 2500)[0]\n",
    "\n",
    "final_limit=mass_limit\n",
    "print(mass_limit)\n",
    "\n",
    "\n",
    "final_limit[0]=0\n",
    "final_limit[1]=0\n",
    "cutoff = final_limit/sqrt(.1)\n",
    "plt.plot(rinv,final_limit)\n",
    "print(final_limit)"
   ]
  },
  {
   "cell_type": "code",
   "execution_count": 52,
   "metadata": {
    "collapsed": false
   },
   "outputs": [
    {
     "data": {
      "text/plain": [
       "[<matplotlib.lines.Line2D at 0x7f1190bd5250>]"
      ]
     },
     "execution_count": 52,
     "metadata": {},
     "output_type": "execute_result"
    },
    {
     "data": {
      "image/png": "[encoded data removed]",
      "text/plain": [
       "<matplotlib.figure.Figure at 0x7f1191095350>"
      ]
     },
     "metadata": {},
     "output_type": "display_data"
    }
   ],
   "source": [
    "plt.plot(rinv,cutoff)"
   ]
  },
  {
   "cell_type": "code",
   "execution_count": 59,
   "metadata": {
    "collapsed": false
   },
   "outputs": [],
   "source": [
    "df = pd.read_csv(\"../gen/tChannelTotalFinal/tchannel_total_M500_rinv1.0.evt\", header=0, delimiter=',', skipinitialspace=True)"
   ]
  },
  {
   "cell_type": "code",
   "execution_count": 65,
   "metadata": {
    "collapsed": false
   },
   "outputs": [
    {
     "data": {
      "text/plain": [
       "<matplotlib.text.Text at 0x7f02202b5dd0>"
      ]
     },
     "execution_count": 65,
     "metadata": {},
     "output_type": "execute_result"
    },
    {
     "data": {
      "image/png": "[encoded data removed]",
      "text/plain": [
       "<matplotlib.figure.Figure at 0x7f0221cf8790>"
      ]
     },
     "metadata": {},
     "output_type": "display_data"
    }
   ],
   "source": [
    "plt.hist(df['pt1'], histtype='step')\n",
    "plt.yscale(\"log\")\n",
    "plt.xlabel(\"$p_{T,1}$\")"
   ]
  },
  {
   "cell_type": "code",
   "execution_count": 69,
   "metadata": {
    "collapsed": false
   },
   "outputs": [
    {
     "data": {
      "text/plain": [
       "<matplotlib.text.Text at 0x7f01ea09fb90>"
      ]
     },
     "execution_count": 69,
     "metadata": {},
     "output_type": "execute_result"
    },
    {
     "data": {
      "image/png": "[encoded data removed]",
      "text/plain": [
       "<matplotlib.figure.Figure at 0x7f0220111590>"
      ]
     },
     "metadata": {},
     "output_type": "display_data"
    }
   ],
   "source": [
    "plt.hist(df['pt1']+df['pt2']+df['pt3']+df['pt4'], histtype='step', color='forestgreen')\n",
    "plt.yscale(\"log\")\n",
    "plt.xlabel(\"$H_{T}$\")"
   ]
  },
  {
   "cell_type": "code",
   "execution_count": null,
   "metadata": {
    "collapsed": true
   },
   "outputs": [],
   "source": []
  }
 ],
 "metadata": {
  "anaconda-cloud": {},
  "celltoolbar": "Raw Cell Format",
  "kernelspec": {
   "display_name": "Python [conda env:venv_py27]",
   "language": "python",
   "name": "conda-env-venv_py27-py"
  },
  "language_info": {
   "codemirror_mode": {
    "name": "ipython",
    "version": 2
   },
   "file_extension": ".py",
   "mimetype": "text/x-python",
   "name": "python",
   "nbconvert_exporter": "python",
   "pygments_lexer": "ipython2",
   "version": "2.7.12"
  }
 },
 "nbformat": 4,
 "nbformat_minor": 0
}
