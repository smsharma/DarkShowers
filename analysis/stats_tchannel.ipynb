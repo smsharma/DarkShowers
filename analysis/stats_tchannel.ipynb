{
 "cells": [
  {
   "cell_type": "code",
   "execution_count": 1,
   "metadata": {
    "collapsed": false
   },
   "outputs": [
    {
     "name": "stderr",
     "output_type": "stream",
     "text": [
      "/usr/local/lib/python2.7/dist-packages/matplotlib/font_manager.py:273: UserWarning: Matplotlib is building the font cache using fc-list. This may take a moment.\n",
      "  warnings.warn('Matplotlib is building the font cache using fc-list. This may take a moment.')\n"
     ]
    }
   ],
   "source": [
    "from math import *\n",
    "from numpy import sign\n",
    "\n",
    "import numpy as np\n",
    "from scipy.interpolate import interp1d\n",
    "import scipy.integrate as integrate\n",
    "import scipy.optimize as optimize\n",
    "import matplotlib\n",
    "import matplotlib.cbook \n",
    "import matplotlib.pyplot as plt\n",
    "import pandas as pd\n",
    "import numpy.random as rand\n",
    "\n",
    "from matplotlib import rc\n",
    "\n",
    "\n",
    "rc('text', usetex=True)\n",
    "rc('xtick.major', size=5, pad=7)\n",
    "rc('xtick', labelsize=20)\n",
    "rc('ytick.major', size=5, pad=7)\n",
    "rc('ytick', labelsize=20)\n",
    "\n",
    "matplotlib.rcParams['text.latex.preamble'] = [\n",
    "    r'\\usepackage{graphics,graphicx,rotating}'\n",
    "]\n",
    "\n",
    "%matplotlib inline  \n",
    "\n"
   ]
  },
  {
   "cell_type": "code",
   "execution_count": 2,
   "metadata": {
    "collapsed": false
   },
   "outputs": [
    {
     "data": {
      "text/plain": [
       "['ntuple_Tchannel/tchannel_up_1000_rinv0.01.evt',\n",
       " 'ntuple_Tchannel/tchannel_up_1000_rinv0.1.evt',\n",
       " 'ntuple_Tchannel/tchannel_up_1000_rinv0.2.evt',\n",
       " 'ntuple_Tchannel/tchannel_up_1000_rinv0.3.evt',\n",
       " 'ntuple_Tchannel/tchannel_up_1000_rinv0.4.evt',\n",
       " 'ntuple_Tchannel/tchannel_up_1000_rinv0.5.evt',\n",
       " 'ntuple_Tchannel/tchannel_up_1000_rinv0.6.evt',\n",
       " 'ntuple_Tchannel/tchannel_up_1000_rinv0.7.evt',\n",
       " 'ntuple_Tchannel/tchannel_up_1000_rinv0.8.evt',\n",
       " 'ntuple_Tchannel/tchannel_up_1000_rinv0.98.evt',\n",
       " 'ntuple_Tchannel/tchannel_up_1000_rinv0.99.evt',\n",
       " 'ntuple_Tchannel/tchannel_up_1000_rinv0.9.evt',\n",
       " 'ntuple_Tchannel/tchannel_up_1000_rinv1.0.evt']"
      ]
     },
     "execution_count": 2,
     "metadata": {},
     "output_type": "execute_result"
    }
   ],
   "source": [
    "num=1000\n",
    "def get(num):\n",
    "    ! cd ntuple_Tchannel\n",
    "    mylist=! ls ntuple_Tchannel/tchannel_up_$num*.evt\n",
    "    return mylist\n",
    "\n",
    "get(1000)"
   ]
  },
  {
   "cell_type": "markdown",
   "metadata": {},
   "source": [
    "### Read input"
   ]
  },
  {
   "cell_type": "code",
   "execution_count": 3,
   "metadata": {
    "collapsed": false
   },
   "outputs": [],
   "source": [
    "def readfile(name, folder='ntuple_Tchannel/', lumi=1, cxn=None):\n",
    "    data = pd.read_csv(folder+name+'.evt', header=0, delimiter=',', skipinitialspace=True)\n",
    "    data.meta = pd.read_csv(folder+name+'.meta', header=0, delimiter=',', skipinitialspace=True)\n",
    "    if 'weight' in data.columns:\n",
    "        data['weight'] *= (data.meta['cxn']*lumi/data.meta['sum_weight'])[0]\n",
    "    else:\n",
    "        data['weight'] = (data.meta['cxn']*lumi / data.meta['nevt'])[0]  \n",
    "    if cxn is not None:\n",
    "        data['weight'] = (cxn*lumi / data.meta['nevt'])[0]  \n",
    "    return data\n",
    "\n",
    "bkg = ['bkg_ttbar_dilep_0',  'bkg_ttbar_semilep_0',  'bkg_Wj_0',  'bkg_Zj_0']\n",
    "bkg = [ readfile(f,folder='ntuple_Zprime/') for f in bkg ]\n",
    "\n",
    "def nbkg(cut, lumi=37*1000):\n",
    "    mybkg = [ f.query(cut) for f in bkg ]\n",
    "    myevt = np.asarray([ lumi*np.sum(f['weight']) for f in mybkg ])\n",
    "    return myevt\n",
    "\n",
    "b = 10**np.linspace(log10(500),log10(10000),101)\n",
    "\n",
    "cxn3000= .03951\n",
    "cxn5000= .0103\n",
    "\n",
    "def get_sig(mass):\n",
    "    sigup = ['tchannel_up_mass_rinv0.01',\n",
    "        'tchannel_up_mass_rinv0.1',\n",
    "        'tchannel_up_mass_rinv0.2',\n",
    "        'tchannel_up_mass_rinv0.3',\n",
    "        'tchannel_up_mass_rinv0.4',\n",
    "        'tchannel_up_mass_rinv0.5',\n",
    "        'tchannel_up_mass_rinv0.6',\n",
    "        'tchannel_up_mass_rinv0.7',\n",
    "        'tchannel_up_mass_rinv0.8',\n",
    "        'tchannel_up_mass_rinv0.9',\n",
    "        'tchannel_up_mass_rinv0.98',\n",
    "        'tchannel_up_mass_rinv0.99',\n",
    "        'tchannel_up_mass_rinv1.0'\n",
    "        ]\n",
    "    \n",
    "    sigdown = ['tchannel_down_mass_rinv0.01',\n",
    "        'tchannel_down_mass_rinv0.1',\n",
    "        'tchannel_down_mass_rinv0.2',\n",
    "        'tchannel_down_mass_rinv0.3',\n",
    "        'tchannel_down_mass_rinv0.4',\n",
    "        'tchannel_down_mass_rinv0.5',\n",
    "        'tchannel_down_mass_rinv0.6',\n",
    "        'tchannel_down_mass_rinv0.7',\n",
    "        'tchannel_down_mass_rinv0.8',\n",
    "        'tchannel_down_mass_rinv0.9',\n",
    "        'tchannel_down_mass_rinv0.98',\n",
    "        'tchannel_down_mass_rinv0.99',\n",
    "        'tchannel_down_mass_rinv1.0'\n",
    "        ]\n",
    "    \n",
    "    sigup = [ s.replace('mass',str(mass)) for s in sigup ]\n",
    "    sigdown = [ s.replace('mass',str(mass)) for s in sigdown ]\n",
    "    \n",
    "    sigup = [ readfile(f) for f in sigup ]\n",
    "    sigup_cxn = [ f.meta['cxn'] for f in sigup ]\n",
    "    \n",
    "    sigdown = [ readfile(f) for f in sigdown ]\n",
    "    sigdown_cxn = [ f.meta['cxn'] for f in sigdown ]\n",
    "    \n",
    "    #sig_Mt = [ np.histogram(f['Mt'],bins=b,weights=f['weight'])[0] for f in sigup ]\n",
    "    return [ sigup, sigdown ]\n",
    "\n",
    "sig1000=get_sig(1000)\n"
   ]
  },
  {
   "cell_type": "code",
   "execution_count": 4,
   "metadata": {
    "collapsed": false
   },
   "outputs": [],
   "source": [
    "def nsig(sig, cut, lumi=37*1000, mix=[4./(4./3 *.59)**2 , 4./(2./3 *.59)**2]):\n",
    "    [ sig1, sig2 ] = sig\n",
    "    mysig1 = [ f.query(cut) for f in sig1 ]\n",
    "    mysig2 = [ f.query(cut) for f in sig2 ]\n",
    "    \n",
    "    myevt1 = np.asarray([ mix[0]*lumi*np.sum(f['weight']) for f in mysig1 ])\n",
    "    myevt2 = np.asarray([ mix[1]*lumi*np.sum(f['weight']) for f in mysig2 ])\n",
    "    \n",
    "    return myevt1+myevt2"
   ]
  },
  {
   "cell_type": "code",
   "execution_count": 5,
   "metadata": {
    "collapsed": false
   },
   "outputs": [
    {
     "data": {
      "text/plain": [
       "array([  0.24009764,   3.45535851,   8.90761263,  17.11336115,\n",
       "        26.89038303,  39.33994646,  51.88925394,  61.55136053,\n",
       "        65.14581848,  52.10900182,  19.06989596,  13.1666231 ,   7.13726464])"
      ]
     },
     "execution_count": 5,
     "metadata": {},
     "output_type": "execute_result"
    }
   ],
   "source": [
    "nsig(sig1000, 'MEt > 800 & dphi <.4')"
   ]
  },
  {
   "cell_type": "code",
   "execution_count": 6,
   "metadata": {
    "collapsed": false
   },
   "outputs": [
    {
     "name": "stdout",
     "output_type": "stream",
     "text": [
      "[ 156.98661239   10.86901049    4.14806001    2.50078512    1.6021459\n",
      "    1.25317874    1.04535507    1.03705401    1.21107788    2.150262\n",
      "   11.70302492   21.90823648   79.89680761]\n",
      "[ 2122.06111835   278.05560057   125.45094176    55.14733096    20.2739759\n",
      "    13.61627678     9.00731137     5.293088       4.85954329     5.44623712\n",
      "     7.55917156     8.71266451    10.43068528]\n",
      "[ 282.51033851  550.74745384  700.71068865  795.20830269  888.84182948\n",
      "  945.14130937  988.97210495  990.94524088  953.25036818  825.80432896\n",
      "  540.66152805  462.21937394  334.47806593]\n"
     ]
    }
   ],
   "source": [
    "cutlist1=['MEt > 1000 & dphi <.4', 'MEt > 1200 & dphi <.4', \n",
    "          'MEt > 1000 & dphi <.4 & pt3 > 80', 'MEt > 1200 & dphi <.4 & pt3 > 80',\n",
    "          'MEt > 1000 & dphi <.4 & pt3 > 100', 'MEt > 1200 & dphi <.4 & pt3 > 100',\n",
    "         ]\n",
    "\n",
    "cutlist2=['MEt > 800 & dphi >.4', 'MEt > 1000 & dphi >.4', 'MEt > 1200 & dphi >.4',\n",
    "          'MEt > 800 & dphi >.4 & pt3 > 80', 'MEt > 1000 & dphi >.4 & pt3 > 80', 'MEt > 1200 & dphi >.4 & pt3 > 80',\n",
    "          'MEt > 800 & dphi >.4 & pt3 > 100', 'MEt > 1000 & dphi >.4 & pt3 > 100', 'MEt > 1200 & dphi >.4 & pt3 > 100'        \n",
    "         ]\n",
    "\n",
    "commoncut=' & pt3 > 50'\n",
    "\n",
    "cutnbkg1=[ np.sum(nbkg(c+commoncut)) for c in cutlist1 ]\n",
    "cutnbkg2=[ np.sum(nbkg(c+commoncut)) for c in cutlist2 ]\n",
    "\n",
    "cutnsig1=[ nsig(sig1000, c+commoncut) for c in cutlist1 ]\n",
    "cutnsig2=[ nsig(sig1000, c+commoncut) for c in cutlist2 ]\n",
    "\n",
    "\n",
    "from scipy.optimize import bisect\n",
    "def limit(nbkg):\n",
    "    \n",
    "    def func_root(x):\n",
    "        logpart = x-nbkg*np.log(1+x/nbkg)\n",
    "        my_val = logpart - 2.0\n",
    "        return my_val\n",
    "    \n",
    "    soln = bisect(func_root, 0,10*nbkg)\n",
    "    return soln\n",
    "\n",
    "def limit_list(nbkg):\n",
    "    return np.asarray([ limit(n) for n in nbkg ])\n",
    "\n",
    "cutlim1 = [ limit(n) for n in cutnbkg1 ]\n",
    "cutlim2 = [ limit(n) for n in cutnbkg2 ]\n",
    "\n",
    "exc_sig_factor1 = np.asarray([ cutlim1[i]/l for i,l in enumerate(cutnsig1)])\n",
    "exc_sig_factor2 = np.asarray([ cutlim2[i]/l for i,l in enumerate(cutnsig2)])\n",
    "\n",
    "exc_sig_factor1 = np.amin(exc_sig_factor1, axis=0)\n",
    "exc_sig_factor2 = np.amin(exc_sig_factor2, axis=0)\n",
    "\n",
    "print(exc_sig_factor1)\n",
    "print(exc_sig_factor2)\n",
    "\n",
    "cutoff1 = 1000./exc_sig_factor1**(1./4)\n",
    "cutoff2 = 1000./exc_sig_factor2**(1./4)\n",
    "print(cutoff1)"
   ]
  },
  {
   "cell_type": "code",
   "execution_count": 8,
   "metadata": {
    "collapsed": false
   },
   "outputs": [
    {
     "data": {
      "text/plain": [
       "<matplotlib.figure.Figure at 0x7feca5dc3f10>"
      ]
     },
     "metadata": {},
     "output_type": "display_data"
    },
    {
     "data": {
      "image/png": "[encoded data removed]",
      "text/plain": [
       "<matplotlib.figure.Figure at 0x7feca5d0b2d0>"
      ]
     },
     "metadata": {},
     "output_type": "display_data"
    }
   ],
   "source": [
    "plt.figure()\n",
    "\n",
    "fig=plt.figure(\"m\", figsize=(8,7))\n",
    "plt.subplots_adjust(left=0.2, right=0.90, top=0.9, bottom=0.2)\n",
    "\n",
    "rinv=[.01,.1,.2,.3,.4,.5,.6,.7,.8,.9,.98,.99,1]\n",
    "\n",
    "plt.plot(rinv,cutoff1,label=r'$M_\\phi = 1\\;{\\rm TeV},\\; \\Delta \\phi < 0.4$',lw=3,alpha=.8,c='red')\n",
    "plt.plot(rinv,cutoff2,label=r'$M_\\phi = 1\\;{\\rm TeV},\\; \\Delta \\phi > 0.4$',lw=3,alpha=.8,c='green')\n",
    "\n",
    "plt.ylim([0,1500])\n",
    "plt.xlabel(r'$ r_{\\rm inv}$', fontsize=25)\n",
    "plt.ylabel(r'$ \\Lambda\\,\\,{\\rm\\; GeV}$', fontsize=25)\n",
    "\n",
    "plt.legend(bbox_to_anchor=(0, 0, .95, 0.95),\n",
    "           fontsize=20, ncol=1,frameon=False,\n",
    "           handletextpad=.5, columnspacing=.8,\n",
    "           borderaxespad=0.)\n",
    "\n",
    "plt.savefig(\"cutoff_tchannel_associated.pdf\")"
   ]
  },
  {
   "cell_type": "code",
   "execution_count": null,
   "metadata": {
    "collapsed": true
   },
   "outputs": [],
   "source": []
  }
 ],
 "metadata": {
  "celltoolbar": "Raw Cell Format",
  "kernelspec": {
   "display_name": "Python 2",
   "language": "python",
   "name": "python2"
  },
  "language_info": {
   "codemirror_mode": {
    "name": "ipython",
    "version": 2
   },
   "file_extension": ".py",
   "mimetype": "text/x-python",
   "name": "python",
   "nbconvert_exporter": "python",
   "pygments_lexer": "ipython2",
   "version": "2.7.6"
  }
 },
 "nbformat": 4,
 "nbformat_minor": 0
}
