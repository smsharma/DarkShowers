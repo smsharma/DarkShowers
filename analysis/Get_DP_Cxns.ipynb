{
 "cells": [
  {
   "cell_type": "code",
   "execution_count": 1,
   "metadata": {
    "collapsed": true
   },
   "outputs": [],
   "source": [
    "import pandas as pd\n",
    "import numpy as np\n",
    "from bs4 import BeautifulSoup\n",
    "import matplotlib.pyplot as plt\n",
    "from tqdm.notebook import tqdm\n",
    "\n",
    "%matplotlib inline"
   ]
  },
  {
   "cell_type": "code",
   "execution_count": 3,
   "metadata": {},
   "outputs": [],
   "source": [
    "data_dir = \"/Users/smsharma/Desktop/\""
   ]
  },
  {
   "cell_type": "markdown",
   "metadata": {},
   "source": [
    "# 1. Get (heuristic) threshold for direct production graph for a heavy mediator"
   ]
  },
  {
   "cell_type": "code",
   "execution_count": 18,
   "metadata": {},
   "outputs": [],
   "source": [
    "masses = [100000]  # Pick large mediator mass"
   ]
  },
  {
   "cell_type": "code",
   "execution_count": 19,
   "metadata": {},
   "outputs": [],
   "source": [
    "# Loop over graphs and grab cross sections\n",
    "# Pick \\lambda = 1, check also for \\lambda = 0.3\n",
    "\n",
    "cxns = []\n",
    "\n",
    "for mass in masses:\n",
    "    with open (data_dir + \"MG5_aMC_v2_5_6_patch_int_signal/bin/sig_tchannel_lambda1//Events/html_lambda1_\"+str(mass) + \"_0.html\", \"r\") as myfile:\n",
    "        data=myfile.read()\n",
    "        \n",
    "    soup = BeautifulSoup(data) # Parse the HTML as a string\n",
    "    \n",
    "    for table in soup.find_all('table')[1:]:\n",
    "        for row in table.find_all('tr'):\n",
    "            column_marker = 0\n",
    "            columns = row.find_all('td')\n",
    "\n",
    "            for icolumn, column in enumerate(columns):\n",
    "                graph_cxn = None\n",
    "                if icolumn == 0:\n",
    "                    graph_name = (column.get_text())\n",
    "                if icolumn == 1:\n",
    "                    graph_cxn = (column.get_text())\n",
    "                if graph_cxn is not None:\n",
    "                    cxns.append(float(graph_cxn))\n"
   ]
  },
  {
   "cell_type": "code",
   "execution_count": 20,
   "metadata": {},
   "outputs": [
    {
     "data": {
      "text/plain": [
       "Text(0.5, 0, '$\\\\log_{10}(\\\\sigma [\\\\mathrm{arb.}])$')"
      ]
     },
     "execution_count": 20,
     "metadata": {},
     "output_type": "execute_result"
    },
    {
     "data": {
      "image/png": "[encoded data removed]",
      "text/plain": [
       "<Figure size 443.077x360 with 1 Axes>"
      ]
     },
     "metadata": {
      "needs_background": "light"
     },
     "output_type": "display_data"
    }
   ],
   "source": [
    "plt.hist(np.log10(cxns), np.linspace(-25, -10, 50));\n",
    "plt.xlabel(\"$\\log_{10}(\\sigma [\\mathrm{arb.}])$\")"
   ]
  },
  {
   "cell_type": "code",
   "execution_count": 7,
   "metadata": {},
   "outputs": [],
   "source": [
    "sigma_dp_thresh = 1e-17  # Eyeballing # Similar for \\lambda = 0.3"
   ]
  },
  {
   "cell_type": "markdown",
   "metadata": {},
   "source": [
    "# 2. Get xsec ratios "
   ]
  },
  {
   "cell_type": "markdown",
   "metadata": {},
   "source": [
    "## 2.1. $\\lambda = 0.3$"
   ]
  },
  {
   "cell_type": "markdown",
   "metadata": {},
   "source": [
    "### 2.1.1. Get DP graphs"
   ]
  },
  {
   "cell_type": "code",
   "execution_count": 8,
   "metadata": {
    "collapsed": true
   },
   "outputs": [],
   "source": [
    "masses = [100000]"
   ]
  },
  {
   "cell_type": "code",
   "execution_count": 9,
   "metadata": {
    "collapsed": false
   },
   "outputs": [],
   "source": [
    "dp_frac = []\n",
    "\n",
    "dp_graphs = []\n",
    "rest_graphs = []\n",
    "\n",
    "for mass in masses:\n",
    "    with open (data_dir + \"/MG5_aMC_v2_5_6_patch_int_signal/bin/sig_tchannel_lambda0p3//Events/html_lambda0p3_\"+str(mass) + \"_0.html\", \"r\") as myfile:\n",
    "        data=myfile.read()\n",
    "        \n",
    "    soup = BeautifulSoup(data) # Parse the HTML as a string\n",
    "    \n",
    "    for table in soup.find_all('table')[1:]:\n",
    "    \n",
    "        dp_sum = 0.\n",
    "        rest_sum = 0.\n",
    "\n",
    "        for row in table.find_all('tr'):\n",
    "            column_marker = 0\n",
    "            columns = row.find_all('td')\n",
    "\n",
    "            for icolumn, column in enumerate(columns):\n",
    "                graph_cxn = None\n",
    "                if icolumn == 0:\n",
    "                    graph_name = (column.get_text())\n",
    "                if icolumn == 1:\n",
    "                    graph_cxn = (column.get_text())\n",
    "                if graph_cxn is not None:\n",
    "                    if float(graph_cxn) > sigma_dp_thresh: \n",
    "                        \n",
    "                        dp_graphs.append(graph_name)\n",
    "                    else:\n",
    "                        rest_graphs.append(graph_name)"
   ]
  },
  {
   "cell_type": "markdown",
   "metadata": {},
   "source": [
    "### 2.1.2. Get xsec ratio of DP/rest graphs"
   ]
  },
  {
   "cell_type": "code",
   "execution_count": 10,
   "metadata": {
    "collapsed": false
   },
   "outputs": [],
   "source": [
    "masses = [100] + list(np.arange(300,2000, 100))+  list(np.arange(2000,7000, 500))"
   ]
  },
  {
   "cell_type": "code",
   "execution_count": 11,
   "metadata": {
    "collapsed": false
   },
   "outputs": [
    {
     "data": {
      "application/vnd.jupyter.widget-view+json": {
       "model_id": "2af9d03c0734439583786dcb57455a0a",
       "version_major": 2,
       "version_minor": 0
      },
      "text/plain": [
       "HBox(children=(IntProgress(value=0, max=28), HTML(value='')))"
      ]
     },
     "metadata": {},
     "output_type": "display_data"
    },
    {
     "name": "stdout",
     "output_type": "stream",
     "text": [
      "\n"
     ]
    }
   ],
   "source": [
    "dp_frac = []\n",
    "dp_sum_ary = []\n",
    "\n",
    "for mass in tqdm(masses):\n",
    "    with open (data_dir + \"MG5_aMC_v2_5_6_patch_int_signal/bin/sig_tchannel_lambda0p3//Events/html_lambda0p3_\"+str(mass) + \"_0.lhe\", \"r\") as myfile:\n",
    "        data=myfile.read()\n",
    "        \n",
    "    soup = BeautifulSoup(data) # Parse the HTML as a string\n",
    "    dp_sum = 0.\n",
    "    rest_sum = 0.\n",
    "    \n",
    "    for table in soup.find_all('table')[1:]:\n",
    "    \n",
    "\n",
    "\n",
    "        for row in table.find_all('tr'):\n",
    "            column_marker = 0\n",
    "            columns = row.find_all('td')\n",
    "\n",
    "            for icolumn, column in enumerate(columns):\n",
    "                graph_cxn = None\n",
    "                if icolumn == 0:\n",
    "                    graph_name = (column.get_text())\n",
    "                if icolumn == 1:\n",
    "                    graph_cxn = (column.get_text())\n",
    "                if graph_cxn is not None:\n",
    "                    if graph_name in dp_graphs:\n",
    "                        dp_sum += float(graph_cxn)\n",
    "                    else:\n",
    "                        rest_sum += float(graph_cxn)\n",
    "\n",
    "    dp_sum_ary.append(dp_sum)\n",
    "    dp_frac.append(dp_sum/(dp_sum+rest_sum))"
   ]
  },
  {
   "cell_type": "markdown",
   "metadata": {},
   "source": [
    "## 2.2. $\\lambda = 1$"
   ]
  },
  {
   "cell_type": "markdown",
   "metadata": {},
   "source": [
    "### 2.2.1. Get DP graphs"
   ]
  },
  {
   "cell_type": "code",
   "execution_count": 12,
   "metadata": {
    "collapsed": true
   },
   "outputs": [],
   "source": [
    "masses = [100000]"
   ]
  },
  {
   "cell_type": "code",
   "execution_count": 13,
   "metadata": {
    "collapsed": false
   },
   "outputs": [],
   "source": [
    "dp_graphs = []\n",
    "rest_graphs = []\n",
    "\n",
    "for mass in masses:\n",
    "    with open (data_dir + \"MG5_aMC_v2_5_6_patch_int_signal/bin/sig_tchannel_lambda1//Events/html_lambda1_\"+str(mass) + \"_0.html\", \"r\") as myfile:\n",
    "        data=myfile.read()\n",
    "        \n",
    "    soup = BeautifulSoup(data) # Parse the HTML as a string\n",
    "    \n",
    "    for table in soup.find_all('table')[1:]:\n",
    "    \n",
    "        dp_sum = 0.\n",
    "        rest_sum = 0.\n",
    "\n",
    "        for row in table.find_all('tr'):\n",
    "            column_marker = 0\n",
    "            columns = row.find_all('td')\n",
    "\n",
    "            for icolumn, column in enumerate(columns):\n",
    "                graph_cxn = None\n",
    "                if icolumn == 0:\n",
    "                    graph_name = (column.get_text())\n",
    "                if icolumn == 1:\n",
    "                    graph_cxn = (column.get_text())\n",
    "                if graph_cxn is not None:\n",
    "                    if float(graph_cxn) > sigma_dp_thresh: \n",
    "                        dp_graphs.append(graph_name)\n",
    "                    else:\n",
    "                        rest_graphs.append(graph_name)"
   ]
  },
  {
   "cell_type": "markdown",
   "metadata": {},
   "source": [
    "### 2.2.2. Get xsec ratio of DP/rest graphs"
   ]
  },
  {
   "cell_type": "code",
   "execution_count": 14,
   "metadata": {
    "collapsed": true
   },
   "outputs": [],
   "source": [
    "masses = [100] + list(np.arange(300,2000, 100))+  list(np.arange(2000,7000, 500))"
   ]
  },
  {
   "cell_type": "code",
   "execution_count": 15,
   "metadata": {
    "collapsed": false
   },
   "outputs": [
    {
     "data": {
      "application/vnd.jupyter.widget-view+json": {
       "model_id": "832322fe984c4917a0cabcf99fa6edd6",
       "version_major": 2,
       "version_minor": 0
      },
      "text/plain": [
       "HBox(children=(IntProgress(value=0, max=28), HTML(value='')))"
      ]
     },
     "metadata": {},
     "output_type": "display_data"
    },
    {
     "name": "stdout",
     "output_type": "stream",
     "text": [
      "\n"
     ]
    }
   ],
   "source": [
    "dp_frac_lambda1 = []\n",
    "dp_sum_ary_lambda1 = []\n",
    "\n",
    "for mass in tqdm(masses):\n",
    "    with open (data_dir + \"MG5_aMC_v2_5_6_patch_int_signal/bin/sig_tchannel_lambda1//Events/html_lambda1_\"+str(mass) + \"_0.html\", \"r\") as myfile:\n",
    "        data=myfile.read()\n",
    "        \n",
    "    soup = BeautifulSoup(data) # Parse the HTML as a string\n",
    "    dp_sum_lambda1 = 0.\n",
    "    rest_sum_lambda1 = 0.\n",
    "    \n",
    "    for table in soup.find_all('table')[1:]:\n",
    "    \n",
    "\n",
    "\n",
    "        for row in table.find_all('tr'):\n",
    "            column_marker = 0\n",
    "            columns = row.find_all('td')\n",
    "\n",
    "            for icolumn, column in enumerate(columns):\n",
    "                graph_cxn = None\n",
    "                if icolumn == 0:\n",
    "                    graph_name = (column.get_text())\n",
    "                if icolumn == 1:\n",
    "                    graph_cxn = (column.get_text())\n",
    "                if graph_cxn is not None:\n",
    "                    if graph_name in dp_graphs:\n",
    "                        dp_sum_lambda1 += float(graph_cxn)\n",
    "                    else:\n",
    "                        rest_sum_lambda1 += float(graph_cxn)\n",
    "\n",
    "    dp_sum_ary_lambda1.append(dp_sum_lambda1)\n",
    "    dp_frac_lambda1.append(dp_sum_lambda1/(dp_sum_lambda1+rest_sum_lambda1))"
   ]
  },
  {
   "cell_type": "markdown",
   "metadata": {},
   "source": [
    "# 3. Plot"
   ]
  },
  {
   "cell_type": "code",
   "execution_count": 16,
   "metadata": {
    "collapsed": false
   },
   "outputs": [
    {
     "data": {
      "text/plain": [
       "<matplotlib.lines.Line2D at 0x11c55cda0>"
      ]
     },
     "execution_count": 16,
     "metadata": {},
     "output_type": "execute_result"
    },
    {
     "data": {
      "image/png": "[encoded data removed]",
      "text/plain": [
       "<Figure size 648x540 with 1 Axes>"
      ]
     },
     "metadata": {
      "needs_background": "light"
     },
     "output_type": "display_data"
    }
   ],
   "source": [
    "fig=plt.figure(figsize=(9,7.5))\n",
    "\n",
    "lw = 2.5\n",
    "\n",
    "plt.plot(masses, np.array(dp_frac)*1, color = 'k', label = \"$\\lambda = 0.3$\",lw=3, alpha=0.5, ls='--')\n",
    "plt.plot(masses, np.array(dp_frac_lambda1)*1, color = 'k', label = r\"$\\lambda = 1$\",lw=3, alpha=0.5)\n",
    "\n",
    "\n",
    "plt.xscale(\"log\")\n",
    "plt.xlabel(r\"$M_\\Phi$ [GeV]\")\n",
    "plt.ylabel(r\"$\\sigma_{pp\\rightarrow \\chi\\overline\\chi}/\\sigma_\\mathrm{tot}$\")\n",
    "plt.ylim(0.2,1.2)\n",
    "plt.xlim(min(masses), max(masses))\n",
    "\n",
    "leg = plt.legend(loc='lower right')\n",
    "\n",
    "plt.tick_params(axis='both', which='major')\n",
    "\n",
    "title = r\"$t$-channel\"\n",
    "plt.title(title)\n",
    "ax = plt.gca()\n",
    "ttl = ax.title\n",
    "ttl.set_position([.5, 1.02])\n",
    "plt.tight_layout()\n",
    "\n",
    "plt.tick_params(axis='both', which='major')\n",
    "\n",
    "plt.axhline(1.,ls='--',lw=0.8, color='grey')"
   ]
  },
  {
   "cell_type": "code",
   "execution_count": null,
   "metadata": {},
   "outputs": [],
   "source": []
  }
 ],
 "metadata": {
  "anaconda-cloud": {},
  "kernelspec": {
   "display_name": "Python [conda env:root] *",
   "language": "python",
   "name": "conda-root-py"
  },
  "language_info": {
   "codemirror_mode": {
    "name": "ipython",
    "version": 3
   },
   "file_extension": ".py",
   "mimetype": "text/x-python",
   "name": "python",
   "nbconvert_exporter": "python",
   "pygments_lexer": "ipython3",
   "version": "3.7.3"
  }
 },
 "nbformat": 4,
 "nbformat_minor": 2
}
