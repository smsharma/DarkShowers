{
 "cells": [
  {
   "cell_type": "code",
   "execution_count": 1,
   "metadata": {
    "collapsed": true
   },
   "outputs": [],
   "source": [
    "# Important necessary libraries\n",
    "import pandas as pd\n",
    "import numpy as np\n",
    "import matplotlib.pyplot as plt\n",
    "from __future__ import division\n",
    "from matplotlib.lines import Line2D\n",
    "from tqdm import *\n",
    "%matplotlib inline  "
   ]
  },
  {
   "cell_type": "code",
   "execution_count": 48,
   "metadata": {
    "collapsed": true
   },
   "outputs": [],
   "source": [
    "def combine_background_files(folder='../data/bkg_Zj/', lumi=37*1000, nfiles=200):\n",
    "    \"\"\" Read .evt and .meta files as output by monojet.C and \n",
    "        properly weigh events\n",
    "    \"\"\"\n",
    "    \n",
    "    frames = [pd.read_csv(folder+'events_'+str(i)+'.evt', header=0, delimiter=',', skipinitialspace=True) for i in range(nfiles)]\n",
    "        \n",
    "    data = pd.concat(frames)\n",
    "    data.meta = pd.read_csv(folder+'events_0.meta', header=0, delimiter=',', skipinitialspace=True)\n",
    "    if 'weight' in data.columns:\n",
    "        data['weight'] *= (data.meta['cxn']*lumi/data.meta['sum_weight'])[0]\n",
    "    else:\n",
    "        data['weight'] = (data.meta['cxn']*lumi / data.meta['nevt'])[0]  \n",
    "    return data"
   ]
  },
  {
   "cell_type": "code",
   "execution_count": 51,
   "metadata": {
    "collapsed": false
   },
   "outputs": [],
   "source": [
    "Zj_df = combine_background_files('../data/bkg_Zj/')\n",
    "Wj_df = combine_background_files('../data/bkg_Wj/')\n",
    "tt_d_df = combine_background_files('../data/bkg_ttbar_dilep//')\n",
    "tt_s_df = combine_background_files('../data/bkg_ttbar_semilep//')\n",
    "QCD_df = combine_background_files('../data/bkg_qcd/', nfiles=399)"
   ]
  },
  {
   "cell_type": "code",
   "execution_count": 55,
   "metadata": {
    "collapsed": false
   },
   "outputs": [
    {
     "data": {
      "image/png": "[encoded data removed]",
      "text/plain": [
       "<matplotlib.figure.Figure at 0x7f366c075890>"
      ]
     },
     "metadata": {},
     "output_type": "display_data"
    }
   ],
   "source": [
    "bins = np.linspace(0,2500,50)\n",
    "\n",
    "plt.hist(Zj_df['MEt'], weights=Zj_df['weight'], \n",
    "                     bins=bins,\n",
    "                     histtype='step', alpha=.5, lw=1.6, label=\"$Z+j$\")\n",
    "plt.hist(Wj_df['MEt'], weights=Wj_df['weight'], \n",
    "                     bins=bins,\n",
    "                     histtype='step', alpha=.5, lw=1.6, label=\"$W+j$\")\n",
    "\n",
    "tt_df = pd.concat([tt_d_df, tt_s_df])\n",
    "\n",
    "plt.hist(tt_df['MEt'], weights=tt_df['weight'], \n",
    "                     bins=bins,\n",
    "                     histtype='step', alpha=.5, lw=1.6, label=\"$t\\\\bar t$\")\n",
    "\n",
    "plt.hist(QCD_df['MEt'], weights=QCD_df['weight'], \n",
    "                     bins=bins,\n",
    "                     histtype='step', alpha=.5, lw=1.6, label=\"QCD\")\n",
    "\n",
    "plt.xlabel(\"MET\")\n",
    "\n",
    "\n",
    "plt.legend()\n",
    "plt.ylabel(\"Events\")\n",
    "plt.yscale(\"log\")"
   ]
  },
  {
   "cell_type": "code",
   "execution_count": null,
   "metadata": {
    "collapsed": true
   },
   "outputs": [],
   "source": []
  }
 ],
 "metadata": {
  "anaconda-cloud": {},
  "kernelspec": {
   "display_name": "Python [conda env:venv_py27]",
   "language": "python",
   "name": "conda-env-venv_py27-py"
  },
  "language_info": {
   "codemirror_mode": {
    "name": "ipython",
    "version": 2
   },
   "file_extension": ".py",
   "mimetype": "text/x-python",
   "name": "python",
   "nbconvert_exporter": "python",
   "pygments_lexer": "ipython2",
   "version": "2.7.12"
  }
 },
 "nbformat": 4,
 "nbformat_minor": 1
}
