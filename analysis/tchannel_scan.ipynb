{
 "cells": [
  {
   "cell_type": "code",
   "execution_count": 41,
   "metadata": {
    "collapsed": false
   },
   "outputs": [],
   "source": [
    "from math import *\n",
    "from numpy import sign\n",
    "\n",
    "import numpy as np\n",
    "from scipy.interpolate import interp1d\n",
    "import scipy.integrate as integrate\n",
    "import scipy.optimize as optimize\n",
    "import matplotlib\n",
    "import matplotlib.cbook \n",
    "import matplotlib.pyplot as plt\n",
    "import pandas as pd\n",
    "import numpy.random as rand\n",
    "\n",
    "from matplotlib import rc\n",
    "\n",
    "\n",
    "rc('text', usetex=True)\n",
    "rc('xtick.major', size=5, pad=7)\n",
    "rc('xtick', labelsize=20)\n",
    "rc('ytick.major', size=5, pad=7)\n",
    "rc('ytick', labelsize=20)\n",
    "\n",
    "matplotlib.rcParams['text.latex.preamble'] = [\n",
    "    r'\\usepackage{graphics,graphicx,rotating}'\n",
    "]\n",
    "\n",
    "%matplotlib inline  \n",
    "\n"
   ]
  },
  {
   "cell_type": "code",
   "execution_count": 86,
   "metadata": {
    "collapsed": false
   },
   "outputs": [
    {
     "name": "stdout",
     "output_type": "stream",
     "text": [
      "10\n",
      "[  6.77429119e+01   2.98574457e+01   2.58755637e+00   8.53002483e-02\n",
      "   7.79762067e-03   0.00000000e+00   0.00000000e+00   0.00000000e+00\n",
      "   0.00000000e+00   0.00000000e+00   0.00000000e+00]\n"
     ]
    },
    {
     "data": {
      "text/plain": [
       "<matplotlib.legend.Legend at 0x7f07dac94bd0>"
      ]
     },
     "execution_count": 86,
     "metadata": {},
     "output_type": "execute_result"
    },
    {
     "data": {
      "image/png": "[encoded data removed]",
      "text/plain": [
       "<matplotlib.figure.Figure at 0x7f07e8d18650>"
      ]
     },
     "metadata": {},
     "output_type": "display_data"
    },
    {
     "data": {
      "image/png": "[encoded data removed]",
      "text/plain": [
       "<matplotlib.figure.Figure at 0x7f07db5b8fd0>"
      ]
     },
     "metadata": {},
     "output_type": "display_data"
    }
   ],
   "source": [
    "# function to get the background\n",
    "val=[3.27816*1e-3, 17.1227, -7.85266, 0.00920465, -0.503524]\n",
    "mylumi=37*1000\n",
    "mycut='MEt > 800 & nj>= 2 & pt1 >100 & pt2>80 & pt4 > 50 & dphi < 0.4'\n",
    "\n",
    "def binc(b):\n",
    "    return np.sqrt(b[1:]*b[:-1])\n",
    "\n",
    "def binw(b):\n",
    "    return (b[1:]-b[:-1])\n",
    "\n",
    "cxninfo=pd.read_csv('pair_prod_cxn.csv', header=0, delimiter=',', skipinitialspace=True)\n",
    "intmass = np.array(cxninfo['mass'])\n",
    "intlogcxn = np.log10(np.array(cxninfo['cxn']))\n",
    "\n",
    "plt.plot(intmass,intlogcxn)\n",
    "\n",
    "def get_sig(mZ, rinv, b, cut=mycut, lumi=mylumi, folder='ntuple_Tchannel_scan/'):\n",
    "    str1='{:d}'.format(mZ)\n",
    "    if rinv >= .1 and rinv <=.9:\n",
    "        str2='{:1.1f}'.format(rinv)  \n",
    "    elif rinv != 1:\n",
    "        str2='{:1.2f}'.format(rinv)\n",
    "    else:\n",
    "        str2='1.0'\n",
    "    strevt='pair_prod_' + str1 + '_rinv' + str2 + '.evt'\n",
    "    strmeta='pair_prod_' + str1 + '_rinv' + str2 + '.meta'\n",
    "#    print(strevt)\n",
    "#    strmeta='*MZ_' + str1 + '*rinv_' + str2 + '.meta'\n",
    "    data_evt = pd.read_csv(folder+strevt, header=0, delimiter=',', skipinitialspace=True)\n",
    "    data_meta = pd.read_csv(folder+strmeta, header=0, delimiter=',', skipinitialspace=True)\n",
    "    data_evt = data_evt.query(cut)\n",
    "    cxn = 10**np.interp(mZ,intmass,intlogcxn) * (2*2*3)\n",
    "#    cxn = data_meta['cxn']*1\n",
    "    scale=cxn*lumi/data_meta['nevt']\n",
    "    result, _ =np.histogram(np.asarray(data_evt['MEt']), bins=b,\n",
    "                            weights=np.repeat(scale[0],len(data_evt.index)))\n",
    "#   apply a mask\n",
    "    return np.append(result, result[-1])\n",
    "\n",
    "mybins=10**np.linspace(log10(800),log10(8000),11)\n",
    "mybins1=10**np.linspace(log10(1000),log10(5000),10001)\n",
    "\n",
    "print(len(binc(mybins)))\n",
    "\n",
    "\n",
    "def readfile(name, folder='ntuple_Tchannel/', lumi=mylumi, cxn=None):\n",
    "    data = pd.read_csv(folder+name+'.evt', header=0, delimiter=',', skipinitialspace=True)\n",
    "    data.meta = pd.read_csv(folder+name+'.meta', header=0, delimiter=',', skipinitialspace=True)\n",
    "    if 'weight' in data.columns:\n",
    "        data['weight'] *= (data.meta['cxn']*lumi/data.meta['sum_weight'])[0]\n",
    "    else:\n",
    "        data['weight'] = (data.meta['cxn']*lumi / data.meta['nevt'])[0]  \n",
    "    if cxn is not None:\n",
    "        data['weight'] = (cxn*lumi / data.meta['nevt'])[0]  \n",
    "    return data\n",
    "\n",
    "bkg_files = ['bkg_ttbar_dilep_0',  'bkg_ttbar_semilep_0',  'bkg_Wj_0',  'bkg_Zj_0']\n",
    "bkg_files = [ readfile(f,folder='ntuple_Zprime/') for f in bkg_files ]\n",
    "\n",
    "def get_bkg(b, cut=mycut, lumi=mylumi):\n",
    "    bw = np.array(b[1:]-b[:-1])\n",
    "    bc = np.sqrt(b[1:]*b[:-1])\n",
    "    bkg_select=[ f.query(cut) for f in bkg_files ]\n",
    "    result = np.array( [ np.histogram( np.asarray(f['MEt']), bins=b,\n",
    "                            weights=f['weight'] )[0] for f in bkg_select ] )\n",
    "    result = np.sum(result, axis=0)\n",
    "    return np.append(result, result[-1])\n",
    "\n",
    "    \n",
    "    \n",
    "Zprime_cxn = pd.read_csv('Zprime_cxn.csv', header=0, delimiter=',', skipinitialspace=True)\n",
    "logmass = np.log10(Zprime_cxn['mass'])\n",
    "logcxn = np.log10(Zprime_cxn['cxn'])\n",
    "\n",
    "\n",
    "\n",
    "sig=get_sig(1000,0.8,mybins)\n",
    "bkg=get_bkg(mybins)\n",
    "print bkg\n",
    "\n",
    "\n",
    "fig=plt.figure(\"m\", figsize=(9,7))\n",
    "plt.subplots_adjust(left=0.3, right=0.90, top=0.9, bottom=0.2)\n",
    "\n",
    "mybinw=binw(mybins)\n",
    "#mybinw=mybinw/mybinw\n",
    "plt.step(mybins,get_bkg(mybins),label=r'$\\textrm{Bkg Only}$',lw=2)\n",
    "plt.step(mybins,(sig),linestyle='--',lw=2,label=r'$10\\times \\textrm{Sig}+\\textrm{Bkg}$')\n",
    "plt.xlim([800,8000])\n",
    "plt.ylim([1e-10,1e5])\n",
    "\n",
    "plt.yscale('log')\n",
    "plt.xscale('log')\n",
    "\n",
    "plt.legend(bbox_to_anchor=(0, 0, .95, 0.95),\n",
    "           fontsize=20, ncol=1,frameon=False,\n",
    "           handletextpad=.5, columnspacing=.8,\n",
    "           borderaxespad=0.)\n"
   ]
  },
  {
   "cell_type": "code",
   "execution_count": 101,
   "metadata": {
    "collapsed": false
   },
   "outputs": [
    {
     "data": {
      "text/plain": [
       "6"
      ]
     },
     "execution_count": 101,
     "metadata": {},
     "output_type": "execute_result"
    }
   ],
   "source": [
    "np.sum([1,2,3])"
   ]
  },
  {
   "cell_type": "code",
   "execution_count": 104,
   "metadata": {
    "collapsed": false
   },
   "outputs": [
    {
     "name": "stdout",
     "output_type": "stream",
     "text": [
      "0.01, 300, 999999999999999967336168804116691273849533185806555472917961779471295845921727862608739868455469056.000\n",
      "0.01, 400, 999999999999999967336168804116691273849533185806555472917961779471295845921727862608739868455469056.000\n",
      "0.01, 500, 999999999999999967336168804116691273849533185806555472917961779471295845921727862608739868455469056.000\n",
      "0.01, 600, 12.694\n",
      "0.01, 700, 999999999999999967336168804116691273849533185806555472917961779471295845921727862608739868455469056.000\n",
      "0.01, 800, 75.814\n",
      "0.01, 900, 169.142\n",
      "0.01, 1000, 148.491\n",
      "0.01, 1100, 69.580\n",
      "0.01, 1200, 503.476\n",
      "0.01, 1300, 248.915\n",
      "0.01, 1400, 227.939\n",
      "0.01, 1500, 428.695\n",
      "0.01, 1600, 758.362\n",
      "0.01, 1700, 1021.119\n",
      "0.01, 1800, 1346.814\n",
      "0.01, 1900, 2262.644\n",
      "0.01, 2000, 3400.392\n",
      "0.01, 2100, 4995.325\n",
      "0.01, 2200, 11963.562\n",
      "0.01, 2300, 15583.904\n",
      "0.01, 2400, 17701.628\n",
      "0.01, 2500, 33689.285\n",
      "0.01, 2600, 51177.851\n",
      "0.01, 2700, 89998.935\n",
      "0.01, 2800, 156766.491\n",
      "0.01, 2900, 254358.943\n",
      "0.01, 3000, 374490.924\n",
      "0.10, 300, 999999999999999967336168804116691273849533185806555472917961779471295845921727862608739868455469056.000\n",
      "0.10, 400, 999999999999999967336168804116691273849533185806555472917961779471295845921727862608739868455469056.000\n",
      "0.10, 500, 2.631\n",
      "0.10, 600, 6.715\n",
      "0.10, 700, 4.170\n",
      "0.10, 800, 6.151\n",
      "0.10, 900, 5.693\n",
      "0.10, 1000, 11.358\n",
      "0.10, 1100, 13.670\n",
      "0.10, 1200, 18.356\n",
      "0.10, 1300, 24.525\n",
      "0.10, 1400, 32.461\n",
      "0.10, 1500, 45.584\n",
      "0.10, 1600, 64.321\n",
      "0.10, 1700, 88.787\n",
      "0.10, 1800, 138.859\n",
      "0.10, 1900, 217.633\n",
      "0.10, 2000, 345.560\n",
      "0.10, 2100, 480.475\n",
      "0.10, 2200, 789.059\n",
      "0.10, 2300, 1206.861\n",
      "0.10, 2400, 2042.218\n",
      "0.10, 2500, 3150.281\n",
      "0.10, 2600, 5233.439\n",
      "0.10, 2700, 8136.342\n",
      "0.10, 2800, 13678.144\n",
      "0.10, 2900, 22722.885\n",
      "0.10, 3000, 36357.593\n",
      "0.20, 300, 999999999999999967336168804116691273849533185806555472917961779471295845921727862608739868455469056.000\n",
      "0.20, 400, 0.738\n",
      "0.20, 500, 1.565\n",
      "0.20, 600, 2.631\n",
      "0.20, 700, 2.543\n",
      "0.20, 800, 2.595\n",
      "0.20, 900, 3.770\n",
      "0.20, 1000, 4.148\n",
      "0.20, 1100, 5.998\n",
      "0.20, 1200, 7.715\n",
      "0.20, 1300, 11.434\n",
      "0.20, 1400, 15.849\n",
      "0.20, 1500, 21.536\n",
      "0.20, 1600, 29.943\n",
      "0.20, 1700, 44.986\n",
      "0.20, 1800, 65.216\n",
      "0.20, 1900, 96.605\n",
      "0.20, 2000, 146.909\n",
      "0.20, 2100, 218.022\n",
      "0.20, 2200, 342.224\n",
      "0.20, 2300, 550.352\n",
      "0.20, 2400, 888.807\n",
      "0.20, 2500, 1389.500\n",
      "0.20, 2600, 2306.098\n",
      "0.20, 2700, 3786.020\n",
      "0.20, 2800, 6504.650\n",
      "0.20, 2900, 10242.362\n",
      "0.20, 3000, 18013.264\n",
      "0.30, 300, 0.374\n",
      "0.30, 400, 0.608\n",
      "0.30, 500, 1.748\n",
      "0.30, 600, 1.836\n",
      "0.30, 700, 1.486\n",
      "0.30, 800, 2.637\n",
      "0.30, 900, 2.412\n",
      "0.30, 1000, 3.005\n",
      "0.30, 1100, 4.280\n",
      "0.30, 1200, 4.672\n",
      "0.30, 1300, 6.682\n",
      "0.30, 1400, 9.792\n",
      "0.30, 1500, 13.210\n",
      "0.30, 1600, 18.319\n",
      "0.30, 1700, 27.149\n",
      "0.30, 1800, 41.543\n",
      "0.30, 1900, 61.912\n",
      "0.30, 2000, 91.777\n",
      "0.30, 2100, 141.076\n",
      "0.30, 2200, 219.224\n",
      "0.30, 2300, 344.203\n",
      "0.30, 2400, 544.401\n",
      "0.30, 2500, 899.829\n",
      "0.30, 2600, 1441.576\n",
      "0.30, 2700, 2370.894\n",
      "0.30, 2800, 3938.239\n",
      "0.30, 2900, 6392.178\n",
      "0.30, 3000, 10805.741\n",
      "0.40, 300, 999999999999999967336168804116691273849533185806555472917961779471295845921727862608739868455469056.000\n",
      "0.40, 400, 0.488\n",
      "0.40, 500, 1.661\n",
      "0.40, 600, 1.237\n",
      "0.40, 700, 1.038\n",
      "0.40, 800, 1.820\n",
      "0.40, 900, 2.346\n",
      "0.40, 1000, 2.107\n",
      "0.40, 1100, 2.570\n",
      "0.40, 1200, 3.919\n",
      "0.40, 1300, 4.769\n",
      "0.40, 1400, 6.460\n",
      "0.40, 1500, 9.052\n",
      "0.40, 1600, 13.059\n",
      "0.40, 1700, 18.363\n",
      "0.40, 1800, 29.620\n",
      "0.40, 1900, 42.586\n",
      "0.40, 2000, 62.324\n",
      "0.40, 2100, 99.798\n",
      "0.40, 2200, 159.109\n",
      "0.40, 2300, 255.181\n",
      "0.40, 2400, 398.073\n",
      "0.40, 2500, 642.899\n",
      "0.40, 2600, 1038.239\n",
      "0.40, 2700, 1703.617\n",
      "0.40, 2800, 2857.654\n",
      "0.40, 2900, 4649.121\n",
      "0.40, 3000, 7993.713\n",
      "0.50, 300, 0.157\n",
      "0.50, 400, 0.270\n",
      "0.50, 500, 1.133\n",
      "0.50, 600, 0.477\n",
      "0.50, 700, 1.023\n",
      "0.50, 800, 1.177\n",
      "0.50, 900, 1.390\n",
      "0.50, 1000, 1.803\n",
      "0.50, 1100, 2.203\n",
      "0.50, 1200, 2.909\n",
      "0.50, 1300, 3.567\n",
      "0.50, 1400, 4.954\n",
      "0.50, 1500, 6.860\n",
      "0.50, 1600, 10.492\n",
      "0.50, 1700, 15.366\n",
      "0.50, 1800, 22.985\n",
      "0.50, 1900, 33.669\n",
      "0.50, 2000, 50.637\n",
      "0.50, 2100, 81.173\n",
      "0.50, 2200, 128.321\n",
      "0.50, 2300, 202.153\n",
      "0.50, 2400, 317.262\n",
      "0.50, 2500, 518.260\n",
      "0.50, 2600, 837.560\n",
      "0.50, 2700, 1377.754\n",
      "0.50, 2800, 2341.831\n",
      "0.50, 2900, 3854.016\n",
      "0.50, 3000, 6417.584\n",
      "0.60, 300, 999999999999999967336168804116691273849533185806555472917961779471295845921727862608739868455469056.000\n",
      "0.60, 400, 0.738\n",
      "0.60, 500, 1.030\n",
      "0.60, 600, 0.821\n",
      "0.60, 700, 0.806\n",
      "0.60, 800, 0.978\n",
      "0.60, 900, 1.174\n",
      "0.60, 1000, 1.365\n",
      "0.60, 1100, 2.071\n",
      "0.60, 1200, 2.516\n",
      "0.60, 1300, 3.126\n",
      "0.60, 1400, 4.017\n",
      "0.60, 1500, 5.972\n",
      "0.60, 1600, 8.603\n",
      "0.60, 1700, 13.384\n",
      "0.60, 1800, 19.884\n",
      "0.60, 1900, 30.509\n",
      "0.60, 2000, 44.700\n",
      "0.60, 2100, 72.523\n",
      "0.60, 2200, 110.690\n",
      "0.60, 2300, 173.324\n",
      "0.60, 2400, 271.197\n",
      "0.60, 2500, 437.696\n",
      "0.60, 2600, 709.295\n",
      "0.60, 2700, 1136.571\n",
      "0.60, 2800, 1857.809\n",
      "0.60, 2900, 3066.110\n",
      "0.60, 3000, 5294.445\n",
      "0.70, 300, 0.239\n",
      "0.70, 400, 0.244\n",
      "0.70, 500, 0.376\n",
      "0.70, 600, 0.556\n",
      "0.70, 700, 0.775\n",
      "0.70, 800, 0.949\n",
      "0.70, 900, 1.133\n",
      "0.70, 1000, 1.353\n",
      "0.70, 1100, 1.526\n",
      "0.70, 1200, 2.035\n",
      "0.70, 1300, 2.714\n",
      "0.70, 1400, 3.687\n",
      "0.70, 1500, 5.531\n",
      "0.70, 1600, 8.219\n",
      "0.70, 1700, 12.028\n",
      "0.70, 1800, 18.107\n",
      "0.70, 1900, 27.462\n",
      "0.70, 2000, 41.267\n",
      "0.70, 2100, 64.519\n",
      "0.70, 2200, 99.592\n",
      "0.70, 2300, 154.191\n",
      "0.70, 2400, 243.058\n",
      "0.70, 2500, 403.687\n",
      "0.70, 2600, 634.030\n",
      "0.70, 2700, 1025.305\n",
      "0.70, 2800, 1691.511\n",
      "0.70, 2900, 2725.499\n",
      "0.70, 3000, 4757.183\n",
      "0.80, 300, 0.208\n",
      "0.80, 400, 0.332\n",
      "0.80, 500, 0.448\n",
      "0.80, 600, 0.527\n",
      "0.80, 700, 0.638\n",
      "0.80, 800, 0.763\n",
      "0.80, 900, 0.944\n",
      "0.80, 1000, 1.108\n",
      "0.80, 1100, 1.467\n",
      "0.80, 1200, 1.965\n",
      "0.80, 1300, 2.552\n",
      "0.80, 1400, 3.700\n",
      "0.80, 1500, 5.584\n",
      "0.80, 1600, 8.257\n",
      "0.80, 1700, 12.149\n",
      "0.80, 1800, 18.541\n",
      "0.80, 1900, 27.373\n",
      "0.80, 2000, 41.822\n",
      "0.80, 2100, 64.501\n",
      "0.80, 2200, 99.988\n",
      "0.80, 2300, 151.816\n",
      "0.80, 2400, 240.689\n",
      "0.80, 2500, 380.065\n",
      "0.80, 2600, 607.573\n",
      "0.80, 2700, 966.697\n",
      "0.80, 2800, 1669.268\n",
      "0.80, 2900, 2723.446\n",
      "0.80, 3000, 4482.818\n",
      "0.90, 300, 0.239\n",
      "0.90, 400, 0.249\n",
      "0.90, 500, 0.445\n",
      "0.90, 600, 0.454\n",
      "0.90, 700, 0.518\n",
      "0.90, 800, 0.597\n",
      "0.90, 900, 0.786\n",
      "0.90, 1000, 0.934\n",
      "0.90, 1100, 1.175\n",
      "0.90, 1200, 1.706\n",
      "0.90, 1300, 2.366\n",
      "0.90, 1400, 3.473\n",
      "0.90, 1500, 5.067\n",
      "0.90, 1600, 7.720\n",
      "0.90, 1700, 11.195\n",
      "0.90, 1800, 16.659\n",
      "0.90, 1900, 26.026\n",
      "0.90, 2000, 38.208\n",
      "0.90, 2100, 57.239\n",
      "0.90, 2200, 92.201\n",
      "0.90, 2300, 142.226\n",
      "0.90, 2400, 225.556\n",
      "0.90, 2500, 368.781\n",
      "0.90, 2600, 592.760\n",
      "0.90, 2700, 952.835\n",
      "0.90, 2800, 1621.082\n",
      "0.90, 2900, 2655.628\n",
      "0.90, 3000, 4494.872\n",
      "0.98, 300, 0.135\n",
      "0.98, 400, 0.320\n",
      "0.98, 500, 0.311\n",
      "0.98, 600, 0.462\n",
      "0.98, 700, 0.409\n",
      "0.98, 800, 0.514\n",
      "0.98, 900, 0.681\n",
      "0.98, 1000, 0.832\n",
      "0.98, 1100, 1.120\n",
      "0.98, 1200, 1.640\n",
      "0.98, 1300, 2.346\n",
      "0.98, 1400, 3.477\n",
      "0.98, 1500, 5.387\n",
      "0.98, 1600, 7.599\n",
      "0.98, 1700, 11.581\n",
      "0.98, 1800, 17.373\n",
      "0.98, 1900, 26.831\n",
      "0.98, 2000, 41.034\n",
      "0.98, 2100, 63.847\n",
      "0.98, 2200, 98.416\n",
      "0.98, 2300, 155.939\n",
      "0.98, 2400, 257.211\n",
      "0.98, 2500, 409.400\n",
      "0.98, 2600, 681.927\n",
      "0.98, 2700, 1105.103\n",
      "0.98, 2800, 1900.395\n",
      "0.98, 2900, 3097.168\n",
      "0.98, 3000, 5642.676\n",
      "0.99, 300, 0.039\n",
      "0.99, 400, 0.184\n",
      "0.99, 500, 0.352\n",
      "0.99, 600, 0.349\n",
      "0.99, 700, 0.440\n",
      "0.99, 800, 0.539\n",
      "0.99, 900, 0.636\n",
      "0.99, 1000, 0.787\n",
      "0.99, 1100, 1.069\n",
      "0.99, 1200, 1.586\n",
      "0.99, 1300, 2.359\n",
      "0.99, 1400, 3.582\n",
      "0.99, 1500, 5.186\n",
      "0.99, 1600, 7.985\n",
      "0.99, 1700, 11.640\n",
      "0.99, 1800, 17.999\n",
      "0.99, 1900, 27.095\n",
      "0.99, 2000, 41.002\n",
      "0.99, 2100, 62.483\n",
      "0.99, 2200, 100.232\n",
      "0.99, 2300, 160.032\n",
      "0.99, 2400, 256.713\n",
      "0.99, 2500, 410.302\n",
      "0.99, 2600, 690.538\n",
      "0.99, 2700, 1124.305\n",
      "0.99, 2800, 2013.655\n",
      "0.99, 2900, 3322.659\n",
      "0.99, 3000, 5708.363\n",
      "1.00, 300, 999999999999999967336168804116691273849533185806555472917961779471295845921727862608739868455469056.000\n",
      "1.00, 400, 0.320\n",
      "1.00, 500, 0.312\n",
      "1.00, 600, 0.363\n",
      "1.00, 700, 0.480\n",
      "1.00, 800, 0.512\n",
      "1.00, 900, 0.616\n",
      "1.00, 1000, 0.806\n",
      "1.00, 1100, 1.175\n",
      "1.00, 1200, 1.679\n",
      "1.00, 1300, 2.412\n",
      "1.00, 1400, 3.543\n",
      "1.00, 1500, 5.097\n",
      "1.00, 1600, 8.044\n",
      "1.00, 1700, 11.732\n",
      "1.00, 1800, 17.987\n",
      "1.00, 1900, 26.789\n",
      "1.00, 2000, 41.870\n",
      "1.00, 2100, 63.795\n",
      "1.00, 2200, 104.043\n",
      "1.00, 2300, 166.408\n",
      "1.00, 2400, 268.009\n",
      "1.00, 2500, 432.877\n",
      "1.00, 2600, 719.710\n",
      "1.00, 2700, 1165.103\n",
      "1.00, 2800, 2109.300\n",
      "1.00, 2900, 3520.068\n",
      "1.00, 3000, 6042.345\n"
     ]
    }
   ],
   "source": [
    "from scipy.optimize import bisect\n",
    "def limit(sig,bkg):\n",
    "    if np.sum(sig)==0:\n",
    "        return 1e99\n",
    "    def func_root(x):\n",
    "        part1 = bkg > 20\n",
    "        part2 = np.logical_not(part1)\n",
    "        qcd_1 = bkg[part1]\n",
    "        qcd_2 = bkg[part2]\n",
    "        sig_1 = sig[part1]\n",
    "        sig_2 = sig[part2]\n",
    "\n",
    "        sig_t1 = (10**x)*sig_1\n",
    "        sig_t2 = (10**x)*sig_2\n",
    "        \n",
    "        sb1 = qcd_1 + sig_1\n",
    "        sb2 = qcd_2 + sig_2\n",
    "        \n",
    "        normpart = sig_t1**2/(2*(sb1+0.02**2*qcd_1**2))\n",
    "        logpart = np.where(qcd_2 > 1e-3, -qcd_2*np.log(1+sig_t2/qcd_2), 0)\n",
    "        my_val = np.sum(normpart)+(np.sum(logpart)+np.sum(sig_t2)) - 2\n",
    "        return my_val\n",
    "    \n",
    "    \n",
    "    soln = bisect(func_root, -10.,20.)\n",
    "    return 10**soln\n",
    "\n",
    "\n",
    "sig=get_sig(2200,0.2,mybins)\n",
    "bkg=get_bkg(mybins)\n",
    "\n",
    "rinv=np.array([.01,.1,.2,.3,.4,.5,.6,.7,.8,.9,.98,.99,1])\n",
    "masses=np.arange(300,3100,100)\n",
    "\n",
    "basecut='MEt > 800 & '\n",
    "cutlist=[]\n",
    "\n",
    "for pt4cut in [80, 100, 120]:\n",
    "    for pt2cut in [80, 100, 120, 200]:\n",
    "        for dphicut in ['dphi < 0.4', 'dphi > 0.4']:\n",
    "            if pt4cut <= pt2cut:\n",
    "                c1 = 'pt4 > ' + str(pt4cut) + ' & '\n",
    "                c2 = 'pt2 > ' + str(pt2cut) + ' & '\n",
    "                cutlist = cutlist + [ basecut + c1 + c2 + dphicut ]\n",
    "\n",
    "\n",
    "result=np.zeros([len(rinv),len(masses)])\n",
    "\n",
    "#get all the bkg first\n",
    "bkg_list=[ get_bkg(mybins, cut=c) for c in cutlist ]\n",
    "\n",
    "\n",
    "for ir,r in enumerate(rinv):\n",
    "    for im,m in enumerate(masses):\n",
    "        tempresult=np.array([ limit(get_sig(m,r,mybins,cut=c),bkg_list[i]) for i,c in enumerate(cutlist)])\n",
    "        print(\"{:1.2f}, {:d}, {:1.3f}\".format(r,m,np.amin(tempresult)))\n",
    "        result[ir, im]=np.amin(tempresult)\n"
   ]
  },
  {
   "cell_type": "code",
   "execution_count": 112,
   "metadata": {
    "collapsed": false
   },
   "outputs": [
    {
     "name": "stdout",
     "output_type": "stream",
     "text": [
      "[ 1399.79369226   500.01850514   431.67579473   434.39435502   699.99947038\n",
      "   695.74457711   811.31795149   827.6377445    934.14098055  1027.21268163\n",
      "  1058.38477264  1075.49198343  1052.5160745 ]\n",
      "[    0.             0.           431.67579473   434.39435502   699.99947038\n",
      "   695.74457711   811.31795149   827.6377445    934.14098055  1027.21268163\n",
      "  1058.38477264  1075.49198343  1052.5160745 ]\n"
     ]
    },
    {
     "data": {
      "image/png": "[encoded data removed]",
      "text/plain": [
       "<matplotlib.figure.Figure at 0x7f07e9073690>"
      ]
     },
     "metadata": {},
     "output_type": "display_data"
    }
   ],
   "source": [
    "from scipy.optimize import fsolve\n",
    "\n",
    "mass_limit=np.zeros(len(rinv))\n",
    "for i,r in enumerate(rinv):\n",
    "    mymass = np.insert(masses,0,0)\n",
    "    masslist = np.insert(result[i],0,0)    \n",
    "    mass_limit[i] = fsolve(lambda mZ: 1-np.interp(mZ, mymass, masslist), 2500)[0]\n",
    "\n",
    "final_limit=mass_limit\n",
    "print(mass_limit)\n",
    "\n",
    "\n",
    "final_limit[0]=0\n",
    "final_limit[1]=0\n",
    "cutoff = final_limit/sqrt(.1)\n",
    "plt.plot(rinv,final_limit)\n",
    "print(final_limit)"
   ]
  },
  {
   "cell_type": "code",
   "execution_count": 157,
   "metadata": {
    "collapsed": false
   },
   "outputs": [
    {
     "data": {
      "text/plain": [
       "[<matplotlib.lines.Line2D at 0x7f74e6f0a0d0>]"
      ]
     },
     "execution_count": 157,
     "metadata": {},
     "output_type": "execute_result"
    },
    {
     "data": {
      "image/png": "[encoded data removed]",
      "text/plain": [
       "<matplotlib.figure.Figure at 0x7f74e73d7750>"
      ]
     },
     "metadata": {},
     "output_type": "display_data"
    }
   ],
   "source": [
    "plt.plot(rinv,cutoff)"
   ]
  },
  {
   "cell_type": "code",
   "execution_count": 98,
   "metadata": {
    "collapsed": false
   },
   "outputs": [
    {
     "name": "stdout",
     "output_type": "stream",
     "text": [
      "[    0.          2217.08659189  2663.67699055  2759.79799664  2648.17282069\n",
      "  2443.62005021  2015.04500694  1265.43029158     0.             0.             0.\n",
      "     0.             0.        ]\n"
     ]
    }
   ],
   "source": [
    "limit01=final_limit\n",
    "print(limit01)"
   ]
  },
  {
   "cell_type": "markdown",
   "metadata": {},
   "source": [
    "### Read input"
   ]
  },
  {
   "cell_type": "code",
   "execution_count": 17,
   "metadata": {
    "collapsed": false
   },
   "outputs": [],
   "source": [
    "def readfile(name, folder='ntuple_Zprime/', lumi=1, cxn=None):\n",
    "        \n",
    "    data.meta = pd.read_csv(folder+name+'.meta', header=0, delimiter=',', skipinitialspace=True)\n",
    "    if 'weight' in data.columns:\n",
    "        data['weight'] *= (data.meta['cxn']*lumi/data.meta['sum_weight'])[0]\n",
    "    else:\n",
    "        data['weight'] = (data.meta['cxn']*lumi / data.meta['nevt'])[0]  \n",
    "    if cxn is not None:\n",
    "        data['weight'] = (cxn*lumi / data.meta['nevt'])[0]  \n",
    "    return data\n",
    "\n",
    "cut='MEt > 200 & MEt > .15*Mt & dphi < 1.0  & 1.1 > eta1-eta2 > -1.1'\n",
    "bkg = ['bkg_ttbar_dilep_0',  'bkg_ttbar_semilep_0',  'bkg_Wj_0',  'bkg_Zj_0']\n",
    "bkg = [ readfile(f) for f in bkg ]\n",
    "bkg = [ f.query(cut) for f in bkg ]\n",
    "\n",
    "b = 10**np.linspace(log10(500),log10(10000),101)\n",
    "\n",
    "cxn3000= .03951\n",
    "cxn5000= .0103\n",
    "\n",
    "def get_sig(mass):\n",
    "    sig = [ 'monojet_mass_rinv0.01',\n",
    "            'monojet_mass_rinv0.1',\n",
    "            'monojet_mass_rinv0.2',\n",
    "            'monojet_mass_rinv0.3',\n",
    "            'monojet_mass_rinv0.4',\n",
    "            'monojet_mass_rinv0.5',\n",
    "            'monojet_mass_rinv0.6',\n",
    "            'monojet_mass_rinv0.7',\n",
    "            'monojet_mass_rinv0.8',\n",
    "            'monojet_mass_rinv0.9',\n",
    "            'monojet_mass_rinv0.98',\n",
    "            'monojet_mass_rinv0.99',\n",
    "            'monojet_mass_rinv1.0' ]\n",
    "    sig = [ s.replace('mass',str(mass)) for s in sig ]\n",
    "    if mass == 3000:\n",
    "        sig = [readfile(f, cxn=cxn3000) for f in sig]\n",
    "        sig_cxn = [ cxn3000 for f in sig ]\n",
    "    elif mass == 5000:\n",
    "        sig = [readfile(f, cxn=cxn5000) for f in sig]\n",
    "        sig_cxn = [ cxn5000 for f in sig ]\n",
    "    else:\n",
    "        sig = [readfile(f) for f in sig]\n",
    "        sig_cxn = [ f.meta['cxn'] for f in sig ]\n",
    "        \n",
    "    sig = [ f.query(cut) for f in sig]\n",
    "    sig_Mt = [ np.histogram(f['Mt'],bins=b,weights=f['weight'])[0] for f in sig ]\n",
    "    return sig_Mt\n",
    "\n",
    "sig3000=get_sig(3000)\n",
    "sig5000=get_sig(5000)"
   ]
  },
  {
   "cell_type": "code",
   "execution_count": 18,
   "metadata": {
    "collapsed": false
   },
   "outputs": [
    {
     "data": {
      "image/png": "[encoded data removed]",
      "text/plain": [
       "<matplotlib.figure.Figure at 0x7fae77c96710>"
      ]
     },
     "metadata": {},
     "output_type": "display_data"
    }
   ],
   "source": [
    "bw = np.array(b[1:]-b[:-1])\n",
    "bc = np.sqrt(b[1:]*b[:-1])\n",
    "\n",
    "bkg_errbins = np.asarray([ np.histogram(f['Mt'],bins=b, weights = f['weight']**2)[0] for f in bkg ])\n",
    "total_bkgerr=np.sqrt(bkg_errbins.sum(axis=0))\n",
    "\n",
    "bkg_bins = np.asarray([ np.histogram(f['Mt'],bins=b, weights = f['weight'])[0] for f in bkg ])\n",
    "total_bkg=bkg_bins.sum(axis=0)\n",
    "\n",
    "val=[3.27816*1e-3, 17.1227, -7.85266, 0.00920465, -0.503524]\n",
    "\n",
    "def func(b,param=val):\n",
    "    x=b/13000.\n",
    "    p1=(val[1]+val[2]*np.log(x))\n",
    "    p2=(val[3]+val[4]*np.log(x))\n",
    "    return val[0]*(1-x)**p1/(x)**p2\n",
    "\n",
    "lumi=37*1000\n",
    "plt.plot(bc,total_bkg*lumi)\n",
    "plt.plot(bc,func(bc)*bw*lumi)\n",
    "plt.plot(bc,sig5000[5]*lumi)\n",
    "plt.yscale('log')\n",
    "plt.show()"
   ]
  },
  {
   "cell_type": "code",
   "execution_count": 19,
   "metadata": {
    "collapsed": false
   },
   "outputs": [
    {
     "name": "stdout",
     "output_type": "stream",
     "text": [
      "[  16.65288478    2.24727784    1.50436714    1.37437737    1.51087856\n",
      "    1.82360243    2.5037579     3.97729772    7.58550299   19.16986201\n",
      "   80.65051381  115.87687983  171.6086075 ]\n",
      "[  13.30830491    1.74678879    1.12634779    1.03160959    1.10951256\n",
      "    1.37180559    1.9500908     3.14228233    6.28311033   19.1438003\n",
      "  167.72897938  323.52898948  597.95894646]\n"
     ]
    },
    {
     "data": {
      "text/plain": [
       "<matplotlib.figure.Figure at 0x7fae77dfd610>"
      ]
     },
     "metadata": {},
     "output_type": "display_data"
    },
    {
     "data": {
      "image/png": "[encoded data removed]",
      "text/plain": [
       "<matplotlib.figure.Figure at 0x7fae77dfd250>"
      ]
     },
     "metadata": {},
     "output_type": "display_data"
    }
   ],
   "source": [
    "from scipy.optimize import bisect\n",
    "def limit(sig,lumi_scale=37*1000):\n",
    "    \n",
    "    sig_c = sig*lumi_scale\n",
    "    bkg_c = func(bc)*bw*lumi_scale  \n",
    "    def func_root(x):\n",
    "        part1 = bkg_c > 20\n",
    "        part2 = np.logical_not(part1)\n",
    "        qcd_1 = bkg_c[part1]\n",
    "        qcd_2 = bkg_c[part2]\n",
    "        sig_1 = sig_c[part1]\n",
    "        sig_2 = sig_c[part2]\n",
    "\n",
    "        sig_t1 = (10**x)*sig_1\n",
    "        sig_t2 = (10**x)*sig_2\n",
    "        \n",
    "        sb1 = qcd_1 + sig_1\n",
    "        sb2 = qcd_2 + sig_2\n",
    "        \n",
    "        normpart = sig_t1**2/(2*(sb1+0.05**2*sb1**2))\n",
    "        logpart = np.where(qcd_2 > 1e-3, -qcd_2*np.log(1+sig_t2/qcd_2), 0)\n",
    "        my_val = np.sum(normpart)+(np.sum(logpart)+np.sum(sig_t2)) - 3.84\n",
    "        return my_val\n",
    "    \n",
    "    soln = bisect(func_root, -10.,4.)\n",
    "    return soln\n",
    "\n",
    "rinv=[.01,.1,.2,.3,.4,.5,.6,.7,.8,.9,.98,.99,1]\n",
    "factor3000=np.asarray([ 10**limit(sig3000[i]/4.0) for i in range(len(rinv))])\n",
    "factor5000=np.asarray([ 10**limit(sig5000[i]/4.0) for i in range(len(rinv))])\n",
    "\n",
    "\n",
    "plt.figure()\n",
    "\n",
    "fig=plt.figure(\"m\", figsize=(8,7))\n",
    "plt.subplots_adjust(left=0.2, right=0.90, top=0.9, bottom=0.2)\n",
    "\n",
    "print(factor3000)\n",
    "print(factor5000)\n",
    "\n",
    "plt.plot(rinv,3000./factor3000**(1/4.0),label=r'$M_{Z^{\\prime}}=3000$',lw=3,alpha=.8)\n",
    "plt.plot(rinv,5000./factor5000**(1/4.0),label=r'$M_{Z^{\\prime}}=5000$',lw=3,alpha=.8)\n",
    "\n",
    "plt.xlabel(r'$ r_{\\rm inv}$', fontsize=25)\n",
    "plt.ylabel(r'$ \\Lambda\\,\\,{\\rm\\; GeV}$', fontsize=25)\n",
    "\n",
    "plt.legend(bbox_to_anchor=(0, 0, .95, 0.95),\n",
    "           fontsize=20, ncol=1,frameon=False,\n",
    "           handletextpad=.5, columnspacing=.8,\n",
    "           borderaxespad=0.)\n",
    "\n",
    "plt.savefig(\"cutoff_zprime.png\")"
   ]
  },
  {
   "cell_type": "code",
   "execution_count": 6,
   "metadata": {
    "collapsed": false
   },
   "outputs": [],
   "source": [
    "np.savetxt(\"bkg_bin.csv\", total_bkg/bw, delimiter=\",\")\n",
    "np.savetxt(\"bkg_binerr.csv\", total_bkgerr/bw, delimiter=\",\")\n",
    "np.savetxt(\"bc.csv\", bc, delimiter=\",\")\n",
    "\n",
    "    \n"
   ]
  },
  {
   "cell_type": "code",
   "execution_count": 8,
   "metadata": {
    "collapsed": false
   },
   "outputs": [
    {
     "data": {
      "text/plain": [
       "array([ 0.34976097,  0.09908617,  0.08246099,  0.06250258,  0.06242274,\n",
       "        0.05417827,  0.05151899,  0.04593964,  0.06050753,  0.06186179,\n",
       "        0.07733944,  0.07098929,  0.14023049])"
      ]
     },
     "execution_count": 8,
     "metadata": {},
     "output_type": "execute_result"
    }
   ],
   "source": [
    "factor1000"
   ]
  },
  {
   "cell_type": "code",
   "execution_count": 56,
   "metadata": {
    "collapsed": false
   },
   "outputs": [
    {
     "data": {
      "text/plain": [
       "array([ -23.56427403,  -24.67482405,  -25.83771268,  -27.05540656,\n",
       "        -28.33048859,  -29.66566338,  -31.06376302,  -32.52775307,\n",
       "        -34.06073885,  -35.66597201,  -37.34685749,  -39.10696066,\n",
       "        -40.95001493,  -42.87992968,  -44.9007985 ,  -47.01690794,\n",
       "        -49.23274655,  -51.55301441,  -53.98263313,  -56.52675625,\n",
       "        -59.19078019,  -61.98035572,  -64.90139989,  -67.96010864,\n",
       "        -71.16296988,  -74.51677733,  -78.02864485,  -81.70602159,\n",
       "        -85.55670775,  -89.58887116,  -93.81106458,  -98.23224385,\n",
       "       -102.86178687, -107.70951354, -112.78570652, -118.10113311,\n",
       "       -123.66706804, -129.4953174 , -135.59824369, -141.98879203,\n",
       "       -148.68051764, -155.68761456, -163.02494578, -170.70807477,\n",
       "       -178.75329848, -187.17768189, -195.99909427, -205.236247  ,\n",
       "       -214.90873333, -225.03706989])"
      ]
     },
     "execution_count": 56,
     "metadata": {},
     "output_type": "execute_result"
    }
   ],
   "source": [
    "def fit():\n",
    "    \n",
    "    sig=get_ps_bin(qcd,b*convert_to_mm)*lumi_scale\n",
    "    bkg=get_ps_bin(sig,b*convert_to_mm,t)*lumi_scale\n",
    "    \n",
    "    def func_root(x):\n",
    "        part1 = qcd_c > 100\n",
    "        part2 = np.logical_not(part1)\n",
    "        qcd_1 = qcd_c[part1]\n",
    "        qcd_2 = qcd_c[part2]\n",
    "        sig_1 = sig_c[part1]\n",
    "        sig_2 = sig_c[part2]\n",
    "\n",
    "        sig_t1 = (10**x)*sig_1\n",
    "        sig_t2 = (10**x)*sig_2\n",
    "        \n",
    "        sb1 = qcd_1 + sig_1\n",
    "        sb2 = qcd_2 + sig_2\n",
    "        \n",
    "        normpart = sig_t1**2/(sb1+0.02**2*sb1**2)\n",
    "        logpart = np.where(qcd_2 > 1e-3, -qcd_2*np.log(1+sig_t2/qcd_2), 0)\n",
    "        my_val = np.sum(normpart)+np.sum(logpart)+np.sum(sig_t2) - 3.84\n",
    "        return my_val\n",
    "    \n",
    "    soln = bisect(func_root, -10.,4.)\n",
    "    return soln"
   ]
  },
  {
   "cell_type": "code",
   "execution_count": 22,
   "metadata": {
    "collapsed": false
   },
   "outputs": [
    {
     "data": {
      "text/plain": [
       "(array([   0.,    0.,    0.,    0.,    0.,   15.,   34.,   39.,   44.,\n",
       "          70.,   60.,   60.,   84.,  109.,  104.,  106.,  107.,  123.,\n",
       "         125.,  137.,  132.,  146.,  161.,  128.,  154.,  152.,  157.,\n",
       "         173.,  155.,  137.,  117.,  122.,  112.,  129.,  113.,   96.,\n",
       "          87.,   73.,   63.,   65.,   66.,   52.,   47.,   28.,   17.,\n",
       "           0.,    0.,    0.,    0.,    0.]),\n",
       " array([-3.  , -2.88, -2.76, -2.64, -2.52, -2.4 , -2.28, -2.16, -2.04,\n",
       "        -1.92, -1.8 , -1.68, -1.56, -1.44, -1.32, -1.2 , -1.08, -0.96,\n",
       "        -0.84, -0.72, -0.6 , -0.48, -0.36, -0.24, -0.12,  0.  ,  0.12,\n",
       "         0.24,  0.36,  0.48,  0.6 ,  0.72,  0.84,  0.96,  1.08,  1.2 ,\n",
       "         1.32,  1.44,  1.56,  1.68,  1.8 ,  1.92,  2.04,  2.16,  2.28,\n",
       "         2.4 ,  2.52,  2.64,  2.76,  2.88,  3.  ]),\n",
       " <a list of 50 Patch objects>)"
      ]
     },
     "execution_count": 22,
     "metadata": {},
     "output_type": "execute_result"
    },
    {
     "data": {
      "text/plain": [
       "<matplotlib.figure.Figure at 0x7fb811d90cd0>"
      ]
     },
     "metadata": {},
     "output_type": "display_data"
    },
    {
     "data": {
      "image/png": "[encoded data removed]",
      "text/plain": [
       "<matplotlib.figure.Figure at 0x7fb811819e10>"
      ]
     },
     "metadata": {},
     "output_type": "display_data"
    },
    {
     "data": {
      "image/png": "[encoded data removed]",
      "text/plain": [
       "<matplotlib.figure.Figure at 0x7fb811bf7d10>"
      ]
     },
     "metadata": {},
     "output_type": "display_data"
    }
   ],
   "source": [
    "\n",
    "\n",
    "sig = pd.read_csv(\"higgs_Upsilon.evt\", header=0, delimiter=',', skipinitialspace=True)\n",
    "qcd = pd.read_csv(\"qcd_Upsilon_highweight.evt\", header=0, delimiter=',', skipinitialspace=True)\n",
    "\n",
    "sig_meta = pd.read_csv(\"higgs_Upsilon.meta\", header=0, delimiter=',', skipinitialspace=True)\n",
    "qcd_meta = pd.read_csv(\"qcd_Upsilon_highweight.meta\", header=0, delimiter=',', skipinitialspace=True)\n",
    "\n",
    "# lumi in inverse pb\n",
    "lumi=100*1000\n",
    "frac_mu=.0248\n",
    "mUps = 9.4603\n",
    "\n",
    "sig_w = np.array(48.6*lumi*frac_mu/sig_meta['nevt']).flatten()\n",
    "qcd_w = np.array(qcd_meta['cxn']*lumi*frac_mu/qcd_meta['weight_sum']).flatten()\n",
    "\n",
    "def get_dot(data):\n",
    "    data['dot_S']=(data['nx_S']*data['nx_J'] + data['ny_S']*data['ny_J'])\n",
    "\n",
    "def get_w(data,sig=False):\n",
    "    if not sig:\n",
    "        return data['weight']*qcd_w\n",
    "    else:\n",
    "        return np.repeat(sig_w, len(data.index))\n",
    "    \n",
    "get_dot(sig)\n",
    "\n",
    "sig = sig.query('pT > 25 & pTj > 30. & ga_S > 0 & dot_S > 0 &' + str(mUps+.2) + '> m >' + str(mUps-.2))\n",
    "qcd = qcd.query('pT > 25 & pTj > 30. & ' + str(mUps+.2) + '> m >' + str(mUps-.2))\n",
    "\n",
    "\n",
    "def get_ps(data, Stau=None):\n",
    "    dB=rand.exponential(data['ga_B'])\n",
    "    dd = data['dot_B']*dB\n",
    "    if Stau is not None:\n",
    "        dd += rand.exponential(data['ga_S']*Stau)*data['dot_S']\n",
    "    result=rand.normal(dd,.537)*data['m']/data['pT']\n",
    "    #result=dd*data['m']/data['pT']\n",
    "    return result\n",
    "\n",
    "from scipy.special import erfc\n",
    "from scipy.special import erf\n",
    "\n",
    "\n",
    "def get_ps_bin(data, bins, t=None):\n",
    "    if t is not None:\n",
    "        bc = (bins[1:]+bins[:-1])/2.0\n",
    "        factor = t*(data['dot_S']*data['ga_S']*data['m']/data['pT'])\n",
    "        factor_res = 0.537*(data['m']/data['pT'])\n",
    "        prod = np.exp(np.einsum('b,j->bj',bc,-1.0/factor))\n",
    "        prod = np.einsum('bj,j->bj',prod, 1.0/factor)\n",
    "        # get resolution\n",
    "        res_factor = 0.5*np.exp(0.5*(factor_res/factor)**2)\n",
    "        erfc_factor = np.add.outer(-bc, factor_res**2/factor)\n",
    "        erfc_factor = erfc( np.einsum('bv,v->bv', erfc_factor, 1/(sqrt(2)*factor_res)) )\n",
    "\n",
    "        res_factor = np.einsum('bv,v->bv', erfc_factor, res_factor)\n",
    "        # multiply the resolution\n",
    "        prod = prod*res_factor\n",
    "        return np.sum(prod,axis=1)*sig_w\n",
    "    \n",
    "    else:\n",
    "        bc = (bins[1:]+bins[:-1])/2.0\n",
    "        fr = .537*(data['m']/data['pT'])\n",
    "    \n",
    "        expf = 1/sqrt(2*np.pi)*np.exp(np.multiply.outer(-bc**2, 1/(2*(fr**2)) ))\n",
    "        expf = np.einsum('bj,j->bj', expf, data['weight']/fr)\n",
    "        \n",
    "        return np.sum(expf,axis=1)*qcd_w\n",
    "\n",
    "\n",
    "    \n",
    "plt.figure()\n",
    "\n",
    "fig=plt.figure(\"m\", figsize=(8,7))\n",
    "plt.subplots_adjust(left=0.2, right=0.90, top=0.9, bottom=0.2)\n",
    "\n",
    "plt.hist(qcd['m_Ups_j'],bins=np.linspace(0,300,31), weights=get_w(qcd)/5., normed=1, color='salmon', lw=0, alpha=.3,\n",
    "        label=r'${\\rm QCD\\; }\\Upsilon$')\n",
    "plt.hist(sig['m_Ups_j'],bins=np.linspace(0,300,31), weights=get_w(sig,True), normed=1, color='steelblue', \n",
    "         histtype='step', alpha=.6, label=r'$h\\rightarrow \\Upsilon$',lw=2)\n",
    "\n",
    "#plt.annotate(r'${\\rm Br}(h\\rightarrow \\Upsilon + X)=10^{-3}$', fontsize=20,\n",
    "#             xy=(.5,.9), xycoords='axes fraction' )\n",
    "\n",
    "plt.xlabel(r'$ M_{\\Upsilon + {\\rm jet}} \\; ({\\rm GeV})$', fontsize=20)\n",
    "plt.ylabel(r'$\\displaystyle \\frac{1}{\\sigma}\\frac{d\\sigma}{dM} \\; ({\\rm 10\\; GeV})^{-1}$', fontsize=20)\n",
    "plt.yscale('log')\n",
    "\n",
    "\n",
    "plt.legend(bbox_to_anchor=(0, 0, .95, 0.95),\n",
    "           fontsize=20, ncol=1,frameon=False,\n",
    "           handletextpad=.5, columnspacing=.8,\n",
    "           borderaxespad=0.)\n",
    "\n",
    "plt.yscale('log')\n",
    "\n",
    "plt.savefig('mass.png')\n",
    "plt.figure()\n",
    "plt.hist(qcd['rap'],bins=np.linspace(-3,3,51), color='blue', histtype='step')\n",
    "plt.hist(sig['rap'],bins=np.linspace(-3,3,51), color='red')"
   ]
  },
  {
   "cell_type": "code",
   "execution_count": null,
   "metadata": {
    "collapsed": true
   },
   "outputs": [],
   "source": []
  },
  {
   "cell_type": "code",
   "execution_count": 23,
   "metadata": {
    "collapsed": true
   },
   "outputs": [],
   "source": [
    "\n",
    "qcd=qcd.query('90 < m_Ups_j < 140 ')\n",
    "sig=sig.query('90 < m_Ups_j < 140 ')\n"
   ]
  },
  {
   "cell_type": "code",
   "execution_count": 24,
   "metadata": {
    "collapsed": false
   },
   "outputs": [
    {
     "data": {
      "image/png": "[encoded data removed]",
      "text/plain": [
       "<matplotlib.figure.Figure at 0x7fb812504a10>"
      ]
     },
     "metadata": {},
     "output_type": "display_data"
    }
   ],
   "source": [
    "fig=plt.figure(\"m\", figsize=(8,7))\n",
    "plt.subplots_adjust(left=0.2, right=0.90, top=0.9, bottom=0.2)\n",
    "\n",
    "b=np.linspace(-1,3,101)\n",
    "convert_to_mm = 1/.3\n",
    "\n",
    "b_c = (b[1:]+b[:-1])/2.\n",
    "br=1e-3\n",
    "qcd_v=get_ps_bin(qcd,b*convert_to_mm)*1000/lumi\n",
    "sig_v_05=get_ps_bin(sig,b*convert_to_mm,0.5)*1000*br/lumi\n",
    "sig_v_10=get_ps_bin(sig,b*convert_to_mm,1)*1000*br/lumi\n",
    "\n",
    "\n",
    "setting = {'lw':0, 'alpha':0.4, 'bins':b}\n",
    "\n",
    "#plt.hist(b_c, weights=qcd_v, color='olive', **setting)\n",
    "plt.plot(b_c,qcd_v, color='salmon', lw=3, alpha=.8, label=r'${\\rm QCD\\; }\\Upsilon$')\n",
    "plt.plot(b_c,sig_v_05, color='steelblue',ls='dashed', lw=3, alpha=.8, label=r'$c\\tau_\\phi = 0.5\\; {\\rm mm}$')\n",
    "plt.plot(b_c,sig_v_10, color='purple',ls='dashed', lw=3, alpha=.8, label=r'$c\\tau_\\phi = 1.0\\; {\\rm mm}$')\n",
    "#plt.plot(b_c,qcd_v+sig_v, color='green', lw=3)\n",
    "\n",
    "\n",
    "#print(qcd_v)\n",
    "plt.xlabel(r'$ L_{T} \\; ({\\rm mm})$', fontsize=20)\n",
    "plt.ylabel(r'$\\displaystyle\\frac{d\\sigma}{dL_{T}} \\; ({\\rm fb/mm})$', fontsize=20)\n",
    "plt.yscale('log')\n",
    "plt.ylim([1e-3,1e6])\n",
    "\n",
    "plt.legend(bbox_to_anchor=(0, 0, .93, 0.85),\n",
    "           fontsize=20, ncol=1,frameon=False,\n",
    "           handletextpad=.2, columnspacing=.8,\n",
    "           borderaxespad=0.)\n",
    "\n",
    "plt.annotate(r'${\\rm Br}(h\\rightarrow {\\rm displaced}\\;\\Upsilon)=10^{-3}$', fontsize=20,\n",
    "             xy=(.4,.9), xycoords='axes fraction' )\n",
    "\n",
    "#plt.gca().locator_params(axis='y',nbins=5)\n",
    "plt.ylim([1e-5,3e5])\n",
    "plt.savefig('ups.png')\n"
   ]
  },
  {
   "cell_type": "code",
   "execution_count": 25,
   "metadata": {
    "collapsed": false
   },
   "outputs": [
    {
     "name": "stdout",
     "output_type": "stream",
     "text": [
      "[ 1.97287381  1.61188055  1.25755781  0.91430796  0.5851462   0.27197267\n",
      " -0.02415913 -0.30281407 -0.56399594 -0.80801258 -1.03537728 -1.2467376\n",
      " -1.4428246  -1.62441691 -1.79231554 -1.94732632 -2.09024795 -2.2218638\n",
      " -2.34293632 -2.45420318 -2.55637437 -2.65013002 -2.73611849 -2.81495477\n",
      " -2.8872192  -2.9534564  -3.01417457 -3.06984527 -3.12090357 -3.16774865\n",
      " -3.21074489 -3.25022333 -3.28648358 -3.31979593 -3.35040386 -3.37852661\n",
      " -3.40436187 -3.42808842 -3.44986869 -3.46985105 -3.48817189 -3.50495731\n",
      " -3.52032456 -3.5343831  -3.54723541 -3.55897757 -3.56969962 -3.57948588\n",
      " -3.58841509 -3.59656058 -3.60399045 -3.61076767 -3.61695033 -3.62259182\n",
      " -3.62774106 -3.63244278 -3.63673777 -3.64066315 -3.64425265 -3.64753691\n",
      " -3.65054368 -3.65329814 -3.65582306 -3.65813909 -3.66026487 -3.66221726\n",
      " -3.66401142 -3.66566083 -3.66717732 -3.66857083 -3.66984909 -3.67101712\n",
      " -3.67207658 -3.67302488 -3.67385437 -3.67455145 -3.67509586 -3.67546028\n",
      " -3.67561018 -3.67550421 -3.6750949  -3.67432977 -3.67315272 -3.67150559\n",
      " -3.66932975 -3.66656765 -3.66316422 -3.65906796 -3.65423191 -3.64861418\n",
      " -3.64217836 -3.63489359 -3.62673458 -3.61768133 -3.60771888 -3.59683699\n",
      " -3.58502976 -3.57229528 -3.55863534 -3.54405508 -3.52856278]\n",
      "[ 0.56285985  0.2018666  -0.15245615 -0.49570599 -0.82486776 -1.13804129\n",
      " -1.4341731  -1.71282806 -1.97400996 -2.2180267  -2.44539162 -2.65675238\n",
      " -2.85284025 -3.03443418 -3.20233565 -3.35735121 -3.50028055 -3.63190833\n",
      " -3.75299865 -3.86429113 -3.96649808 -4.06030216 -4.14635448 -4.22527287\n",
      " -4.29764052 -4.36400479 -4.42487648 -4.48072947 -4.53200089 -4.57909165\n",
      " -4.62236753 -4.66216067 -4.69877148 -4.73247083 -4.76350255 -4.79208608\n",
      " -4.81841922 -4.84268078 -4.86503319 -4.88562481 -4.904592   -4.92206084\n",
      " -4.93814853 -4.95296446 -4.96661095 -4.97918385 -4.99077287 -5.00146182\n",
      " -5.01132882 -5.02044638 -5.02888159 -5.03669629 -5.04394719 -5.05068616\n",
      " -5.05696043 -5.06281288 -5.06828232 -5.07340374 -5.07820866 -5.08272536\n",
      " -5.08697921 -5.09099286 -5.09478656 -5.09837833 -5.1017842  -5.10501835\n",
      " -5.10809327 -5.11101977 -5.11380698 -5.11646217 -5.11899038 -5.12139396\n",
      " -5.12367187 -5.12581881 -5.12782441 -5.12967232 -5.13133957 -5.13279611\n",
      " -5.13400485 -5.13492195 -5.1354977  -5.13567764 -5.13540402 -5.13461744\n",
      " -5.13325842 -5.13126903 -5.12859419 -5.12518288 -5.1209889  -5.11597151\n",
      " -5.11009567 -5.10333217 -5.09565744 -5.08705337 -5.07750695 -5.06700988\n",
      " -5.0555582  -5.04315194 -5.02979471 -5.01549346 -5.00025816]\n"
     ]
    }
   ],
   "source": [
    "from scipy.optimize import bisect\n",
    "\n",
    "def limit(t, lumi_scale=1.0):\n",
    "    \n",
    "    b=np.linspace(0.1,50.1,101)\n",
    "    convert_to_mm = 1/.3\n",
    "    qcd_c=get_ps_bin(qcd,b*convert_to_mm)*lumi_scale\n",
    "    sig_c=get_ps_bin(sig,b*convert_to_mm,t)*lumi_scale\n",
    "    \n",
    "    def func_root(x):\n",
    "        part1 = qcd_c > 100\n",
    "        part2 = np.logical_not(part1)\n",
    "        qcd_1 = qcd_c[part1]\n",
    "        qcd_2 = qcd_c[part2]\n",
    "        sig_1 = sig_c[part1]\n",
    "        sig_2 = sig_c[part2]\n",
    "\n",
    "        sig_t1 = (10**x)*sig_1\n",
    "        sig_t2 = (10**x)*sig_2\n",
    "        \n",
    "        sb1 = qcd_1 + sig_1\n",
    "        sb2 = qcd_2 + sig_2\n",
    "        \n",
    "        normpart = sig_t1**2/(sb1+0.02**2*sb1**2)\n",
    "        logpart = np.where(qcd_2 > 1e-3, -qcd_2*np.log(1+sig_t2/qcd_2), 0)\n",
    "        my_val = np.sum(normpart)+np.sum(logpart)+np.sum(sig_t2) - 3.84\n",
    "        return my_val\n",
    "    \n",
    "    soln = bisect(func_root, -10.,4.)\n",
    "    return soln\n",
    "\n",
    "\n",
    "lifetime = 2*10.**np.linspace(-2,1.5,101)\n",
    "mylimit_1 = [ limit(t) for t in lifetime ]\n",
    "mylimit_1 = np.array(mylimit_1).flatten()\n",
    "mylimit_30 = [ limit(t,30) for t in lifetime ]\n",
    "mylimit_30 = np.array(mylimit_30).flatten()\n",
    "\n",
    "\n",
    "print mylimit_1\n",
    "print mylimit_30"
   ]
  },
  {
   "cell_type": "code",
   "execution_count": 27,
   "metadata": {
    "collapsed": false
   },
   "outputs": [
    {
     "data": {
      "image/png": "[encoded data removed]",
      "text/plain": [
       "<matplotlib.figure.Figure at 0x7fb811ae4650>"
      ]
     },
     "metadata": {},
     "output_type": "display_data"
    }
   ],
   "source": [
    "fig=plt.figure(\"limit\", figsize=(8,7))\n",
    "plt.subplots_adjust(left=0.2, right=0.90, top=0.9, bottom=0.2)\n",
    "plt.plot(lifetime, 10**mylimit_1, lw=3, alpha=.8, color='black', \n",
    "         label=r'$\\int\\! \\mathcal{L}dt = 100 \\; {\\rm fb}^{-1}$')\n",
    "plt.plot(lifetime, 10**mylimit_30, lw=3, alpha=.8, color='brown', ls='dashed',\n",
    "        label=r'$\\int\\! \\mathcal{L}dt = 3 \\; {\\rm ab}^{-1}$')\n",
    "\n",
    "plt.xlabel(r'$ c\\tau_{\\phi} \\; ({\\rm mm})$', fontsize=20)\n",
    "plt.ylabel(r'${\\rm Br}\\,\\left(\\,h\\rightarrow {\\rm displaced}\\;\\Upsilon\\,\\right)$', fontsize=20)\n",
    "\n",
    "plt.legend(bbox_to_anchor=(0, 0, .93, 0.93),\n",
    "           fontsize=20, ncol=1,frameon=False,\n",
    "           handletextpad=.4, columnspacing=.8,\n",
    "           borderaxespad=0.)\n",
    "\n",
    "plt.yscale('log')\n",
    "plt.xscale('log')\n",
    "plt.xlim([.5e-1,20])\n",
    "plt.ylim([1e-6,.1])\n",
    "plt.savefig('limit.png')"
   ]
  },
  {
   "cell_type": "code",
   "execution_count": 48,
   "metadata": {
    "collapsed": false,
    "scrolled": true
   },
   "outputs": [
    {
     "data": {
      "image/png": "[encoded data removed]",
      "text/plain": [
       "<matplotlib.figure.Figure at 0x7fb4f07ade90>"
      ]
     },
     "metadata": {},
     "output_type": "display_data"
    }
   ],
   "source": [
    "myeff=np.asarray([[9.46,.515],[10.57, .515],[10.65, .18],[10.7, .0101],[10.8, .0037],[10.9, .00113],[11, .0005],[11.5, .00028],[12, .00025],[13, .00025],[14, .00025]])\n",
    "myeff=np.transpose(myeff)\n",
    "myeff[1]=(1-np.sqrt(1-myeff[1]))\n",
    "\n",
    "myfrac=np.asarray([[9.6, 0.0378601], [9.61, 0.0404092], [9.62, 0.0429803], [9.63,0.0455703], [9.64, 0.0481765], [9.65, 0.0507963], [9.66,0.0534274], [9.67, 0.0560673], [9.68, 0.058714], [9.69,0.0613657], [9.7, 0.0640203], [9.71, 0.0666763], [9.72,0.0693319], [9.73, 0.0719858], [9.74, 0.0746364], [9.75, 0.0772826], [9.76, 0.079923], [9.77, 0.0825566], [9.78, 0.0851823], [9.79, 0.0877991], [9.8, 0.090406], [9.81, 0.0930023], [9.82, 0.0955872], [9.83, 0.0981599], [9.84, 0.10072], [9.85, 0.103266], [9.86, 0.105798], [9.87, 0.108316], [9.88, 0.110819], [9.89, 0.113306], [9.9, 0.115777], [9.91, 0.118232], [9.92, 0.12067], [9.93, 0.123091], [9.94, 0.125495], [9.95, 0.127881], [9.96, 0.13025], [9.97, 0.132601], [9.98, 0.134933], [9.99, 0.137248], [10., 0.139544], [10.01, 0.141822], [10.02, 0.144081], [10.03, 0.146321], [10.04, 0.148543], [10.05, 0.150746], [10.06, 0.15293], [10.07, 0.155095], [10.08, 0.157242], [10.09, 0.15937], [10.1, 0.161479], [10.11, 0.163569], [10.12, 0.165641], [10.13, 0.167694], [10.14, 0.169729], [10.15, 0.171745], [10.16, 0.173742], [10.17, 0.175722], [10.18, 0.177683], [10.19, 0.179626], [10.2, 0.18155], [10.21, 0.183457], [10.22, 0.185346], [10.23, 0.187218], [10.24, 0.189071], [10.25, 0.190908], [10.26, 0.192726], [10.27, 0.194528], [10.28, 0.196313], [10.29, 0.19808], [10.3, 0.199831], [10.31, 0.201565], [10.32, 0.203283], [10.33, 0.204984], [10.34, 0.206669], [10.35, 0.208337], [10.36, 0.20999], [10.37, 0.211627], [10.38, 0.213248], [10.39, 0.214854], [10.4, 0.216444], [10.41, 0.21802], [10.42, 0.21958], [10.43, 0.221125], [10.44, 0.222655], [10.45, 0.224171], [10.46, 0.225672], [10.47, 0.227158], [10.48, 0.228631], [10.49, 0.230089], [10.5, 0.231534], [10.51, 0.232965], [10.52, 0.234382], [10.53, 0.235786], [10.54, 0.237176], [10.55, 0.238553], [10.56, 0.239918], [10.57, 0.241269], [10.58, 0.212734], [10.59, 0.187559], [10.6, 0.165349], [10.61, 0.145758], [10.62, 0.128478], [10.63, 0.113239], [10.64, 0.0997992], [10.65, 0.0879484], [10.66, 0.0496792], [10.67, 0.0280602], [10.68, 0.0158481], [10.69, 0.00895027], [10.7, 0.00505435], [10.71, 0.00459246], [10.72, 0.00417251], [10.73, 0.00379073], [10.74, 0.00344368], [10.75, 0.00312821], [10.76, 0.00284147], [10.77, 0.00258088], [10.78, 0.00234405], [10.79, 0.00212883], [10.8, 0.00193327], [10.81, 0.00172394], [10.82, 0.00153719], [10.83, 0.0013706], [10.84, 0.001222], [10.85, 0.00108946], [10.86, 0.000971252], [10.87, 0.000865826], [10.88, 0.000771808], [10.89, 0.000687968], [10.9, 0.000613207], [10.91, 0.00056719], [10.92, 0.000524604], [10.93, 0.000485194], [10.94, 0.000448726], [10.95, 0.000414982], [10.96, 0.00038376], [10.97, 0.000354873], [10.98, 0.000328148], [10.99, 0.000303423], [11., 0.000280551], [11.01, 0.000278185], [11.02, 0.000275829], [11.03, 0.000273482], [11.04, 0.000271147], [11.05, 0.000268821], [11.06, 0.000266507], [11.07, 0.000264204], [11.08, 0.000261912], [11.09, 0.000259631], [11.1, 0.000257362], [11.11, 0.000255105], [11.12, 0.000252859], [11.13, 0.000250626], [11.14, 0.000248405], [11.15, 0.000246196], [11.16, 0.000244], [11.17, 0.000241817], [11.18, 0.000239646], [11.19, 0.000237489], [11.2, 0.000235344], [11.21, 0.000233212], [11.22, 0.000231094], [11.23, 0.000228989], [11.24, 0.000226897], [11.25, 0.000224818], [11.26, 0.000222753], [11.27, 0.000220702], [11.28, 0.000218664], [11.29, 0.000216639], [11.3, 0.000214629], [11.31, 0.000212632], [11.32, 0.000210649], [11.33, 0.00020868], [11.34, 0.000206724], [11.35, 0.000204782], [11.36, 0.000202855], [11.37, 0.000200941], [11.38, 0.000199041], [11.39, 0.000197154], [11.4, 0.000195282], [11.41, 0.000193424], [11.42, 0.000191579], [11.43, 0.000189749], [11.44, 0.000187932], [11.45, 0.000186129], [11.46, 0.00018434], [11.47, 0.000182565], [11.48, 0.000180803], [11.49, 0.000179056], [11.5, 0.000177322], [11.51, 0.000177247], [11.52, 0.00017717], [11.53, 0.00017709], [11.54, 0.000177007], [11.55, 0.000176921], [11.56, 0.000176832], [11.57, 0.00017674], [11.58, 0.000176645], [11.59, 0.000176548], [11.6, 0.000176448], [11.61, 0.000176345], [11.62, 0.00017624], [11.63, 0.000176132], [11.64, 0.000176022], [11.65, 0.000175909], [11.66, 0.000175794], [11.67, 0.000175676], [11.68, 0.000175556], [11.69, 0.000175434], [11.7, 0.000175309], [11.71, 0.000175182], [11.72, 0.000175052], [11.73, 0.000174921], [11.74, 0.000174787], [11.75, 0.000174651], [11.76, 0.000174513], [11.77, 0.000174373], [11.78, 0.000174231], [11.79, 0.000174087], [11.8, 0.000173941], [11.81, 0.000173793], [11.82, 0.000173643], [11.83, 0.000173491], [11.84, 0.000173337], [11.85, 0.000173182], [11.86, 0.000173024], [11.87, 0.000172865], [11.88, 0.000172704], [11.89, 0.000172541], [11.9, 0.000172377], [11.91, 0.000172211], [11.92, 0.000172043], [11.93, 0.000171874], [11.94, 0.000171703], [11.95, 0.000171531], [11.96, 0.000171357], [11.97, 0.000171181], [11.98, 0.000171004], [11.99, 0.000170825], [12., 0.000170645], [12.01, 0.000170851], [12.02, 0.000171055], [12.03, 0.000171258], [12.04, 0.000171459], [12.05, 0.000171659], [12.06, 0.000171858], [12.07, 0.000172055], [12.08, 0.000172251], [12.09, 0.000172446], [12.1, 0.00017264], [12.11, 0.000172832], [12.12, 0.000173023], [12.13, 0.000173213], [12.14, 0.000173402], [12.15, 0.000173589], [12.16, 0.000173776], [12.17, 0.000173961], [12.18, 0.000174145], [12.19, 0.000174328], [12.2, 0.000174509], [12.21, 0.00017469], [12.22, 0.000174869], [12.23, 0.000175047], [12.24, 0.000175224], [12.25, 0.0001754], [12.26, 0.000175575], [12.27, 0.000175749], [12.28, 0.000175922], [12.29, 0.000176093], [12.3, 0.000176264], [12.31, 0.000176433], [12.32, 0.000176602], [12.33, 0.000176769], [12.34, 0.000176936], [12.35, 0.000177101], [12.36, 0.000177266], [12.37, 0.000177429], [12.38, 0.000177592], [12.39, 0.000177753], [12.4, 0.000177914], [12.41, 0.000178073], [12.42, 0.000178232], [12.43, 0.000178389], [12.44, 0.000178546], [12.45, 0.000178702], [12.46, 0.000178857], [12.47, 0.000179011], [12.48, 0.000179164], [12.49, 0.000179316], [12.5, 0.000179467], [12.51, 0.000179617], [12.52, 0.000179767], [12.53, 0.000179915], [12.54, 0.000180063], [12.55, 0.00018021], [12.56, 0.000180356], [12.57, 0.000180501], [12.58, 0.000180646], [12.59, 0.000180789], [12.6, 0.000180932], [12.61, 0.000181074], [12.62, 0.000181215], [12.63, 0.000181355], [12.64, 0.000181494], [12.65, 0.000181633], [12.66, 0.000181771], [12.67, 0.000181908], [12.68, 0.000182044], [12.69, 0.00018218], [12.7, 0.000182315], [12.71, 0.000182449], [12.72, 0.000182582], [12.73, 0.000182715], [12.74, 0.000182846], [12.75, 0.000182978], [12.76, 0.000183108], [12.77, 0.000183238], [12.78, 0.000183366], [12.79, 0.000183495], [12.8, 0.000183622], [12.81, 0.000183749], [12.82, 0.000183875], [12.83, 0.000184001], [12.84, 0.000184125], [12.85, 0.000184249], [12.86, 0.000184373], [12.87, 0.000184496], [12.88, 0.000184618], [12.89, 0.000184739], [12.9, 0.00018486], [12.91, 0.00018498], [12.92, 0.000185099], [12.93, 0.000185218], [12.94, 0.000185337], [12.95, 0.000185454], [12.96, 0.000185571], [12.97, 0.000185687], [12.98, 0.000185803], [12.99, 0.000185918], [13., 0.000186033], [13.01, 0.000186147], [13.02, 0.00018626], [13.03, 0.000186373], [13.04, 0.000186485], [13.05, 0.000186597], [13.06, 0.000186708], [13.07, 0.000186818], [13.08, 0.000186928], [13.09, 0.000187037], [13.1, 0.000187146], [13.11, 0.000187254], [13.12, 0.000187362], [13.13, 0.000187469], [13.14, 0.000187575], [13.15, 0.000187681], [13.16, 0.000187787], [13.17, 0.000187891], [13.18, 0.000187996], [13.19, 0.0001881], [13.2, 0.000188203], [13.21, 0.000188306], [13.22, 0.000188408], [13.23, 0.00018851], [13.24, 0.000188611], [13.25, 0.000188712], [13.26, 0.000188812], [13.27, 0.000188912], [13.28, 0.000189011], [13.29, 0.00018911], [13.3, 0.000189208], [13.31, 0.000189306], [13.32, 0.000189403], [13.33, 0.0001895], [13.34, 0.000189597], [13.35, 0.000189693], [13.36, 0.000189788], [13.37, 0.000189883], [13.38, 0.000189978], [13.39, 0.000190072], [13.4, 0.000190165], [13.41, 0.000190258], [13.42, 0.000190351], [13.43, 0.000190443], [13.44, 0.000190535], [13.45, 0.000190626], [13.46, 0.000190717], [13.47, 0.000190808], [13.48, 0.000190898], [13.49, 0.000190988], [13.5, 0.000191077], [13.51, 0.000191166], [13.52, 0.000191254], [13.53, 0.000191342], [13.54, 0.00019143], [13.55, 0.000191517], [13.56, 0.000191604], [13.57, 0.00019169], [13.58, 0.000191776], [13.59, 0.000191861], [13.6, 0.000191946], [13.61, 0.000192031], [13.62, 0.000192116], [13.63, 0.0001922], [13.64, 0.000192283], [13.65, 0.000192366], [13.66, 0.000192449], [13.67, 0.000192532], [13.68, 0.000192614], [13.69, 0.000192695], [13.7, 0.000192777], [13.71, 0.000192857], [13.72, 0.000192938], [13.73, 0.000193018], [13.74, 0.000193098], [13.75, 0.000193178], [13.76, 0.000193257], [13.77, 0.000193335], [13.78, 0.000193414], [13.79, 0.000193492], [13.8, 0.00019357], [13.81, 0.000193647], [13.82, 0.000193724], [13.83, 0.000193801], [13.84, 0.000193877], [13.85, 0.000193953], [13.86, 0.000194029], [13.87, 0.000194104], [13.88, 0.000194179], [13.89, 0.000194254], [13.9, 0.000194328], [13.91, 0.000194402], [13.92, 0.000194476], [13.93, 0.000194549], [13.94, 0.000194622], [13.95, 0.000194695], [13.96, 0.000194767], [13.97, 0.000194839], [13.98, 0.000194911], [13.99, 0.000194983], [14., 0.000195054], [14.01, 0.000195125], [14.02, 0.000195195], [14.03, 0.000195265], [14.04, 0.000195335], [14.05, 0.000195405], [14.06, 0.000195474], [14.07, 0.000195543], [14.08, 0.000195612], [14.09, 0.000195681], [14.1, 0.000195749], [14.11, 0.000195817], [14.12, 0.000195884], [14.13, 0.000195952], [14.14, 0.000196019], [14.15, 0.000196086], [14.16, 0.000196152], [14.17, 0.000196218], [14.18, 0.000196284], [14.19, 0.00019635], [14.2, 0.000196415], [14.21, 0.00019648], [14.22, 0.000196545], [14.23, 0.00019661], [14.24, 0.000196674], [14.25, 0.000196738], [14.26, 0.000196802], [14.27, 0.000196865], [14.28, 0.000196929], [14.29, 0.000196992], [14.3, 0.000197054], [14.31, 0.000197117], [14.32, 0.000197179], [14.33, 0.000197241], [14.34, 0.000197303], [14.35, 0.000197364], [14.36, 0.000197425], [14.37, 0.000197486], [14.38, 0.000197547], [14.39, 0.000197608], [14.4, 0.000197668], [14.41, 0.000197728], [14.42, 0.000197788], [14.43, 0.000197847], [14.44, 0.000197906], [14.45, 0.000197965], [14.46, 0.000198024], [14.47, 0.000198083], [14.48, 0.000198141], [14.49, 0.000198199], [14.5, 0.000198257], [14.51, 0.000198315], [14.52, 0.000198372], [14.53, 0.000198429], [14.54, 0.000198486], [14.55, 0.000198543], [14.56, 0.0001986], [14.57, 0.000198656], [14.58, 0.000198712], [14.59, 0.000198768], [14.6, 0.000198824], [14.61, 0.000198879], [14.62, 0.000198934], [14.63, 0.000198989], [14.64, 0.000199044], [14.65, 0.000199099], [14.66, 0.000199153], [14.67, 0.000199207], [14.68, 0.000199261], [14.69, 0.000199315], [14.7, 0.000199369], [14.71, 0.000199422], [14.72, 0.000199475], [14.73, 0.000199528], [14.74, 0.000199581], [14.75, 0.000199633], [14.76, 0.000199686], [14.77, 0.000199738], [14.78, 0.00019979], [14.79, 0.000199841], [14.8, 0.000199893], [14.81, 0.000199944], [14.82, 0.000199995], [14.83, 0.000200046], [14.84, 0.000200097], [14.85, 0.000200148], [14.86, 0.000200198], [14.87, 0.000200248], [14.88, 0.000200298], [14.89, 0.000200348], [14.9, 0.000200398], [14.91, 0.000200447], [14.92, 0.000200497], [14.93, 0.000200546], [14.94, 0.000200595], [14.95, 0.000200643], [14.96, 0.000200692], [14.97, 0.00020074], [14.98, 0.000200789], [14.99, 0.000200837], [15., 0.000200884]])\n",
    "myfrac=np.transpose(myfrac)\n",
    "\n",
    "fig=plt.figure(\"limit\", figsize=(8,7))\n",
    "plt.subplots_adjust(left=0.2, right=0.90, top=0.9, bottom=0.2)\n",
    "\n",
    "plt.plot(myeff[0],myeff[1], lw=3, alpha=.8, color='brown', \n",
    "         label=r'$\\phi \\rightarrow b\\bar{b} \\rightarrow \\Upsilon + X$')\n",
    "\n",
    "plt.plot(myfrac[0],myfrac[1], lw=3, alpha=.8, color='black',ls='dashed', \n",
    "         label=r'$\\phi\\phi \\rightarrow \\Upsilon + X$')\n",
    "\n",
    "plt.xlabel(r'$ m_\\phi \\; ({\\rm GeV})$', fontsize=20)\n",
    "plt.ylabel(r'${\\rm Proportion}$', fontsize=20)\n",
    "\n",
    "\n",
    "plt.legend(bbox_to_anchor=(0, 0, .93, 0.93),\n",
    "           fontsize=20, ncol=1,frameon=False,\n",
    "           handletextpad=.4, columnspacing=.8,\n",
    "           borderaxespad=0.)\n",
    "\n",
    "\n",
    "plt.yscale('log')\n",
    "plt.ylim([1e-5, 1])\n",
    "plt.xlim([9.6, 13.])\n",
    "\n",
    "plt.savefig('frac.png')"
   ]
  },
  {
   "cell_type": "code",
   "execution_count": 41,
   "metadata": {
    "collapsed": false
   },
   "outputs": [
    {
     "data": {
      "text/plain": [
       "112.35559433937328"
      ]
     },
     "execution_count": 41,
     "metadata": {},
     "output_type": "execute_result"
    }
   ],
   "source": [
    "v1=np.array([-2.0570073275e+01, -2.4927365110e+01, -1.0873707933e+02, 1.1353565020e+02])\n",
    "v2=np.array([+9.0322382382e+01, -7.3336703562e+01, -1.0888364352e+02, 1.5941813785e+02])\n",
    "g=np.diag([-1,-1,-1,1])\n",
    "vv=v1+v2\n",
    "sqrt(np.dot(vv,np.dot(g,vv)))"
   ]
  },
  {
   "cell_type": "code",
   "execution_count": 334,
   "metadata": {
    "collapsed": false
   },
   "outputs": [],
   "source": [
    "def plot(var, bins):\n",
    "    f, axarr = plt.subplots(1,2, sharex=True, sharey=True, figsize=(12,5))\n",
    "    setting = {'lw':0, 'alpha':0.4, 'color':'olive', 'bins':bins}\n",
    "    plt.yscale('log')\n",
    "    axarr[0].hist(sig[var], **setting)\n",
    "    axarr[1].hist(qcd[var], **setting)\n",
    "    plt.xlim([min(bins),max(bins)])\n",
    "    plt.show()\n",
    "\n",
    "nqcd = 1000\n",
    "nsig = 1000\n",
    "qcd_bias = 0.\n",
    "qcd_list=np.array([ get_ps_new(qcd) for i in range(nqcd) ])\n",
    "#sig_list=np.array([ get_ps(sig,Stau=20) for i in range(nsig) ]).flatten()\n",
    "\n",
    "\n"
   ]
  },
  {
   "cell_type": "code",
   "execution_count": 277,
   "metadata": {
    "collapsed": false
   },
   "outputs": [
    {
     "data": {
      "text/html": [
       "<div>\n",
       "<table border=\"1\" class=\"dataframe\">\n",
       "  <thead>\n",
       "    <tr style=\"text-align: right;\">\n",
       "      <th></th>\n",
       "      <th>evt</th>\n",
       "      <th>m</th>\n",
       "      <th>pT</th>\n",
       "      <th>eta</th>\n",
       "      <th>rap</th>\n",
       "      <th>phi</th>\n",
       "      <th>pTj</th>\n",
       "      <th>etaj</th>\n",
       "      <th>rapj</th>\n",
       "      <th>phij</th>\n",
       "      <th>m_JPsi_j</th>\n",
       "      <th>nx_J</th>\n",
       "      <th>ny_J</th>\n",
       "      <th>B</th>\n",
       "      <th>nx_B</th>\n",
       "      <th>ny_B</th>\n",
       "      <th>ga_B</th>\n",
       "      <th>dot_B</th>\n",
       "    </tr>\n",
       "  </thead>\n",
       "  <tbody>\n",
       "    <tr>\n",
       "      <th>0</th>\n",
       "      <td>1</td>\n",
       "      <td>2.95808</td>\n",
       "      <td>12.7138</td>\n",
       "      <td>-1.53694</td>\n",
       "      <td>-1.51296</td>\n",
       "      <td>4.59833</td>\n",
       "      <td>58.2841</td>\n",
       "      <td>-0.844733</td>\n",
       "      <td>-0.840101</td>\n",
       "      <td>1.48042</td>\n",
       "      <td>58.5529</td>\n",
       "      <td>-0.046783</td>\n",
       "      <td>-0.408397</td>\n",
       "      <td>511</td>\n",
       "      <td>-0.061438</td>\n",
       "      <td>-0.414406</td>\n",
       "      <td>20.5164</td>\n",
       "      <td>0.172116</td>\n",
       "    </tr>\n",
       "  </tbody>\n",
       "</table>\n",
       "</div>"
      ],
      "text/plain": [
       "   evt        m       pT      eta      rap      phi      pTj      etaj  \\\n",
       "0    1  2.95808  12.7138 -1.53694 -1.51296  4.59833  58.2841 -0.844733   \n",
       "\n",
       "       rapj     phij  m_JPsi_j      nx_J      ny_J    B      nx_B      ny_B  \\\n",
       "0 -0.840101  1.48042   58.5529 -0.046783 -0.408397  511 -0.061438 -0.414406   \n",
       "\n",
       "      ga_B     dot_B  \n",
       "0  20.5164  0.172116  "
      ]
     },
     "execution_count": 277,
     "metadata": {},
     "output_type": "execute_result"
    }
   ],
   "source": [
    "qcd_new"
   ]
  },
  {
   "cell_type": "code",
   "execution_count": 335,
   "metadata": {
    "collapsed": false
   },
   "outputs": [
    {
     "name": "stdout",
     "output_type": "stream",
     "text": [
      "[ 0.82159551]\n"
     ]
    },
    {
     "data": {
      "image/png": "[encoded data removed]",
      "text/plain": [
       "<matplotlib.figure.Figure at 0x7fb08d99dfd0>"
      ]
     },
     "metadata": {},
     "output_type": "display_data"
    }
   ],
   "source": [
    "plt.figure(figsize=(7,5))\n",
    "setting = {'lw':0, 'alpha':0.4, 'bins':np.linspace(-1,10,101)}\n",
    "qcd_total = np.concatenate(qcd_list)\n",
    "plt.hist(qcd_total, color='olive', normed=1, **setting)\n",
    "x=np.linspace(0,19,501)\n",
    "#factor=qcd_new['dot_B']*qcd_new['ga_B']*qcd_new['m']/qcd_new['pT']\n",
    "#factor=np.asarray(factor).flatten()\n",
    "print factor\n",
    "#plt.hist(sig_list, color='blue', weights=np.repeat(sig_w, len(sig_list)), **setting)\n",
    "plt.yscale('log')"
   ]
  },
  {
   "cell_type": "code",
   "execution_count": 70,
   "metadata": {
    "collapsed": false
   },
   "outputs": [
    {
     "data": {
      "text/plain": [
       "array([ 24.29689848,  20.61010762,  20.22822042, ...,  21.60090931,\n",
       "        21.37936283,  22.58576364])"
      ]
     },
     "execution_count": 70,
     "metadata": {},
     "output_type": "execute_result"
    }
   ],
   "source": [
    "np.concatenate(qcd_list)"
   ]
  },
  {
   "cell_type": "code",
   "execution_count": 55,
   "metadata": {
    "collapsed": false
   },
   "outputs": [
    {
     "data": {
      "text/plain": [
       "array([1, 2, 4, 3, 4, 5, 0])"
      ]
     },
     "execution_count": 55,
     "metadata": {},
     "output_type": "execute_result"
    }
   ],
   "source": [
    "np.concatenate([[1,2],[4],[3,4,5,0]])"
   ]
  },
  {
   "cell_type": "code",
   "execution_count": 4,
   "metadata": {
    "collapsed": false
   },
   "outputs": [
    {
     "data": {
      "text/plain": [
       "(array([  980.,    27.,    79.,   177.,   262.,   304.,   359.,   395.,\n",
       "          460.,   427.,   505.,   604.,   702.,   750.,   923.,  1068.,\n",
       "         1244.,  1583.,  1860.,  2162.,  2675.,  3299.,  4574.,  7057.,\n",
       "         8026.,  3786.,  1154.,   570.,   498.,   400.,   345.,   296.,\n",
       "          259.,   218.,   177.,   163.,   163.,   123.,   112.,    82.,\n",
       "           75.,    57.,    49.,    50.,    44.,    27.,    34.,    33.,\n",
       "           30.,    28.]),\n",
       " array([    0.,    40.,    80.,   120.,   160.,   200.,   240.,   280.,\n",
       "          320.,   360.,   400.,   440.,   480.,   520.,   560.,   600.,\n",
       "          640.,   680.,   720.,   760.,   800.,   840.,   880.,   920.,\n",
       "          960.,  1000.,  1040.,  1080.,  1120.,  1160.,  1200.,  1240.,\n",
       "         1280.,  1320.,  1360.,  1400.,  1440.,  1480.,  1520.,  1560.,\n",
       "         1600.,  1640.,  1680.,  1720.,  1760.,  1800.,  1840.,  1880.,\n",
       "         1920.,  1960.,  2000.]),\n",
       " <a list of 50 Patch objects>)"
      ]
     },
     "execution_count": 4,
     "metadata": {},
     "output_type": "execute_result"
    },
    {
     "data": {
      "image/png": "[encoded data removed]",
      "text/plain": [
       "<matplotlib.figure.Figure at 0x7fc06c7ba5d0>"
      ]
     },
     "metadata": {},
     "output_type": "display_data"
    }
   ],
   "source": [
    "plt.figure(figsize=(6,5))\n",
    "#plt.yscale(\"log\", nonposy='clip')\n",
    "setting = {'lw':0, 'alpha':0.4, 'bins':np.linspace(0,2000,51)}\n",
    "\n",
    "plt.hist(list(sig.evt['m1'])+list(sig.evt['m2']), color='red', **setting)\n"
   ]
  },
  {
   "cell_type": "code",
   "execution_count": 5,
   "metadata": {
    "collapsed": false
   },
   "outputs": [
    {
     "data": {
      "text/plain": [
       "(array([   0.,    0.,    0.,    0.,    1.,    2.,   10.,  115.,  287.,\n",
       "         527.,  648.,  680.,  688.,  613.,  550.,  489.,  445.,  372.,\n",
       "         327.,  281.,  256.,  207.,  204.,  164.,  174.,  131.,   89.,\n",
       "          55.,   36.,   21.,   13.,   17.,    8.,    3.,    1.,    1.,\n",
       "           1.,    3.,    1.,    0.,    1.,    0.,    0.,    0.,    0.,\n",
       "           0.,    0.,    0.,    0.,    0.]),\n",
       " array([    0.,    40.,    80.,   120.,   160.,   200.,   240.,   280.,\n",
       "          320.,   360.,   400.,   440.,   480.,   520.,   560.,   600.,\n",
       "          640.,   680.,   720.,   760.,   800.,   840.,   880.,   920.,\n",
       "          960.,  1000.,  1040.,  1080.,  1120.,  1160.,  1200.,  1240.,\n",
       "         1280.,  1320.,  1360.,  1400.,  1440.,  1480.,  1520.,  1560.,\n",
       "         1600.,  1640.,  1680.,  1720.,  1760.,  1800.,  1840.,  1880.,\n",
       "         1920.,  1960.,  2000.]),\n",
       " <a list of 50 Patch objects>)"
      ]
     },
     "execution_count": 5,
     "metadata": {},
     "output_type": "execute_result"
    },
    {
     "data": {
      "image/png": "[encoded data removed]",
      "text/plain": [
       "<matplotlib.figure.Figure at 0x7fc03d24e350>"
      ]
     },
     "metadata": {},
     "output_type": "display_data"
    },
    {
     "data": {
      "image/png": "[encoded data removed]",
      "text/plain": [
       "<matplotlib.figure.Figure at 0x7fc03d2e44d0>"
      ]
     },
     "metadata": {},
     "output_type": "display_data"
    },
    {
     "data": {
      "image/png": "[encoded data removed]",
      "text/plain": [
       "<matplotlib.figure.Figure at 0x7fc03c81d410>"
      ]
     },
     "metadata": {},
     "output_type": "display_data"
    },
    {
     "data": {
      "image/png": "[encoded data removed]",
      "text/plain": [
       "<matplotlib.figure.Figure at 0x7fc03c5c5bd0>"
      ]
     },
     "metadata": {},
     "output_type": "display_data"
    }
   ],
   "source": [
    "def epsilon(j1,j2,j3,j4):\n",
    "    val = fabs(np.linalg.det([j1,j2,j3,j4]))**(1/4.0)\n",
    "    mm = pt(j1)**0\n",
    "    return val/mm\n",
    "\n",
    "def avg_mass(j1,j2,j3,j4):\n",
    "    m1 = fabs(m(j1+j2)-m(j3+j4))/(m(j1+j2)+m(j3+j4))\n",
    "    m2 = fabs(m(j1+j3)-m(j2+j4))/(m(j1+j3)+m(j2+j4))\n",
    "    m3 = fabs(m(j1+j4)-m(j3+j2))/(m(j1+j4)+m(j3+j2))\n",
    "    if np.amin([m1,m2,m3]) == m1:\n",
    "        return (m(j1+j2)+m(j3+j4))/2.\n",
    "    elif np.amin([m1,m2,m3]) == m2:\n",
    "        return (m(j1+j3)+m(j2+j4))/2.\n",
    "    else:\n",
    "        return (m(j1+j4)+m(j2+j3))/2\n",
    "\n",
    "def min_mass(j1,j2,j3,j4):\n",
    "    m1 = fabs(m(j1+j2)-m(j3+j4))\n",
    "    m2 = fabs(m(j1+j3)-m(j2+j4))\n",
    "    m3 = fabs(m(j1+j4)-m(j3+j2))\n",
    "    if np.amin([m1,m2,m3]) == m1:\n",
    "        return (m(j1+j2)+m(j3+j4))/2.\n",
    "    elif np.amin([m1,m2,m3]) == m2:\n",
    "        return (m(j1+j3)+m(j2+j4))/2.\n",
    "    else:\n",
    "        return (m(j1+j4)+m(j2+j3))/2\n",
    "\n",
    "def best_mass(j1,j2,j3,j4):\n",
    "    m1 = fabs(m(j1+j2)+m(j3+j4)-2000)\n",
    "    m2 = fabs(m(j1+j3)+m(j2+j4)-2000)\n",
    "    m3 = fabs(m(j1+j4)+m(j3+j2)-2000)\n",
    "    if np.amin([m1,m2,m3]) == m1:\n",
    "        return (m(j1+j2)+m(j3+j4))/2.\n",
    "    elif np.amin([m1,m2,m3]) == m2:\n",
    "        return (m(j1+j3)+m(j2+j4))/2.\n",
    "    else:\n",
    "        return (m(j1+j4)+m(j2+j3))/2\n",
    "\n",
    "\n",
    "plt.figure(figsize=(6,5))\n",
    "setting = {'lw':0, 'alpha':0.4, 'bins':np.linspace(0,2000,51)}\n",
    "\n",
    "\n",
    "plt.yscale(\"log\", nonposy='clip')\n",
    "plt.hist(sig.get_var(epsilon), color='red', normed=1, **setting)\n",
    "plt.hist(qcd.get_var(epsilon), color='blue', normed=1, **setting)\n",
    "\n",
    "setting = {'lw':0, 'alpha':0.4, 'bins':np.linspace(0,2000,51)}\n",
    "\n",
    "# avg_mass\n",
    "plt.figure(figsize=(6,5))\n",
    "#plt.yscale(\"log\", nonposy='clip')\n",
    "plt.hist(sig.get_var(avg_mass), color='red', **setting)\n",
    "plt.hist(qcd.get_var(avg_mass), color='blue', **setting)\n",
    "\n",
    "plt.figure(figsize=(6,5))\n",
    "#plt.yscale(\"log\", nonposy='clip')\n",
    "plt.hist(sig.get_var(min_mass), color='red', **setting)\n",
    "plt.hist(qcd.get_var(min_mass), color='blue', **setting)\n",
    "\n",
    "plt.figure(figsize=(6,5))\n",
    "#plt.yscale(\"log\", nonposy='clip')\n",
    "plt.hist(sig.get_var(best_mass), color='red', **setting)\n",
    "plt.hist(qcd.get_var(best_mass), color='blue', **setting)"
   ]
  },
  {
   "cell_type": "code",
   "execution_count": 6,
   "metadata": {
    "collapsed": false
   },
   "outputs": [
    {
     "name": "stdout",
     "output_type": "stream",
     "text": [
      "[0 0 1]\n"
     ]
    }
   ],
   "source": [
    "# jj1,jj2,jj3,jj4,bb = boost_to_E(sig.j[0],sig.j[1],sig.j[2],sig.j[3])\n",
    "# qj1,qj2,qj3,qj4,qb = boost_to_E(qcd.j[0],qcd.j[1],qcd.j[2],qcd.j[3])\n",
    "# old stuff\n",
    "\n",
    "aa_test = np.asarray([[1,2],[1,3],[3,2]])\n",
    "print np.argmin(aa_test, axis=1)"
   ]
  },
  {
   "cell_type": "code",
   "execution_count": 7,
   "metadata": {
    "collapsed": false
   },
   "outputs": [
    {
     "name": "stdout",
     "output_type": "stream",
     "text": [
      "[ 441.41907584  441.41907584  854.59988453 ...,  666.04247914  373.20968592\n",
      "  373.20968592]\n",
      "[  908.35    827.291  1418.593 ...,   677.135   826.925   618.479]\n"
     ]
    },
    {
     "data": {
      "image/png": "[encoded data removed]",
      "text/plain": [
       "<matplotlib.figure.Figure at 0x7fc03d23eb10>"
      ]
     },
     "metadata": {},
     "output_type": "display_data"
    }
   ],
   "source": [
    "plt.figure(figsize=(6,5))\n",
    "\n",
    "# find delta_R min in CMS 8TeV search\n",
    "sig.j_etaphi=np.array([sig.jet_etaphi(1), sig.jet_etaphi(2), sig.jet_etaphi(3), sig.jet_etaphi(4)])\n",
    "qcd.j_etaphi=np.array([qcd.jet_etaphi(1), qcd.jet_etaphi(2), qcd.jet_etaphi(3), qcd.jet_etaphi(4)])\n",
    "\n",
    "sig.dR=np.array([np.fabs(delta_R(sig.j_etaphi[0],sig.j_etaphi[1])-1) + np.fabs(delta_R(sig.j_etaphi[2],sig.j_etaphi[3])-1), \n",
    "                 np.fabs(delta_R(sig.j_etaphi[0],sig.j_etaphi[2])-1) + np.fabs(delta_R(sig.j_etaphi[1],sig.j_etaphi[3])-1), \n",
    "                 np.fabs(delta_R(sig.j_etaphi[0],sig.j_etaphi[3])-1) + np.fabs(delta_R(sig.j_etaphi[1],sig.j_etaphi[2])-1), \n",
    "                 ]).transpose()\n",
    "\n",
    "qcd.dR=np.array([np.fabs(delta_R(qcd.j_etaphi[0],qcd.j_etaphi[1])-1) + np.fabs(delta_R(qcd.j_etaphi[2],qcd.j_etaphi[3])-1), \n",
    "                 np.fabs(delta_R(qcd.j_etaphi[0],qcd.j_etaphi[2])-1) + np.fabs(delta_R(qcd.j_etaphi[1],qcd.j_etaphi[3])-1), \n",
    "                 np.fabs(delta_R(qcd.j_etaphi[0],qcd.j_etaphi[3])-1) + np.fabs(delta_R(qcd.j_etaphi[1],qcd.j_etaphi[2])-1), \n",
    "                 ]).transpose()\n",
    "\n",
    "\n",
    "# choose a dijet pair\n",
    "def dR_min(matrix):\n",
    "    return np.asarray([np.argmin(matrix, axis=1), np.amin(matrix, axis=1)]).transpose()\n",
    "    \n",
    "# get the pair mass and pair sum pT\n",
    "def pair_stat(jet_matrix, index):\n",
    "    mass = []\n",
    "    sumpt = []\n",
    "    deta = []\n",
    "    for js,i in zip(np.transpose(jet_matrix, axes=(1,0,2)), index):\n",
    "        if i[0]==0:\n",
    "            mass.append(np.array([ m(js[0]+js[1]), m(js[2]+js[3]) ]))\n",
    "            sumpt.append(np.array([ pt(js[0])+pt(js[1]), pt(js[2])+pt(js[3]) ]))\n",
    "            deta.append([ fabs(eta(js[0]+js[1]) - eta(js[2]-js[3])) ])\n",
    "        elif i[0]==1:\n",
    "            mass.append(np.array([ m(js[0]+js[2]), m(js[1]+js[3]) ]))\n",
    "            sumpt.append(np.array([ pt(js[0])+pt(js[2]), pt(js[1])+pt(js[3]) ]))\n",
    "            deta.append([ fabs(eta(js[0]+js[2]) - eta(js[1]-js[3])) ])\n",
    "        else:\n",
    "            mass.append(np.array([ m(js[0]+js[3]), m(js[1]+js[2]) ]))\n",
    "            sumpt.append(np.array([ pt(js[0])+pt(js[3]), pt(js[1])+pt(js[2]) ]))\n",
    "            deta.append([ fabs(eta(js[0]+js[3]) - eta(js[1]-js[2])) ])\n",
    "    \n",
    "    return np.asarray(mass), np.asarray(sumpt), np.asarray(deta)\n",
    "            \n",
    "        \n",
    "sig.index=dR_min(sig.dR)\n",
    "qcd.index=dR_min(qcd.dR)\n",
    "\n",
    "sig.mass, sig.sumpt, sig.deta = pair_stat(sig.j, sig.index)\n",
    "qcd.mass, qcd.sumpt, qcd.deta = pair_stat(qcd.j, qcd.index)\n",
    "\n",
    "sig.dm = 2*np.fabs(sig.mass[:,0]-sig.mass[:,1])/(sig.mass[:,0]+sig.mass[:,1])\n",
    "qcd.dm = 2*np.fabs(qcd.mass[:,0]-qcd.mass[:,1])/(qcd.mass[:,0]+qcd.mass[:,1])\n",
    "\n",
    "sig.mavg = (sig.mass[:,0]+sig.mass[:,1])/2\n",
    "qcd.mavg = (qcd.mass[:,0]+qcd.mass[:,1])/2\n",
    "\n",
    "# now we have two candidates per_event\n",
    "def double_array(array):\n",
    "    return np.asarray([array, array]).transpose().flatten()\n",
    "    \n",
    "sig.dm = double_array(sig.dm)\n",
    "sig.deta = double_array(sig.deta)\n",
    "sig.mass = sig.mass.flatten()\n",
    "sig.sumpt = sig.sumpt.flatten()\n",
    "sig.mavg = double_array(sig.mavg.flatten())\n",
    "sig.Delta = sig.sumpt - sig.mavg\n",
    "\n",
    "print sig.mavg\n",
    "print sig.sumpt\n",
    "\n",
    "qcd.dm = double_array(qcd.dm)\n",
    "qcd.deta = double_array(qcd.deta)\n",
    "qcd.mass = qcd.mass.flatten()\n",
    "qcd.sumpt = qcd.sumpt.flatten()\n",
    "qcd.mavg = double_array(qcd.mavg.flatten())\n",
    "qcd.Delta = qcd.sumpt - qcd.mavg\n",
    "\n",
    "sig.mass_cut = sig.mass[ (sig.Delta > 100) & (sig.deta < 1) & (sig.dm < .15) ]\n",
    "qcd.mass_cut = qcd.mass[ (qcd.Delta > 100) & (qcd.deta < 1) & (qcd.dm < .15) ]\n",
    "\n",
    "setting = {'lw':0, 'alpha':0.4, 'bins':np.linspace(0,1000,51)}\n",
    "plt.hist(sig.mass_cut, color='red', weights = sig.weight(len(sig.mass_cut)), **setting)\n",
    "plt.hist(qcd.mass_cut, color='blue', weights = qcd.weight(len(qcd.mass_cut)), **setting)\n",
    "plt.yscale(\"log\", nonposy='clip')\n",
    "\n",
    "plt.show()"
   ]
  },
  {
   "cell_type": "code",
   "execution_count": 8,
   "metadata": {
    "collapsed": false
   },
   "outputs": [
    {
     "data": {
      "text/plain": [
       "(array([ 0.31181917,  0.34586057,  0.34313725,  0.30228758,  0.2954793 ,\n",
       "         0.34994553,  0.32135076,  0.29411765,  0.2832244 ,  0.33632898,\n",
       "         0.31862745,  0.33224401,  0.24645969,  0.31590414,  0.29684096,\n",
       "         0.26960784,  0.29956427,  0.3172658 ,  0.23556645,  0.24101307,\n",
       "         0.29411765,  0.24237473,  0.25326797,  0.23148148,  0.24237473,\n",
       "         0.21922658,  0.2124183 ,  0.18246187,  0.19063181,  0.19744009,\n",
       "         0.16884532,  0.14842048,  0.14705882,  0.11574074,  0.13071895,\n",
       "         0.11982571,  0.10893246,  0.11846405,  0.08714597,  0.07489107,\n",
       "         0.0708061 ,  0.0585512 ,  0.0708061 ,  0.05446623,  0.05310458,\n",
       "         0.03676471,  0.02995643,  0.02587146,  0.02723312,  0.02995643]),\n",
       " array([ 0. ,  0.1,  0.2,  0.3,  0.4,  0.5,  0.6,  0.7,  0.8,  0.9,  1. ,\n",
       "         1.1,  1.2,  1.3,  1.4,  1.5,  1.6,  1.7,  1.8,  1.9,  2. ,  2.1,\n",
       "         2.2,  2.3,  2.4,  2.5,  2.6,  2.7,  2.8,  2.9,  3. ,  3.1,  3.2,\n",
       "         3.3,  3.4,  3.5,  3.6,  3.7,  3.8,  3.9,  4. ,  4.1,  4.2,  4.3,\n",
       "         4.4,  4.5,  4.6,  4.7,  4.8,  4.9,  5. ]),\n",
       " <a list of 50 Patch objects>)"
      ]
     },
     "execution_count": 8,
     "metadata": {},
     "output_type": "execute_result"
    },
    {
     "data": {
      "image/png": "[encoded data removed]",
      "text/plain": [
       "<matplotlib.figure.Figure at 0x7fc03c8fa190>"
      ]
     },
     "metadata": {},
     "output_type": "display_data"
    },
    {
     "data": {
      "image/png": "[encoded data removed]",
      "text/plain": [
       "<matplotlib.figure.Figure at 0x7fc03c981c10>"
      ]
     },
     "metadata": {},
     "output_type": "display_data"
    }
   ],
   "source": [
    "plt.figure(figsize=(6,5))\n",
    "\n",
    "\n",
    "setting = {'lw':0, 'alpha':0.4, 'bins':np.linspace(0,2,51), 'normed':1}\n",
    "plt.hist(sig.dm, color='red', weights = sig.weight(len(sig.dm)), **setting)\n",
    "plt.hist(qcd.dm, color='blue', weights = qcd.weight(len(qcd.dm)), **setting)\n",
    "#plt.yscale(\"log\", nonposy='clip')\n",
    "\n",
    "\n",
    "plt.figure(figsize=(6,5))\n",
    "\n",
    "\n",
    "setting = {'lw':0, 'alpha':0.4, 'bins':np.linspace(0,5,51), 'normed':1}\n",
    "plt.hist(sig.deta, color='red', weights = sig.weight(len(sig.dm)), **setting)\n",
    "plt.hist(qcd.deta, color='blue', weights = qcd.weight(len(qcd.dm)), **setting)\n"
   ]
  },
  {
   "cell_type": "code",
   "execution_count": null,
   "metadata": {
    "collapsed": true
   },
   "outputs": [],
   "source": []
  },
  {
   "cell_type": "code",
   "execution_count": null,
   "metadata": {
    "collapsed": true
   },
   "outputs": [],
   "source": []
  }
 ],
 "metadata": {
  "celltoolbar": "Raw Cell Format",
  "kernelspec": {
   "display_name": "Python 2",
   "language": "python",
   "name": "python2"
  },
  "language_info": {
   "codemirror_mode": {
    "name": "ipython",
    "version": 2
   },
   "file_extension": ".py",
   "mimetype": "text/x-python",
   "name": "python",
   "nbconvert_exporter": "python",
   "pygments_lexer": "ipython2",
   "version": "2.7.6"
  }
 },
 "nbformat": 4,
 "nbformat_minor": 0
}
