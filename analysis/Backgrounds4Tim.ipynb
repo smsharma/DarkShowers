{
 "cells": [
  {
   "cell_type": "code",
   "execution_count": 300,
   "metadata": {
    "collapsed": true
   },
   "outputs": [],
   "source": [
    "# Important necessary libraries\n",
    "import pandas as pd\n",
    "import numpy as np\n",
    "import matplotlib.pyplot as plt\n",
    "from __future__ import division\n",
    "from matplotlib.lines import Line2D\n",
    "from tqdm import *\n",
    "from itertools import compress\n",
    "from scipy.optimize import bisect\n",
    "import math\n",
    "%matplotlib inline  "
   ]
  },
  {
   "cell_type": "code",
   "execution_count": 301,
   "metadata": {
    "collapsed": true
   },
   "outputs": [],
   "source": [
    "def round_sigfigs(num, sig_figs):\n",
    "    \"\"\"Round to specified number of sigfigs.\n",
    "\n",
    "    >>> round_sigfigs(0, sig_figs=4)\n",
    "    0\n",
    "    >>> int(round_sigfigs(12345, sig_figs=2))\n",
    "    12000\n",
    "    >>> int(round_sigfigs(-12345, sig_figs=2))\n",
    "    -12000\n",
    "    >>> int(round_sigfigs(1, sig_figs=2))\n",
    "    1\n",
    "    >>> '{0:.3}'.format(round_sigfigs(3.1415, sig_figs=2))\n",
    "    '3.1'\n",
    "    >>> '{0:.3}'.format(round_sigfigs(-3.1415, sig_figs=2))\n",
    "    '-3.1'\n",
    "    >>> '{0:.5}'.format(round_sigfigs(0.00098765, sig_figs=2))\n",
    "    '0.00099'\n",
    "    >>> '{0:.6}'.format(round_sigfigs(0.00098765, sig_figs=3))\n",
    "    '0.000988'\n",
    "    \"\"\"\n",
    "    if num != 0:\n",
    "        return round(num, -int(math.floor(math.log10(abs(num))) - (sig_figs - 1)))\n",
    "    else:\n",
    "        return 0  # Can't take the log of 0\n"
   ]
  },
  {
   "cell_type": "code",
   "execution_count": 302,
   "metadata": {
    "collapsed": true
   },
   "outputs": [],
   "source": [
    "def combine_background_files(folder='../data/bkg_Zj/', lumi=37*1000, nfiles=200, cut=None,extra='', return_cxn = False, kf=1.0):\n",
    "    \"\"\" Read .evt and .meta files as output by monojet.C and \n",
    "        properly weigh events\n",
    "    \"\"\"\n",
    "    \n",
    "    evt_frames = [pd.read_csv(folder+'events_'+str(extra)+str(i)+'.evt', header=0, delimiter=',', skipinitialspace=True) for i in range(nfiles)]\n",
    "    good_frames = np.array([len(evt_frame) for evt_frame in evt_frames]) > 0\n",
    "    \n",
    "    evt_frames = list(compress(evt_frames, good_frames))\n",
    "    meta_frames = [pd.read_csv(folder+'events_'+str(extra)+str(i)+'.meta', header=0, delimiter=',', skipinitialspace=True) for i in compress(range(nfiles),good_frames)]\n",
    "    sum_weights = np.sum([meta_frame['sum_weight'] for meta_frame in meta_frames])\n",
    "    mean_cxn  = np.mean([meta_frame['cxn'] for meta_frame in meta_frames])\n",
    "    for evt_frame, meta_frame in zip(evt_frames, meta_frames):\n",
    "        evt_frame['weight'] *= (meta_frame['cxn']*lumi/sum_weights)[0]*5000*kf\n",
    "        \n",
    "    data = pd.concat(evt_frames)\n",
    "    \n",
    "    if cut is not None:\n",
    "        data = data.query(cut)\n",
    "    if return_cxn:\n",
    "        return data, mean_cxn\n",
    "    else:\n",
    "        return data"
   ]
  },
  {
   "cell_type": "code",
   "execution_count": 303,
   "metadata": {
    "collapsed": true
   },
   "outputs": [],
   "source": [
    "def to_str(num):\n",
    "    if .2 <= num <= .9:\n",
    "        return '{:.1g}'.format(num)[-2:]\n",
    "    elif num == 0:\n",
    "        return '0.0'\n",
    "    elif num == 0.99:\n",
    "        return '0.99'\n",
    "    elif num == 1:\n",
    "        return '1.0'\n",
    "    else:\n",
    "        return str(num)\n",
    "\n",
    "def combine_signal_files(folder='../data/bkg_Zj/', mphi = 1700, rinv = 1, lumi=37*1000, nfiles=2, cut = None,extra='', return_cxn = False):\n",
    "    \"\"\" Read .evt and .meta files as output by monojet.C and \n",
    "        properly weigh events\n",
    "    \"\"\"\n",
    "    \n",
    "    evt_frames = [pd.read_csv(folder+'events_'+str(extra)+str(mphi)+\"_\"+to_str(rinv)+\"_\"+str(i)+'.evt', header=0, delimiter=',', skipinitialspace=True) for i in range(nfiles)]\n",
    "    good_frames = np.array([len(evt_frame) for evt_frame in evt_frames]) > 0\n",
    "    \n",
    "    evt_frames = list(compress(evt_frames, good_frames))\n",
    "    meta_frames = [pd.read_csv(folder+'events_'+str(mphi)+\"_\"+to_str(rinv)+\"_\"+str(i)+'.meta', header=0, delimiter=',', skipinitialspace=True) for i in compress(range(nfiles),good_frames)]\n",
    "    sum_weights = np.sum([meta_frame['sum_weight'] for meta_frame in meta_frames])\n",
    "    mean_cxn  = np.mean([meta_frame['cxn'] for meta_frame in meta_frames])\n",
    "    for evt_frame, meta_frame in zip(evt_frames, meta_frames):\n",
    "        evt_frame['weight'] *= (meta_frame['cxn']*lumi/sum_weights)[0]\n",
    "\n",
    "\n",
    "        \n",
    "    data = pd.concat(evt_frames)\n",
    "    \n",
    "    if cut is not None:\n",
    "        data = data.query(cut)\n",
    "    if return_cxn:\n",
    "        return data, mean_cxn\n",
    "    else:\n",
    "        return data"
   ]
  },
  {
   "cell_type": "code",
   "execution_count": 304,
   "metadata": {
    "collapsed": true
   },
   "outputs": [],
   "source": [
    "plot_colors = ['cornflowerblue','firebrick']"
   ]
  },
  {
   "cell_type": "markdown",
   "metadata": {},
   "source": [
    "# $M_{jj}$ search"
   ]
  },
  {
   "cell_type": "code",
   "execution_count": 305,
   "metadata": {
    "collapsed": false
   },
   "outputs": [],
   "source": [
    "Zj_df = combine_background_files('../data/bkg_Zj/', nfiles=1000,kf=1.1)\n",
    "Wj_df = combine_background_files('../data/bkg_Wj/', nfiles=1000,kf=1.)\n",
    "tt_d_df = combine_background_files('../data/bkg_ttbar_dilep//', nfiles=1000,kf=1.7)\n",
    "tt_s_df = combine_background_files('../data/bkg_ttbar_semilep//', nfiles=1000,kf=1.7)\n",
    "QCD_df = combine_background_files('../data/bkg_qcd////', nfiles=2000,kf=1.0)\n",
    "\n",
    "tt_df = pd.concat([tt_d_df, tt_s_df])"
   ]
  },
  {
   "cell_type": "code",
   "execution_count": 306,
   "metadata": {
    "collapsed": true
   },
   "outputs": [],
   "source": [
    "def limit(sig,bkg):\n",
    "    if np.sum(sig)==0:\n",
    "        return 1e99\n",
    "    def func_root(x):\n",
    "        part1 = bkg > 20\n",
    "        part2 = np.logical_not(part1)\n",
    "        qcd_1 = bkg[part1]\n",
    "        qcd_2 = bkg[part2]\n",
    "        sig_1 = sig[part1]\n",
    "        sig_2 = sig[part2]\n",
    "\n",
    "        sig_t1 = (10**x)*sig_1\n",
    "        sig_t2 = (10**x)*sig_2\n",
    "        \n",
    "        sb1 = qcd_1 + sig_1\n",
    "        sb2 = qcd_2 + sig_2\n",
    "        \n",
    "        normpart = sig_t1**2/(2*(sb1+0.02**2*qcd_1**2))\n",
    "        logpart = np.where(qcd_2 > 1e-3, -qcd_2*np.log(1+sig_t2/qcd_2), 0)\n",
    "        my_val = np.sum(normpart)+(np.sum(logpart)+np.sum(sig_t2)) - 2\n",
    "        return my_val\n",
    "    \n",
    "    \n",
    "    soln = bisect(func_root, -10.,20.)\n",
    "    return 10**soln"
   ]
  },
  {
   "cell_type": "code",
   "execution_count": 307,
   "metadata": {
    "collapsed": true
   },
   "outputs": [],
   "source": [
    "bkgs = [Zj_df, Wj_df, tt_df, QCD_df]"
   ]
  },
  {
   "cell_type": "code",
   "execution_count": 308,
   "metadata": {
    "collapsed": false
   },
   "outputs": [],
   "source": [
    "def get_bkg(bkg, cut=None):\n",
    "    if cut not in [None,'']:\n",
    "        new_bkg = bkg.query(cut)\n",
    "    else: \n",
    "        new_bkg = bkg\n",
    "    return np.sum(np.histogram(new_bkg['MEt'].values, weights=new_bkg['weight'].values)[0])\n",
    "\n",
    "def get_sig(sig, cut=None):\n",
    "    if cut not in [None,'']:\n",
    "        new_bkg = sig.query(cut)\n",
    "    else: \n",
    "        new_bkg = sig\n",
    "    return np.sum(np.histogram(new_bkg['MEt'].values, weights=new_bkg['weight'].values)[0])"
   ]
  },
  {
   "cell_type": "code",
   "execution_count": 309,
   "metadata": {
    "collapsed": false
   },
   "outputs": [],
   "source": [
    "benchmarks = [[0., 1500], [0.3, 1500]]"
   ]
  },
  {
   "cell_type": "code",
   "execution_count": 310,
   "metadata": {
    "collapsed": true
   },
   "outputs": [],
   "source": [
    "cuts = ['' for i in range(2)]\n",
    "trigger_presel = 'pt1 > 440 & pt2 > 60'\n",
    "cuts[0] = ''\n",
    "cuts[1] = ' & 1.2 > y1-y2 > -1.2'\n",
    "\n",
    "for i in range(1,2):\n",
    "    cuts[i] += cuts[i-1]\n",
    "    \n",
    "# cuts[5] += cuts[3]"
   ]
  },
  {
   "cell_type": "code",
   "execution_count": 311,
   "metadata": {
    "collapsed": false
   },
   "outputs": [],
   "source": [
    "bkg_cutflow = [[round_sigfigs(get_bkg(bkg, trigger_presel + cut),3) for bkg in bkgs] for cut in cuts]\n",
    "sigs = [combine_signal_files('../data/sig_zprime/', mass, rinv, extra = '' , nfiles=4, return_cxn=True)[0] for rinv, mass  in benchmarks]\n",
    "cxns = [combine_signal_files('../data/sig_zprime/', mass, rinv, extra = '' , nfiles=4, return_cxn=True)[1] for rinv, mass in benchmarks]"
   ]
  },
  {
   "cell_type": "code",
   "execution_count": 312,
   "metadata": {
    "collapsed": false
   },
   "outputs": [],
   "source": [
    "sig_cutflow = [[round_sigfigs(get_sig(sig,trigger_presel + cut),3) for sig, cxn in zip(sigs, cxns)] for cut in cuts]"
   ]
  },
  {
   "cell_type": "code",
   "execution_count": 313,
   "metadata": {
    "collapsed": true
   },
   "outputs": [],
   "source": [
    "bk_sum = np.sum(bkg_cutflow, axis = 1)"
   ]
  },
  {
   "cell_type": "code",
   "execution_count": 314,
   "metadata": {
    "collapsed": true
   },
   "outputs": [],
   "source": [
    "def signif(s, b ):\n",
    "    return s/np.sqrt(s+b)"
   ]
  },
  {
   "cell_type": "code",
   "execution_count": 315,
   "metadata": {
    "collapsed": false
   },
   "outputs": [],
   "source": [
    "sig_sigs = [[round(signif(sig_cutflow[i][j],bk_sum[i]),2) for i in range(len(cuts))] for j in range(len(benchmarks))]"
   ]
  },
  {
   "cell_type": "code",
   "execution_count": 316,
   "metadata": {
    "collapsed": true
   },
   "outputs": [],
   "source": [
    "for i in range(len(cuts)):\n",
    "    for j in range(len(benchmarks)):\n",
    "        sig_cutflow[i][j] = str(int(sig_cutflow[i][j]) )+\"(\"+str(np.transpose(sig_sigs)[i][j])+\")\""
   ]
  },
  {
   "cell_type": "code",
   "execution_count": 317,
   "metadata": {
    "collapsed": true
   },
   "outputs": [],
   "source": [
    "sig_cutflow_pd = pd.DataFrame(np.array(sig_cutflow))\n",
    "bkg_cutflow_pd = pd.DataFrame(np.array(bkg_cutflow).astype(np.int32))"
   ]
  },
  {
   "cell_type": "code",
   "execution_count": 318,
   "metadata": {
    "collapsed": true
   },
   "outputs": [],
   "source": [
    "bkg_cutflow_pd['4'] = pd.Series(bk_sum, index=bkg_cutflow_pd.index).astype(np.int32)"
   ]
  },
  {
   "cell_type": "code",
   "execution_count": 319,
   "metadata": {
    "collapsed": false
   },
   "outputs": [
    {
     "name": "stdout",
     "output_type": "stream",
     "text": [
      "\\begin{tabular}{lllrrrrr}\n",
      "\\toprule\n",
      "{} &           0 &           1 &      0 &       1 &      2 &         3 &         4 \\\\\n",
      "\\midrule\n",
      "0 &   9860(1.8) &  6770(1.23) &  70900 &  143000 &  54100 &  29800000 &  30068000 \\\\\n",
      "1 &  6630(1.62) &  5060(1.24) &  41100 &   83200 &  36700 &  16500000 &  16661000 \\\\\n",
      "\\bottomrule\n",
      "\\end{tabular}\n",
      "\n"
     ]
    }
   ],
   "source": [
    "print pd.concat([sig_cutflow_pd, bkg_cutflow_pd], axis = 1).to_latex()"
   ]
  },
  {
   "cell_type": "code",
   "execution_count": 320,
   "metadata": {
    "collapsed": true
   },
   "outputs": [],
   "source": [
    "bkg_sum = pd.concat(bkgs)"
   ]
  },
  {
   "cell_type": "code",
   "execution_count": 324,
   "metadata": {
    "collapsed": false,
    "scrolled": false
   },
   "outputs": [
    {
     "data": {
      "image/png": "[encoded data removed]",
      "text/plain": [
       "<matplotlib.figure.Figure at 0x7f7e4874d190>"
      ]
     },
     "metadata": {},
     "output_type": "display_data"
    }
   ],
   "source": [
    "fig=plt.figure(figsize=(9,7))\n",
    "\n",
    "\n",
    "\n",
    "\n",
    "sig_cuts = [sig.query(trigger_presel + cuts[-1]) for sig in sigs]\n",
    "bkg_cut = bkg_sum.query(trigger_presel + cuts[-1])\n",
    "for isig, sig_cut in enumerate(sig_cuts):\n",
    "    plt.hist(sig_cut['mjj'], weights=10*sig_cut['weight'].values, histtype='step', bins = np.logspace(2,4,60), lw= 3, alpha=0.5, label = \"$M_{Z^\\prime} = 1.5$ TeV\\n$r_\\mathrm{inv}$ = \" + str(benchmarks[isig][0]), color=plot_colors[isig])\n",
    "#     plt.hist(sig_cut['mjj'], weights=10*sig_cut['weight'].values, histtype='step', bins = np.logspace(2,4,60), lw= 3, alpha=0.5, label = \"$M_{Z^\\prime} = 1.5$ TeV\\n$r_\\mathrm{inv}$ = \" + str(benchmarks[isig][0]), color=plot_colors[isig])\n",
    "plt.hist(bkg_cut['mjj'], weights=bkg_cut['weight'].values, histtype='step', bins = np.logspace(2,4,60), lw=3, alpha=0.5, color='black', label=\"Background\")\n",
    "\n",
    "# tim's code\n",
    "# QCD dijet background\n",
    "def qcd(x):\n",
    "    bw=1.15/((8000.-100.)/90.)\n",
    "    z=x/13000.\n",
    "    return bw*10**(2.81271 - 1.06475*np.log(z) + 0.199172* (np.log(z))**2 + 5.46329*np.log(1 - z))\n",
    "    \n",
    "bins= np.logspace(2,4,60)\n",
    "bc = np.sqrt(bins[1:]*bins[:-1])\n",
    "bw = (bins[1:]-bins[:-1])\n",
    "plt.plot(bc, qcd(bc)*bw,lw=3,ls=':',c='brown', label='Fit')\n",
    "# tim's code\n",
    "\n",
    "plt.yscale(\"log\")\n",
    "plt.xscale(\"log\")\n",
    "plt.gca().set_xscale(\"log\")\n",
    "plt.xlim(700,10000)\n",
    "plt.ylabel(\"Events\", fontsize=26)\n",
    "plt.xlabel(\"$M_{jj}$ [GeV]\", fontsize=26)\n",
    "plt.ylim(1,1e7)\n",
    "handles,labels = ax.get_legend_handles_labels()\n",
    "handles = handles[1:] + [handles[0]]\n",
    "labels = labels[1:] + [labels[0]]\n",
    "leg = plt.legend(handles,labels,bbox_to_anchor=(0, 0, 0.97, 0.95),\n",
    "           fontsize=21, ncol=1,frameon=False,\n",
    "           handletextpad=.5,\n",
    "           borderaxespad=0., loc='upper right')\n",
    "plt.tick_params(axis='both', which='major', labelsize=25)\n",
    "plt.xticks([10**3,3*10**3,10**4],[\"$10^3$\",\"$3 \\\\times 10^3$\",\"$10^4$\"])\n",
    "plt.title(\"$M_{jj}$ resonance search\", fontsize=26)\n",
    "ax = plt.gca()\n",
    "ttl = ax.title\n",
    "ttl.set_position([.5, 1.02])\n",
    "plt.text(750,2,\"$\\mathcal L = 37~\\mathrm{fb}^{-1}$\",fontsize=23)\n",
    "plt.tight_layout()\n",
    "plt.savefig(\"ResSearch.pdf\")"
   ]
  },
  {
   "cell_type": "code",
   "execution_count": 285,
   "metadata": {
    "collapsed": false
   },
   "outputs": [],
   "source": [
    "Zj_df = combine_background_files('../data/bkg_Zj/', nfiles=1000,kf=1.1, extra='reclustered_')\n",
    "Wj_df = combine_background_files('../data/bkg_Wj/', nfiles=1000,kf=1., extra='reclustered_')\n",
    "tt_d_df = combine_background_files('../data/bkg_ttbar_dilep//', nfiles=1000,kf=1.7, extra='reclustered_')\n",
    "tt_s_df = combine_background_files('../data/bkg_ttbar_semilep//', nfiles=1000,kf=1.7, extra='reclustered_')\n",
    "QCD_df = combine_background_files('../data/bkg_qcd////', nfiles=2000,kf=1.0, extra='reclustered_')\n",
    "\n",
    "tt_df = pd.concat([tt_d_df, tt_s_df])"
   ]
  },
  {
   "cell_type": "code",
   "execution_count": 286,
   "metadata": {
    "collapsed": false
   },
   "outputs": [],
   "source": [
    "bkgs = [Zj_df, Wj_df, tt_df, QCD_df]"
   ]
  },
  {
   "cell_type": "markdown",
   "metadata": {},
   "source": [
    "# $M_T$ search"
   ]
  },
  {
   "cell_type": "code",
   "execution_count": 287,
   "metadata": {
    "collapsed": true
   },
   "outputs": [],
   "source": [
    "benchmarks = [[0.1, 2000], [0.5, 2000]]"
   ]
  },
  {
   "cell_type": "code",
   "execution_count": 288,
   "metadata": {
    "collapsed": false
   },
   "outputs": [],
   "source": [
    "cuts = ['' for i in range(4)]\n",
    "trigger_presel = 'pt2> 100 & MEt > 200'\n",
    "cuts[0] = ''\n",
    "cuts[1] = ' & MEt > .15*Mt'\n",
    "cuts[2] = ' & 1.1 > eta1-eta2 > -1.1'\n",
    "cuts[3] = ' & dphi < 0.4'\n",
    "\n",
    "\n",
    "for i in range(1,4):\n",
    "    cuts[i] += cuts[i-1]\n",
    "    \n",
    "# cuts[5] += cuts[3]"
   ]
  },
  {
   "cell_type": "code",
   "execution_count": 289,
   "metadata": {
    "collapsed": false
   },
   "outputs": [],
   "source": [
    "bkg_cutflow = [[round_sigfigs(get_bkg(bkg, trigger_presel + cut),3) for bkg in bkgs] for cut in cuts]\n",
    "sigs = [combine_signal_files('../data/sig_zprime/', mass, rinv, extra = 'reclustered_' , nfiles=4, return_cxn=True)[0] for rinv, mass  in benchmarks]\n",
    "cxns = [combine_signal_files('../data/sig_zprime/', mass, rinv, extra = 'reclustered_' , nfiles=4, return_cxn=True)[1] for rinv, mass in benchmarks]"
   ]
  },
  {
   "cell_type": "code",
   "execution_count": 290,
   "metadata": {
    "collapsed": false
   },
   "outputs": [],
   "source": [
    "sig_cutflow = [[round_sigfigs(get_sig(sig,trigger_presel + cut),3) for sig, cxn in zip(sigs, cxns)] for cut in cuts]"
   ]
  },
  {
   "cell_type": "code",
   "execution_count": 291,
   "metadata": {
    "collapsed": true
   },
   "outputs": [],
   "source": [
    "bk_sum = np.sum(bkg_cutflow, axis = 1)"
   ]
  },
  {
   "cell_type": "code",
   "execution_count": 292,
   "metadata": {
    "collapsed": false
   },
   "outputs": [],
   "source": [
    "sig_sigs = [[round(signif(sig_cutflow[i][j],bk_sum[i]),2) for i in range(len(cuts))] for j in range(len(benchmarks))]"
   ]
  },
  {
   "cell_type": "code",
   "execution_count": 293,
   "metadata": {
    "collapsed": true
   },
   "outputs": [],
   "source": [
    "for i in range(len(cuts)):\n",
    "    for j in range(len(benchmarks)):\n",
    "        sig_cutflow[i][j] = str(int(sig_cutflow[i][j]) )+\"(\"+str(np.transpose(sig_sigs)[i][j])+\")\""
   ]
  },
  {
   "cell_type": "code",
   "execution_count": 294,
   "metadata": {
    "collapsed": false
   },
   "outputs": [],
   "source": [
    "sig_cutflow_pd = pd.DataFrame(np.array(sig_cutflow))\n",
    "bkg_cutflow_pd = pd.DataFrame(np.array(bkg_cutflow).astype(np.int32))"
   ]
  },
  {
   "cell_type": "code",
   "execution_count": 295,
   "metadata": {
    "collapsed": true
   },
   "outputs": [],
   "source": [
    "bkg_cutflow_pd['4'] = pd.Series(bk_sum, index=bkg_cutflow_pd.index).astype(np.int32)"
   ]
  },
  {
   "cell_type": "code",
   "execution_count": 296,
   "metadata": {
    "collapsed": false
   },
   "outputs": [
    {
     "name": "stdout",
     "output_type": "stream",
     "text": [
      "\\begin{tabular}{lllrrrrr}\n",
      "\\toprule\n",
      "{} &          0 &           1 &       0 &       1 &      2 &      3 &       4 \\\\\n",
      "\\midrule\n",
      "0 &  634(1.03) &   1360(2.2) &  108000 &  141000 &  68100 &  64400 &  381500 \\\\\n",
      "1 &  403(0.69) &  1250(2.13) &  102000 &  131000 &  63700 &  46300 &  343000 \\\\\n",
      "2 &  250(0.58) &   756(1.75) &   51700 &   71200 &  38900 &  24900 &  186700 \\\\\n",
      "3 &  239(0.79) &   637(2.11) &   11100 &   33400 &  21800 &  24300 &   90600 \\\\\n",
      "\\bottomrule\n",
      "\\end{tabular}\n",
      "\n"
     ]
    }
   ],
   "source": [
    "print pd.concat([sig_cutflow_pd, bkg_cutflow_pd], axis = 1).to_latex()"
   ]
  },
  {
   "cell_type": "code",
   "execution_count": 297,
   "metadata": {
    "collapsed": true
   },
   "outputs": [],
   "source": [
    "plot_colors = ['cornflowerblue','firebrick']"
   ]
  },
  {
   "cell_type": "code",
   "execution_count": 298,
   "metadata": {
    "collapsed": true
   },
   "outputs": [],
   "source": [
    "bkg_sum = pd.concat(bkgs)"
   ]
  },
  {
   "cell_type": "code",
   "execution_count": 299,
   "metadata": {
    "collapsed": false
   },
   "outputs": [
    {
     "data": {
      "image/png": "[encoded data removed]",
      "text/plain": [
       "<matplotlib.figure.Figure at 0x7f7e47c64690>"
      ]
     },
     "metadata": {},
     "output_type": "display_data"
    }
   ],
   "source": [
    "fig=plt.figure(figsize=(9,7))\n",
    "sig_cuts = [sig.query(trigger_presel + cuts[-1]) for sig in sigs]\n",
    "bkg_cut = bkg_sum.query(trigger_presel + cuts[-1])\n",
    "for isig, sig_cut in enumerate(sig_cuts):\n",
    "    plt.hist(sig_cut['Mt'], weights=sig_cut['weight'].values, histtype='step', bins = np.logspace(2,4,80), lw= 2.5, alpha=0.5, label = \"$M_{Z^\\prime} = 2$ TeV\\n$ r_\\mathrm{inv}$ = \" + str(benchmarks[isig][0]), color=plot_colors[isig])\n",
    "    sig_plus_bkg = pd.concat([sig_cut, bkg_cut])    \n",
    "#     plt.hist(sig_plus_bkg['Mt'], weights=sig_plus_bkg['weight'], histtype='step', bins = np.linspace(100,8000,100), lw=2.5, alpha=0.5, color=plot_colors[isig])\n",
    "plt.hist(bkg_cut['Mt'], weights=bkg_cut['weight'].values, histtype='step', bins = np.logspace(2,4,80), lw=2.5, alpha=0.5, color='black', label=\"Background\")\n",
    "\n",
    "\n",
    "# tim code\n",
    "def qcd(x_):\n",
    "    x=(x_[:-1]+x_[1:])/2.\n",
    "    bw=(x_[1:]-x_[:-1])\n",
    "    z=x/13000.\n",
    "    return 1.1*bw*np.exp( -8.52204 -6.50915*np.log(z) -0.278056*(np.log(z))**2 + \n",
    "                   6.39077*np.log(1 - z) - 1.35113*(np.log(1 - z))**2 )\n",
    "\n",
    "bins = np.logspace(2,4,80)\n",
    "bc = np.sqrt(bins[1:]*bins[:-1])\n",
    "bw = (bins[1:]-bins[:-1])\n",
    "plt.plot(bc, qcd(bins),lw=3,ls=':',c='brown', label='Fit')\n",
    "\n",
    "# tim code\n",
    "\n",
    "plt.yscale(\"log\")\n",
    "plt.xscale(\"log\")\n",
    "plt.gca().set_xscale(\"log\")\n",
    "plt.xlim(1000,10000)\n",
    "plt.ylabel(\"Events\", fontsize=24)\n",
    "plt.xlabel(\"$M_{T}$ [GeV]\", fontsize=23)\n",
    "plt.ylim(0.35,10**4)\n",
    "ax = plt.gca()\n",
    "handles,labels = ax.get_legend_handles_labels()\n",
    "\n",
    "handles = handles[1:] + [handles[0]]\n",
    "labels = labels[1:] + [labels[0]]\n",
    "leg = plt.legend(handles,labels,bbox_to_anchor=(0, 0, 0.97, 0.95),\n",
    "           fontsize=21, ncol=1,frameon=False,\n",
    "           handletextpad=.5,\n",
    "           borderaxespad=0., loc='upper right')\n",
    "\n",
    "plt.tick_params(axis='both', which='major', labelsize=24)\n",
    "plt.title(\"$M_T$ resonance search\", fontsize=25)\n",
    "ax = plt.gca()\n",
    "ttl = ax.title\n",
    "ttl.set_position([.5, 1.02])\n",
    "plt.xticks([10**3,3*10**3,10**4],[\"$10^3$\",\"$3 \\\\times 10^3$\",\"$10^4$\"])\n",
    "plt.text(1070,0.55,\"$\\mathcal L = 37~\\mathrm{fb}^{-1}$\",fontsize=23)\n",
    "plt.tight_layout()\n",
    "plt.savefig(\"MTSearch.pdf\")\n",
    "plt.show()"
   ]
  },
  {
   "cell_type": "code",
   "execution_count": null,
   "metadata": {
    "collapsed": true
   },
   "outputs": [],
   "source": []
  },
  {
   "cell_type": "code",
   "execution_count": null,
   "metadata": {
    "collapsed": true
   },
   "outputs": [],
   "source": []
  },
  {
   "cell_type": "code",
   "execution_count": null,
   "metadata": {
    "collapsed": true
   },
   "outputs": [],
   "source": []
  }
 ],
 "metadata": {
  "anaconda-cloud": {},
  "kernelspec": {
   "display_name": "Python [conda env:venv_py27]",
   "language": "python",
   "name": "conda-env-venv_py27-py"
  },
  "language_info": {
   "codemirror_mode": {
    "name": "ipython",
    "version": 2
   },
   "file_extension": ".py",
   "mimetype": "text/x-python",
   "name": "python",
   "nbconvert_exporter": "python",
   "pygments_lexer": "ipython2",
   "version": "2.7.12"
  }
 },
 "nbformat": 4,
 "nbformat_minor": 1
}
