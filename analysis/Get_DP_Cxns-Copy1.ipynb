{
 "cells": [
  {
   "cell_type": "code",
   "execution_count": 23,
   "metadata": {
    "collapsed": true
   },
   "outputs": [],
   "source": [
    "import pandas as pd\n",
    "import numpy as np\n",
    "from bs4 import BeautifulSoup\n",
    "import matplotlib.pyplot as plt\n",
    "from tqdm.notebook import tqdm\n",
    "\n",
    "%matplotlib inline"
   ]
  },
  {
   "cell_type": "code",
   "execution_count": 24,
   "metadata": {
    "collapsed": true
   },
   "outputs": [],
   "source": [
    "fs_labels = 26\n",
    "fs_ticks = 25\n",
    "fs_text = 23\n",
    "fs_legend = 22"
   ]
  },
  {
   "cell_type": "code",
   "execution_count": 25,
   "metadata": {
    "collapsed": true
   },
   "outputs": [],
   "source": [
    "masses = [100000]"
   ]
  },
  {
   "cell_type": "code",
   "execution_count": 26,
   "metadata": {
    "collapsed": false
   },
   "outputs": [],
   "source": [
    "dp_frac = []\n",
    "\n",
    "good_graphs = []\n",
    "bad_graphs = []\n",
    "\n",
    "for mass in masses:\n",
    "    with open (\"/Users/smsharma/Desktop//MG5_aMC_v2_5_6_patch_int_signal/bin/sig_tchannel_lambda0p3//Events/html_lambda0p3_\"+str(mass) + \"_0.html\", \"r\") as myfile:\n",
    "        data=myfile.read()\n",
    "        \n",
    "    soup = BeautifulSoup(data) # Parse the HTML as a string\n",
    "    \n",
    "    for table in soup.find_all('table')[1:]:\n",
    "    \n",
    "        dp_sum = 0.\n",
    "        rest_sum = 0.\n",
    "\n",
    "        for row in table.find_all('tr'):\n",
    "            column_marker = 0\n",
    "            columns = row.find_all('td')\n",
    "\n",
    "            for icolumn, column in enumerate(columns):\n",
    "                graph_cxn = None\n",
    "                if icolumn == 0:\n",
    "                    graph_name = (column.get_text())\n",
    "                if icolumn == 1:\n",
    "                    graph_cxn = (column.get_text())\n",
    "                if graph_cxn is not None:\n",
    "#                     print graph_name, graph_cxn\n",
    "                    if float(graph_cxn) > 1e-17: \n",
    "                        \n",
    "                        good_graphs.append(graph_name)\n",
    "                    else:\n",
    "                        bad_graphs.append(graph_name)"
   ]
  },
  {
   "cell_type": "code",
   "execution_count": 27,
   "metadata": {
    "collapsed": false
   },
   "outputs": [],
   "source": [
    "masses = [100] + list(np.arange(300,2000, 100))+  list(np.arange(2000,7000, 500))"
   ]
  },
  {
   "cell_type": "code",
   "execution_count": null,
   "metadata": {
    "collapsed": false
   },
   "outputs": [
    {
     "data": {
      "application/vnd.jupyter.widget-view+json": {
       "model_id": "11baf4c9e5b047a28ec5cd222f148e06",
       "version_major": 2,
       "version_minor": 0
      },
      "text/plain": [
       "HBox(children=(IntProgress(value=0, max=28), HTML(value='')))"
      ]
     },
     "metadata": {},
     "output_type": "display_data"
    }
   ],
   "source": [
    "dp_frac = []\n",
    "dp_sum_ary = []\n",
    "\n",
    "for mass in tqdm(masses):\n",
    "    with open (\"/Users/smsharma/Desktop//MG5_aMC_v2_5_6_patch_int_signal/bin/sig_tchannel_lambda0p3//Events/html_lambda0p3_\"+str(mass) + \"_0.lhe\", \"r\") as myfile:\n",
    "        data=myfile.read()\n",
    "        \n",
    "    soup = BeautifulSoup(data) # Parse the HTML as a string\n",
    "    dp_sum = 0.\n",
    "    rest_sum = 0.\n",
    "    \n",
    "    for table in soup.find_all('table')[1:]:\n",
    "    \n",
    "\n",
    "\n",
    "        for row in table.find_all('tr'):\n",
    "            column_marker = 0\n",
    "            columns = row.find_all('td')\n",
    "\n",
    "            for icolumn, column in enumerate(columns):\n",
    "                graph_cxn = None\n",
    "                if icolumn == 0:\n",
    "                    graph_name = (column.get_text())\n",
    "                if icolumn == 1:\n",
    "                    graph_cxn = (column.get_text())\n",
    "                if graph_cxn is not None:\n",
    "#                     print graph_name, graph_cxn\n",
    "                    if graph_name in good_graphs:\n",
    "                        dp_sum += float(graph_cxn)\n",
    "                    else:\n",
    "                        rest_sum += float(graph_cxn)\n",
    "#                     print float(graph_cxn)\n",
    "#     print mass, dp_sum/(dp_sum+rest_sum)\n",
    "#     print dp_sum,rest_sum\n",
    "\n",
    "    dp_sum_ary.append(dp_sum)\n",
    "    dp_frac.append(dp_sum/(dp_sum+rest_sum))"
   ]
  },
  {
   "cell_type": "code",
   "execution_count": 4,
   "metadata": {
    "collapsed": true
   },
   "outputs": [],
   "source": [
    "masses = [100000]"
   ]
  },
  {
   "cell_type": "code",
   "execution_count": 5,
   "metadata": {
    "collapsed": false
   },
   "outputs": [],
   "source": [
    "\n",
    "good_graphs = []\n",
    "bad_graphs = []\n",
    "\n",
    "for mass in masses:\n",
    "    with open (\"/Users/smsharma/Desktop//MG5_aMC_v2_5_6_patch_int_signal/bin/sig_tchannel_lambda1//Events/html_lambda0p3_\"+str(mass) + \"_0.html\", \"r\") as myfile:\n",
    "        data=myfile.read()\n",
    "        \n",
    "    soup = BeautifulSoup(data) # Parse the HTML as a string\n",
    "    \n",
    "    for table in soup.find_all('table')[1:]:\n",
    "    \n",
    "        dp_sum = 0.\n",
    "        rest_sum = 0.\n",
    "\n",
    "        for row in table.find_all('tr'):\n",
    "            column_marker = 0\n",
    "            columns = row.find_all('td')\n",
    "\n",
    "            for icolumn, column in enumerate(columns):\n",
    "                graph_cxn = None\n",
    "                if icolumn == 0:\n",
    "                    graph_name = (column.get_text())\n",
    "                if icolumn == 1:\n",
    "                    graph_cxn = (column.get_text())\n",
    "                if graph_cxn is not None:\n",
    "#                     print graph_name, graph_cxn\n",
    "                    if float(graph_cxn) > 1e-16: \n",
    "                        \n",
    "                        good_graphs.append(graph_name)\n",
    "                    else:\n",
    "                        bad_graphs.append(graph_name)"
   ]
  },
  {
   "cell_type": "code",
   "execution_count": 6,
   "metadata": {
    "collapsed": true
   },
   "outputs": [],
   "source": [
    "masses = [100] + list(np.arange(300,2000, 100))+  list(np.arange(2000,7000, 500))"
   ]
  },
  {
   "cell_type": "code",
   "execution_count": 19,
   "metadata": {
    "collapsed": false
   },
   "outputs": [
    {
     "data": {
      "application/vnd.jupyter.widget-view+json": {
       "model_id": "7676ec0c473e4c7d994ad79ab56f5ca8",
       "version_major": 2,
       "version_minor": 0
      },
      "text/plain": [
       "HBox(children=(IntProgress(value=0, max=28), HTML(value='')))"
      ]
     },
     "metadata": {},
     "output_type": "display_data"
    },
    {
     "name": "stdout",
     "output_type": "stream",
     "text": [
      "\n"
     ]
    }
   ],
   "source": [
    "dp_frac_lambda1 = []\n",
    "dp_sum_ary_lambda1 = []\n",
    "\n",
    "for mass in tqdm(masses):\n",
    "    with open (\"/Users/smsharma/Desktop//MG5_aMC_v2_5_6_patch_int_signal/bin/sig_tchannel_lambda1//Events/html_lambda0p3_\"+str(mass) + \"_0.html\", \"r\") as myfile:\n",
    "        data=myfile.read()\n",
    "        \n",
    "    soup = BeautifulSoup(data) # Parse the HTML as a string\n",
    "    dp_sum_lambda1 = 0.\n",
    "    rest_sum_lambda1 = 0.\n",
    "    \n",
    "    for table in soup.find_all('table')[1:]:\n",
    "    \n",
    "\n",
    "\n",
    "        for row in table.find_all('tr'):\n",
    "            column_marker = 0\n",
    "            columns = row.find_all('td')\n",
    "\n",
    "            for icolumn, column in enumerate(columns):\n",
    "                graph_cxn = None\n",
    "                if icolumn == 0:\n",
    "                    graph_name = (column.get_text())\n",
    "                if icolumn == 1:\n",
    "                    graph_cxn = (column.get_text())\n",
    "                if graph_cxn is not None:\n",
    "#                     print graph_name, graph_cxn\n",
    "                    if graph_name in good_graphs:\n",
    "                        dp_sum_lambda1 += float(graph_cxn)\n",
    "                    else:\n",
    "                        rest_sum_lambda1 += float(graph_cxn)\n",
    "#                     print float(graph_cxn)\n",
    "#     print mass, dp_sum_lambda1/(dp_sum_lambda1+rest_sum_lambda1)\n",
    "#     print dp_sum,rest_sum\n",
    "\n",
    "    dp_sum_ary_lambda1.append(dp_sum_lambda1)\n",
    "    dp_frac_lambda1.append(dp_sum_lambda1/(dp_sum_lambda1+rest_sum_lambda1))"
   ]
  },
  {
   "cell_type": "code",
   "execution_count": 13,
   "metadata": {
    "collapsed": false
   },
   "outputs": [
    {
     "data": {
      "text/plain": [
       "<matplotlib.lines.Line2D at 0x118bd5f28>"
      ]
     },
     "execution_count": 13,
     "metadata": {},
     "output_type": "execute_result"
    },
    {
     "data": {
      "image/png": "[encoded data removed]",
      "text/plain": [
       "<Figure size 648x540 with 1 Axes>"
      ]
     },
     "metadata": {
      "needs_background": "light"
     },
     "output_type": "display_data"
    }
   ],
   "source": [
    "fig=plt.figure(figsize=(9,7.5))\n",
    "plot_colorsss=['cornflowerblue','mediumseagreen', 'firebrick','indigo','violet','maroon','darkgrey','lightpink','black','forestgreen','cornflowerblue', 'salmon','violet','goldenrod','maroon','darkgrey','lightpink']\n",
    "\n",
    "lw = 2.5\n",
    "\n",
    "\n",
    "plt.plot(masses, np.array(dp_frac)*1, color = 'k', label = \"$\\lambda = 0.3$\",lw=3, alpha=0.5, ls='--')\n",
    "plt.plot(masses, np.array(dp_frac_lambda1)*1, color = 'k', label = r\"$\\lambda = 1$\",lw=3, alpha=0.5)\n",
    "\n",
    "\n",
    "plt.xscale(\"log\")\n",
    "plt.xlabel(r\"$M_\\Phi$ [GeV]\",fontsize=fs_labels)\n",
    "# plt.ylabel(r\"$\\sigma_{pp\\\\rightarrow \\chi\\overline\\chi}/\\sigma_\\mathrm{tot}$\",fontsize=fs_labels)\n",
    "plt.ylim(0.2,1.2)\n",
    "plt.xlim(min(masses), max(masses))\n",
    "\n",
    "leg = plt.legend(bbox_to_anchor=(0, 0, 0.97, 0.95),\n",
    "           fontsize=fs_legend, ncol=1,frameon=False,\n",
    "           handletextpad=.5,\n",
    "           borderaxespad=0., loc='lower right')\n",
    "plt.tick_params(axis='both', which='major', labelsize=fs_ticks)\n",
    "\n",
    "title = r\"$t$-channel\"\n",
    "plt.title(title, fontsize=fs_labels)\n",
    "ax = plt.gca()\n",
    "ttl = ax.title\n",
    "ttl.set_position([.5, 1.02])\n",
    "plt.tight_layout()\n",
    "\n",
    "plt.tick_params(axis='both', which='major', labelsize=fs_ticks)\n",
    "\n",
    "plt.axhline(1.,ls='--',lw=0.8, color='grey')\n",
    "\n",
    "# plt.savefig(\"tchannel_direct_vs_cxn.pdf\")"
   ]
  },
  {
   "cell_type": "code",
   "execution_count": null,
   "metadata": {},
   "outputs": [],
   "source": []
  }
 ],
 "metadata": {
  "anaconda-cloud": {},
  "kernelspec": {
   "display_name": "Python [conda env:root] *",
   "language": "python",
   "name": "conda-root-py"
  },
  "language_info": {
   "codemirror_mode": {
    "name": "ipython",
    "version": 3
   },
   "file_extension": ".py",
   "mimetype": "text/x-python",
   "name": "python",
   "nbconvert_exporter": "python",
   "pygments_lexer": "ipython3",
   "version": "3.7.3"
  }
 },
 "nbformat": 4,
 "nbformat_minor": 2
}
