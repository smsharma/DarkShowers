{
 "cells": [
  {
   "cell_type": "code",
   "execution_count": 2,
   "metadata": {
    "collapsed": true
   },
   "outputs": [],
   "source": [
    "# Important necessary libraries\n",
    "import pandas as pd\n",
    "import numpy as np\n",
    "import matplotlib.pyplot as plt\n",
    "from __future__ import division\n",
    "\n",
    "from matplotlib import rc\n",
    "rc('text', usetex=True)\n",
    "rc('xtick.major', size=5, pad=7)\n",
    "rc('xtick', labelsize=25)\n",
    "rc('ytick.major', size=5, pad=7)\n",
    "rc('ytick', labelsize=25)\n",
    "\n",
    "%matplotlib inline  "
   ]
  },
  {
   "cell_type": "code",
   "execution_count": 3,
   "metadata": {
    "collapsed": true
   },
   "outputs": [],
   "source": [
    "from scipy.optimize import fsolve"
   ]
  },
  {
   "cell_type": "code",
   "execution_count": 8,
   "metadata": {
    "collapsed": false
   },
   "outputs": [
    {
     "data": {
      "text/html": [
       "<div>\n",
       "<table border=\"1\" class=\"dataframe\">\n",
       "  <thead>\n",
       "    <tr style=\"text-align: right;\">\n",
       "      <th></th>\n",
       "      <th>rinv</th>\n",
       "      <th>pair_total</th>\n",
       "      <th>pair_smalldphi</th>\n",
       "      <th>pair_largedphi</th>\n",
       "      <th>assoc_total</th>\n",
       "    </tr>\n",
       "  </thead>\n",
       "  <tbody>\n",
       "    <tr>\n",
       "      <th>0</th>\n",
       "      <td>0.01</td>\n",
       "      <td>0.000000</td>\n",
       "      <td>0.000000</td>\n",
       "      <td>0.000000</td>\n",
       "      <td>0.000000</td>\n",
       "    </tr>\n",
       "    <tr>\n",
       "      <th>1</th>\n",
       "      <td>0.10</td>\n",
       "      <td>0.000000</td>\n",
       "      <td>0.000000</td>\n",
       "      <td>0.000000</td>\n",
       "      <td>575.712139</td>\n",
       "    </tr>\n",
       "    <tr>\n",
       "      <th>2</th>\n",
       "      <td>0.20</td>\n",
       "      <td>0.000000</td>\n",
       "      <td>0.000000</td>\n",
       "      <td>0.000000</td>\n",
       "      <td>904.274703</td>\n",
       "    </tr>\n",
       "    <tr>\n",
       "      <th>3</th>\n",
       "      <td>0.30</td>\n",
       "      <td>411.045472</td>\n",
       "      <td>411.045472</td>\n",
       "      <td>600.001861</td>\n",
       "      <td>1058.443509</td>\n",
       "    </tr>\n",
       "    <tr>\n",
       "      <th>4</th>\n",
       "      <td>0.40</td>\n",
       "      <td>757.494053</td>\n",
       "      <td>757.494053</td>\n",
       "      <td>546.207105</td>\n",
       "      <td>1150.935130</td>\n",
       "    </tr>\n",
       "  </tbody>\n",
       "</table>\n",
       "</div>"
      ],
      "text/plain": [
       "   rinv  pair_total  pair_smalldphi  pair_largedphi  assoc_total\n",
       "0  0.01    0.000000        0.000000        0.000000     0.000000\n",
       "1  0.10    0.000000        0.000000        0.000000   575.712139\n",
       "2  0.20    0.000000        0.000000        0.000000   904.274703\n",
       "3  0.30  411.045472      411.045472      600.001861  1058.443509\n",
       "4  0.40  757.494053      757.494053      546.207105  1150.935130"
      ]
     },
     "execution_count": 8,
     "metadata": {},
     "output_type": "execute_result"
    }
   ],
   "source": [
    "tch_limit = pd.read_csv(\"limits_tchannel-1.csv\")\n",
    "tch_limit.head()"
   ]
  },
  {
   "cell_type": "code",
   "execution_count": 37,
   "metadata": {
    "collapsed": false
   },
   "outputs": [
    {
     "data": {
      "text/html": [
       "<div>\n",
       "<table border=\"1\" class=\"dataframe\">\n",
       "  <thead>\n",
       "    <tr style=\"text-align: right;\">\n",
       "      <th></th>\n",
       "      <th>rinv</th>\n",
       "      <th>pair_total</th>\n",
       "      <th>pair_smalldphi</th>\n",
       "      <th>pair_largedphi</th>\n",
       "      <th>assoc_total</th>\n",
       "    </tr>\n",
       "  </thead>\n",
       "  <tbody>\n",
       "    <tr>\n",
       "      <th>0</th>\n",
       "      <td>0.01</td>\n",
       "      <td>0.000000</td>\n",
       "      <td>0.000000</td>\n",
       "      <td>0.000000</td>\n",
       "      <td>0.000000</td>\n",
       "    </tr>\n",
       "    <tr>\n",
       "      <th>1</th>\n",
       "      <td>0.10</td>\n",
       "      <td>0.000000</td>\n",
       "      <td>0.000000</td>\n",
       "      <td>0.000000</td>\n",
       "      <td>575.712139</td>\n",
       "    </tr>\n",
       "    <tr>\n",
       "      <th>2</th>\n",
       "      <td>0.20</td>\n",
       "      <td>0.000000</td>\n",
       "      <td>0.000000</td>\n",
       "      <td>0.000000</td>\n",
       "      <td>904.274703</td>\n",
       "    </tr>\n",
       "    <tr>\n",
       "      <th>3</th>\n",
       "      <td>0.30</td>\n",
       "      <td>411.045472</td>\n",
       "      <td>411.045472</td>\n",
       "      <td>600.001861</td>\n",
       "      <td>1058.443509</td>\n",
       "    </tr>\n",
       "    <tr>\n",
       "      <th>4</th>\n",
       "      <td>0.40</td>\n",
       "      <td>757.494053</td>\n",
       "      <td>757.494053</td>\n",
       "      <td>546.207105</td>\n",
       "      <td>1150.935130</td>\n",
       "    </tr>\n",
       "    <tr>\n",
       "      <th>5</th>\n",
       "      <td>0.50</td>\n",
       "      <td>919.978484</td>\n",
       "      <td>919.978484</td>\n",
       "      <td>699.998338</td>\n",
       "      <td>1212.527938</td>\n",
       "    </tr>\n",
       "    <tr>\n",
       "      <th>6</th>\n",
       "      <td>0.60</td>\n",
       "      <td>1017.257721</td>\n",
       "      <td>1017.257721</td>\n",
       "      <td>891.515353</td>\n",
       "      <td>1242.248346</td>\n",
       "    </tr>\n",
       "    <tr>\n",
       "      <th>7</th>\n",
       "      <td>0.70</td>\n",
       "      <td>1107.165668</td>\n",
       "      <td>1107.165668</td>\n",
       "      <td>1015.420805</td>\n",
       "      <td>1220.150370</td>\n",
       "    </tr>\n",
       "    <tr>\n",
       "      <th>8</th>\n",
       "      <td>0.80</td>\n",
       "      <td>1114.549541</td>\n",
       "      <td>1084.372619</td>\n",
       "      <td>1114.549541</td>\n",
       "      <td>1106.511593</td>\n",
       "    </tr>\n",
       "    <tr>\n",
       "      <th>9</th>\n",
       "      <td>0.90</td>\n",
       "      <td>1164.620883</td>\n",
       "      <td>1027.911236</td>\n",
       "      <td>1164.620883</td>\n",
       "      <td>830.728357</td>\n",
       "    </tr>\n",
       "    <tr>\n",
       "      <th>10</th>\n",
       "      <td>0.98</td>\n",
       "      <td>1173.021908</td>\n",
       "      <td>886.387656</td>\n",
       "      <td>1173.021908</td>\n",
       "      <td>486.547727</td>\n",
       "    </tr>\n",
       "    <tr>\n",
       "      <th>11</th>\n",
       "      <td>0.99</td>\n",
       "      <td>1181.361689</td>\n",
       "      <td>798.611222</td>\n",
       "      <td>1181.361689</td>\n",
       "      <td>438.923803</td>\n",
       "    </tr>\n",
       "    <tr>\n",
       "      <th>12</th>\n",
       "      <td>1.00</td>\n",
       "      <td>1167.861485</td>\n",
       "      <td>809.933812</td>\n",
       "      <td>1167.861485</td>\n",
       "      <td>0.000000</td>\n",
       "    </tr>\n",
       "  </tbody>\n",
       "</table>\n",
       "</div>"
      ],
      "text/plain": [
       "    rinv   pair_total  pair_smalldphi  pair_largedphi  assoc_total\n",
       "0   0.01     0.000000        0.000000        0.000000     0.000000\n",
       "1   0.10     0.000000        0.000000        0.000000   575.712139\n",
       "2   0.20     0.000000        0.000000        0.000000   904.274703\n",
       "3   0.30   411.045472      411.045472      600.001861  1058.443509\n",
       "4   0.40   757.494053      757.494053      546.207105  1150.935130\n",
       "5   0.50   919.978484      919.978484      699.998338  1212.527938\n",
       "6   0.60  1017.257721     1017.257721      891.515353  1242.248346\n",
       "7   0.70  1107.165668     1107.165668     1015.420805  1220.150370\n",
       "8   0.80  1114.549541     1084.372619     1114.549541  1106.511593\n",
       "9   0.90  1164.620883     1027.911236     1164.620883   830.728357\n",
       "10  0.98  1173.021908      886.387656     1173.021908   486.547727\n",
       "11  0.99  1181.361689      798.611222     1181.361689   438.923803\n",
       "12  1.00  1167.861485      809.933812     1167.861485     0.000000"
      ]
     },
     "execution_count": 37,
     "metadata": {},
     "output_type": "execute_result"
    }
   ],
   "source": [
    "tch_limit"
   ]
  },
  {
   "cell_type": "code",
   "execution_count": 11,
   "metadata": {
    "collapsed": true
   },
   "outputs": [],
   "source": [
    "from pylab import rcParams\n",
    "rcParams['figure.figsize'] = 8, 6"
   ]
  },
  {
   "cell_type": "code",
   "execution_count": 36,
   "metadata": {
    "collapsed": false
   },
   "outputs": [
    {
     "data": {
      "image/png": "[encoded data removed]",
      "text/plain": [
       "<matplotlib.figure.Figure at 0x7f87b730d5d0>"
      ]
     },
     "metadata": {},
     "output_type": "display_data"
    }
   ],
   "source": [
    "\n",
    "\n",
    "f = plt.figure()\n",
    "ax = f.add_subplot(111)\n",
    "\n",
    "\n",
    "scale0=3000\n",
    "rinv=[.01,.1,.2,.3,.4,.5,.6,.7,.8,.9,.98,.99,1]\n",
    "plt.fill_between(rinv, np.zeros_like(rinv), tch_limit['assoc_total'], color='cornflowerblue', label=\"Associated production\", alpha=.4)\n",
    "plt.fill_between(rinv, np.zeros_like(rinv), tch_limit['pair_total'], color='forestgreen', label=\"Pair production\", alpha=.4)\n",
    "\n",
    "\n",
    "plt.xlim(0,1)\n",
    "plt.ylabel(\"$m_{\\chi}$ [GeV]\")\n",
    "plt.xlabel(\"$r_\\mathrm{inv}$\")\n",
    "\n",
    "plt.legend(loc='upper right')\n",
    "plt.title(\"$t$-channel, $g_x = 1$\", fontsize = 25)\n",
    "plt.ylim(0,2000)\n",
    "# ax.tick_params(axis='y', which='both', labelleft='on', labelright='on')\n",
    "# ax.yaxis.set_label_position(\"right\")\n",
    "# ax.yaxis.set_label_position(\"left\")\n",
    "\n",
    "\n",
    "plt.tight_layout()\n",
    "# plt.savefig(\"mZp_rinv.pdf\")\n",
    "plt.legend(loc='upper right')\n",
    "plt.tight_layout()\n",
    "plt.savefig(\"rinvtch.pdf\")"
   ]
  },
  {
   "cell_type": "code",
   "execution_count": null,
   "metadata": {
    "collapsed": true
   },
   "outputs": [],
   "source": []
  }
 ],
 "metadata": {
  "anaconda-cloud": {},
  "kernelspec": {
   "display_name": "Python [conda env:venv_py27]",
   "language": "python",
   "name": "conda-env-venv_py27-py"
  },
  "language_info": {
   "codemirror_mode": {
    "name": "ipython",
    "version": 2
   },
   "file_extension": ".py",
   "mimetype": "text/x-python",
   "name": "python",
   "nbconvert_exporter": "python",
   "pygments_lexer": "ipython2",
   "version": "2.7.12"
  }
 },
 "nbformat": 4,
 "nbformat_minor": 1
}
