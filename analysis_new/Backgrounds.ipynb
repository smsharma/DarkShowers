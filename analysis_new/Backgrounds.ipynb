{
 "cells": [
  {
   "cell_type": "code",
   "execution_count": 2,
   "metadata": {
    "collapsed": true
   },
   "outputs": [],
   "source": [
    "# Important necessary libraries\n",
    "import pandas as pd\n",
    "import numpy as np\n",
    "import matplotlib.pyplot as plt\n",
    "from __future__ import division\n",
    "from matplotlib.lines import Line2D\n",
    "from tqdm import *\n",
    "from itertools import compress\n",
    "%matplotlib inline  "
   ]
  },
  {
   "cell_type": "code",
   "execution_count": 3,
   "metadata": {
    "collapsed": false
   },
   "outputs": [],
   "source": [
    "def combine_background_files(folder='../data/bkg_Zj/', lumi=37*1000, nfiles=200):\n",
    "    \"\"\" Read .evt and .meta files as output by monojet.C and \n",
    "        properly weigh events\n",
    "    \"\"\"\n",
    "    \n",
    "    evt_frames = [pd.read_csv(folder+'events_'+str(i)+'.evt', header=0, delimiter=',', skipinitialspace=True) for i in range(nfiles)]\n",
    "    good_frames = np.array([len(evt_frame) for evt_frame in evt_frames]) > 0\n",
    "    \n",
    "    evt_frames = list(compress(evt_frames, good_frames))\n",
    "    meta_frames = [pd.read_csv(folder+'events_'+str(i)+'.meta', header=0, delimiter=',', skipinitialspace=True) for i in compress(range(nfiles),good_frames)]\n",
    "    for evt_frame, meta_frame in zip(evt_frames, meta_frames):\n",
    "        evt_frame['weight'] *= (meta_frame['cxn']*lumi/meta_frame['sum_weight'])[0]\n",
    "        \n",
    "    data = pd.concat(evt_frames)\n",
    "    return data"
   ]
  },
  {
   "cell_type": "code",
   "execution_count": 31,
   "metadata": {
    "collapsed": false
   },
   "outputs": [],
   "source": [
    "# Zj_df = combine_background_files('../data/bkg_Zj/', nfiles=200)\n",
    "# Wj_df = combine_background_files('../data/bkg_Wj/', nfiles=200)\n",
    "# tt_d_df = combine_background_files('../data/bkg_ttbar_dilep//', nfiles=200)\n",
    "# tt_s_df = combine_background_files('../data/bkg_ttbar_semilep//', nfiles=200)\n",
    "QCD_df = combine_background_files('../data/bkg_qcd//', nfiles=600)\n"
   ]
  },
  {
   "cell_type": "code",
   "execution_count": 32,
   "metadata": {
    "collapsed": false
   },
   "outputs": [
    {
     "data": {
      "image/png": "[encoded data removed]",
      "text/plain": [
       "<matplotlib.figure.Figure at 0x7f850bbe89d0>"
      ]
     },
     "metadata": {},
     "output_type": "display_data"
    }
   ],
   "source": [
    "bins = np.linspace(0,2500,50)\n",
    "\n",
    "normed = False\n",
    "\n",
    "plt.hist(Zj_df['MEt'], weights=Zj_df['weight'], \n",
    "                     bins=bins,\n",
    "                     histtype='step', alpha=.5, lw=1.6, label=\"$Z+j$\", normed=normed)\n",
    "plt.hist(Wj_df['MEt'], weights=Wj_df['weight'], \n",
    "                     bins=bins,\n",
    "                     histtype='step', alpha=.5, lw=1.6, label=\"$W+j$\", normed=normed)\n",
    "\n",
    "tt_df = pd.concat([tt_d_df, tt_s_df])\n",
    "# tt_df = pd.concat([tt_s_df])\n",
    "\n",
    "# plt.hist(tt_d_df['MEt'], weights=tt_d_df['weight'], \n",
    "#                      bins=bins,\n",
    "#                      histtype='step', alpha=.5, lw=1.6, label=\"$t\\\\bar t$\", normed=normed)\n",
    "\n",
    "plt.hist(tt_s_df['MEt'], weights=tt_s_df['weight'], \n",
    "                     bins=bins,\n",
    "                     histtype='step', alpha=.5, lw=1.6, label=\"$t\\\\bar t$\", normed=normed)\n",
    "\n",
    "\n",
    "\n",
    "# plt.hist(tt_df['MEt'], weights=tt_df['weight'], \n",
    "#                      bins=bins,\n",
    "#                      histtype='step', alpha=.5, lw=1.6, label=\"$t\\\\bar t$\", normed=normed)\n",
    "\n",
    "plt.hist(QCD_df['MEt'], weights=QCD_df['weight'], \n",
    "                     bins=bins,\n",
    "                     histtype='step', alpha=.5, lw=1.6, label=\"QCD\", normed=normed)\n",
    "\n",
    "# plt.hist(QCD_nobias_df['MEt'], weights=QCD_nobias_df['weight'], \n",
    "#                      bins=bins,\n",
    "#                      histtype='step', alpha=.5, lw=1.6, label=\"QCD nobias\", normed=normed)\n",
    "\n",
    "\n",
    "plt.xlabel(\"MET\")\n",
    "\n",
    "plt.ylim(1e-2,1e9)\n",
    "plt.legend()\n",
    "plt.ylabel(\"Events\")\n",
    "plt.yscale(\"log\")"
   ]
  },
  {
   "cell_type": "code",
   "execution_count": 29,
   "metadata": {
    "collapsed": true
   },
   "outputs": [],
   "source": [
    "def combine_signal_files(folder='../data/bkg_Zj/', mphi = 1700, rinv = 0.9, lumi=37*1000, nfiles=200):\n",
    "    \"\"\" Read .evt and .meta files as output by monojet.C and \n",
    "        properly weigh events\n",
    "    \"\"\"\n",
    "    \n",
    "    evt_frames = [pd.read_csv(folder+'events_'+str(mphi)+\"_\"+str(rinv)+\"_\"+str(i)+'.evt', header=0, delimiter=',', skipinitialspace=True) for i in range(nfiles)]\n",
    "    good_frames = np.array([len(evt_frame) for evt_frame in evt_frames]) > 0\n",
    "    \n",
    "    evt_frames = list(compress(evt_frames, good_frames))\n",
    "    meta_frames = [pd.read_csv(folder+'events_'+str(mphi)+\"_\"+str(rinv)+\"_\"+str(i)+'.meta', header=0, delimiter=',', skipinitialspace=True) for i in compress(range(nfiles),good_frames)]\n",
    "    for evt_frame, meta_frame in zip(evt_frames, meta_frames):\n",
    "        evt_frame['weight'] *= (meta_frame['cxn']*lumi/meta_frame['sum_weight'])[0]\n",
    "        \n",
    "    data = pd.concat(evt_frames)\n",
    "    return data"
   ]
  },
  {
   "cell_type": "code",
   "execution_count": 35,
   "metadata": {
    "collapsed": false
   },
   "outputs": [
    {
     "data": {
      "image/png": "[encoded data removed]",
      "text/plain": [
       "<matplotlib.figure.Figure at 0x7f85143b1990>"
      ]
     },
     "metadata": {},
     "output_type": "display_data"
    }
   ],
   "source": [
    "sig = [combine_signal_files(\"../data/sig_tchannel/\", mphi = m, nfiles=4) for m in [500,700, 900,2100]]\n",
    "\n",
    "bins = np.linspace(0,2500,50)\n",
    "\n",
    "normed = False\n",
    "\n",
    "for i in range(len(sig)):\n",
    "    plt.hist(sig[i]['MEt'], weights=sig[i]['weight'], \n",
    "                         bins=bins,\n",
    "                         histtype='step', alpha=.5, lw=1.6, label=\"signal\", normed=normed)\n",
    "\n",
    "# plt.hist(Zj_df['MEt'], weights=Zj_df['weight']*5000, \n",
    "#                      bins=bins,\n",
    "#                      histtype='step', alpha=.5, lw=1.6, label=\"$Z+j$\", normed=normed)\n",
    "# plt.hist(Wj_df['MEt'], weights=Wj_df['weight']*5000, \n",
    "#                      bins=bins,\n",
    "#                      histtype='step', alpha=.5, lw=1.6, label=\"$W+j$\", normed=normed)\n",
    "\n",
    "# # tt_df = pd.concat([tt_d_df, tt_s_df])\n",
    "# tt_df = pd.concat([tt_s_df])\n",
    "\n",
    "\n",
    "# plt.hist(tt_df['MEt'], weights=tt_df['weight']*5000, \n",
    "#                      bins=bins,\n",
    "#                      histtype='step', alpha=.5, lw=1.6, label=\"$t\\\\bar t$\", normed=normed)\n",
    "\n",
    "# plt.hist(QCD_df['MEt'], weights=QCD_df['weight']*5000, \n",
    "#                      bins=bins,\n",
    "#                      histtype='step', alpha=.5, lw=1.6, label=\"QCD\", normed=normed)\n",
    "\n",
    "# # plt.hist(QCD_nobias_df['MEt'], weights=QCD_nobias_df['weight'], \n",
    "# #                      bins=bins,\n",
    "# #                      histtype='step', alpha=.5, lw=1.6, label=\"QCD nobias\", normed=normed)\n",
    "\n",
    "\n",
    "\n",
    "\n",
    "\n",
    "plt.xlabel(\"MET\")\n",
    "\n",
    "\n",
    "plt.legend()\n",
    "plt.ylabel(\"Events\")\n",
    "plt.yscale(\"log\")"
   ]
  },
  {
   "cell_type": "code",
   "execution_count": null,
   "metadata": {
    "collapsed": true
   },
   "outputs": [],
   "source": []
  },
  {
   "cell_type": "code",
   "execution_count": null,
   "metadata": {
    "collapsed": true
   },
   "outputs": [],
   "source": []
  }
 ],
 "metadata": {
  "anaconda-cloud": {},
  "kernelspec": {
   "display_name": "Python [conda env:venv_py27]",
   "language": "python",
   "name": "conda-env-venv_py27-py"
  },
  "language_info": {
   "codemirror_mode": {
    "name": "ipython",
    "version": 2
   },
   "file_extension": ".py",
   "mimetype": "text/x-python",
   "name": "python",
   "nbconvert_exporter": "python",
   "pygments_lexer": "ipython2",
   "version": "2.7.12"
  }
 },
 "nbformat": 4,
 "nbformat_minor": 1
}
