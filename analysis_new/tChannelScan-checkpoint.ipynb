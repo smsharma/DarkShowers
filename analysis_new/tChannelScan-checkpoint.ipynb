{
 "cells": [
  {
   "cell_type": "code",
   "execution_count": 54,
   "metadata": {
    "collapsed": false
   },
   "outputs": [],
   "source": [
    "from math import *\n",
    "from numpy import sign\n",
    "from tqdm import *\n",
    "import numpy as np\n",
    "from scipy.interpolate import interp1d\n",
    "import scipy.integrate as integrate\n",
    "import scipy.optimize as optimize\n",
    "import matplotlib\n",
    "import matplotlib.cbook \n",
    "import matplotlib.pyplot as plt\n",
    "import pandas as pd\n",
    "import numpy.random as rand\n",
    "\n",
    "from matplotlib import rc\n",
    "\n",
    "\n",
    "rc('text', usetex=True)\n",
    "rc('xtick.major', size=5, pad=7)\n",
    "rc('xtick', labelsize=20)\n",
    "rc('ytick.major', size=5, pad=7)\n",
    "rc('ytick', labelsize=20)\n",
    "\n",
    "matplotlib.rcParams['text.latex.preamble'] = [\n",
    "    r'\\usepackage{graphics,graphicx,rotating}'\n",
    "]\n",
    "\n",
    "%matplotlib inline  \n",
    "\n"
   ]
  },
  {
   "cell_type": "code",
   "execution_count": 65,
   "metadata": {
    "collapsed": false
   },
   "outputs": [],
   "source": [
    "mylumi=37*1000\n",
    "mycut='MEt > 800 & nj>= 2 & pt1 >100 & pt2>80 & pt4 > 50 & dphi < 0.4'\n",
    "\n",
    "def binc(b):\n",
    "    return np.sqrt(b[1:]*b[:-1])\n",
    "\n",
    "def binw(b):\n",
    "    return (b[1:]-b[:-1])\n",
    "\n",
    "def get_sig(mZ, rinv, b, cut=mycut, lumi=mylumi, folder='../gen/tChannelTotalFinal/'):\n",
    "    str1='{:d}'.format(mZ)\n",
    "    if rinv >= .1 and rinv <=.9:\n",
    "        str2='{:1.1f}'.format(rinv)  \n",
    "    elif rinv != 1:\n",
    "        str2='{:1.2f}'.format(rinv)\n",
    "    else:\n",
    "        str2='1.0'\n",
    "    strevt='tchannel_total_M' + str1 + '_rinv' + str2 + '.evt'\n",
    "    strmeta='tchannel_total_M' + str1 + '_rinv' + str2 + '.meta'\n",
    "#    print(strevt)\n",
    "#    strmeta='*MZ_' + str1 + '*rinv_' + str2 + '.meta'\n",
    "    data_evt = pd.read_csv(folder+strevt, header=0, delimiter=',', skipinitialspace=True)\n",
    "    data_meta = pd.read_csv(folder+strmeta, header=0, delimiter=',', skipinitialspace=True)\n",
    "    data_evt = data_evt.query(cut)\n",
    "#     cxn = 10**np.interp(mZ,intmass,intlogcxn) * (2*2*3)\n",
    "    cxn = data_meta['cxn']*1\n",
    "    scale=cxn*lumi/data_meta['nevt']\n",
    "    result, _ =np.histogram(np.asarray(data_evt['MEt']), bins=b,\n",
    "                            weights=np.repeat(scale[0],len(data_evt.index)))\n",
    "#   apply a mask\n",
    "    return np.append(result, result[-1])\n",
    "\n",
    "mybins=10**np.linspace(log10(100),log10(8000),11)\n",
    "# mybins1=10**np.linspace(log10(1000),log10(5000),10001)\n",
    "\n",
    "\n",
    "\n",
    "def readfile(name, folder='ntuple_Tchannel/', lumi=mylumi, cxn=None):\n",
    "    data = pd.read_csv(folder+name+'.evt', header=0, delimiter=',', skipinitialspace=True)\n",
    "    data.meta = pd.read_csv(folder+name+'.meta', header=0, delimiter=',', skipinitialspace=True)\n",
    "    if 'weight' in data.columns:\n",
    "        data['weight'] *= (data.meta['cxn']*lumi/data.meta['sum_weight'])[0]\n",
    "    else:\n",
    "        data['weight'] = (data.meta['cxn']*lumi / data.meta['nevt'])[0]  \n",
    "    if cxn is not None:\n",
    "        data['weight'] = (cxn*lumi / data.meta['nevt'])[0]  \n",
    "    return data\n",
    "\n",
    "bkg_files = ['bkg_ttbar_dilep_0',  'bkg_ttbar_semilep_0',  'bkg_Wj_0',  'bkg_Zj_0']\n",
    "bkg_files = [ readfile(f,folder='../analysis/BkgNtuplesWithMT/') for f in bkg_files ]\n",
    "\n",
    "def get_bkg(b, cut=mycut, lumi=mylumi):\n",
    "    bw = np.array(b[1:]-b[:-1])\n",
    "    bc = np.sqrt(b[1:]*b[:-1])\n",
    "    bkg_select=[ f.query(cut) for f in bkg_files ]\n",
    "    result = np.array( [ np.histogram( np.asarray(f['MEt']), bins=b,\n",
    "                            weights=f['weight'] )[0] for f in bkg_select ] )\n",
    "    result = np.sum(result, axis=0)\n",
    "    return np.append(result, result[-1])\n",
    "\n"
   ]
  },
  {
   "cell_type": "code",
   "execution_count": 102,
   "metadata": {
    "collapsed": false
   },
   "outputs": [
    {
     "name": "stderr",
     "output_type": "stream",
     "text": [
      "\r",
      "0it [00:00, ?it/s]"
     ]
    },
    {
     "name": "stdout",
     "output_type": "stream",
     "text": [
      "0.10, 500, 1.406\n",
      "('optimal cut: ', 'MEt > 800 & pt2 > 140 & pt1 + pt2 + pt3 + pt4 > 0 & dphi < 0.4')\n",
      "0.20, 500, 0.749\n",
      "('optimal cut: ', 'MEt > 800 & pt2 > 140 & pt1 + pt2 + pt3 + pt4 > 0 & dphi < 0.4')\n",
      "0.30, 500, 0.719\n",
      "('optimal cut: ', 'MEt > 800 & pt2 > 140 & pt1 + pt2 + pt3 + pt4 > 0 & dphi < 0.4')\n",
      "0.40, 500, 0.749\n",
      "('optimal cut: ', 'MEt > 800 & pt2 > 140 & pt1 + pt2 + pt3 + pt4 > 0 & dphi < 0.4')\n",
      "0.50, 500, 0.356\n",
      "('optimal cut: ', 'MEt > 1000 & pt2 > 140 & pt1 + pt2 + pt3 + pt4 > 0 & dphi < 0.4')\n",
      "0.60, 500, 0.301\n",
      "('optimal cut: ', 'MEt > 800 & pt2 > 120 & pt1 + pt2 + pt3 + pt4 > 0 & dphi < 0.4')\n",
      "0.70, 500, 0.246\n",
      "('optimal cut: ', 'MEt > 1200 & pt2 > 140 & pt1 + pt2 + pt3 + pt4 > 0 & dphi < 0.4')\n",
      "0.80, 500, 0.216\n",
      "('optimal cut: ', 'MEt > 800 & pt2 > 120 & pt1 + pt2 + pt3 + pt4 > 0 & dphi > 0.4')\n",
      "0.90, 500, 0.287\n",
      "('optimal cut: ', 'MEt > 800 & pt2 > 100 & pt1 + pt2 + pt3 + pt4 > 0 & dphi > 0.4')\n"
     ]
    },
    {
     "name": "stderr",
     "output_type": "stream",
     "text": [
      "\r",
      "1it [00:35, 35.67s/it]"
     ]
    },
    {
     "name": "stdout",
     "output_type": "stream",
     "text": [
      "1.00, 500, 0.169\n",
      "('optimal cut: ', 'MEt > 800 & pt2 > 100 & pt1 + pt2 + pt3 + pt4 > 0 & dphi > 0.4')\n",
      "0.10, 1000, 3.778\n",
      "('optimal cut: ', 'MEt > 800 & pt2 > 140 & pt1 + pt2 + pt3 + pt4 > 0 & dphi < 0.4')\n",
      "0.20, 1000, 3.463\n",
      "('optimal cut: ', 'MEt > 800 & pt2 > 140 & pt1 + pt2 + pt3 + pt4 > 0 & dphi < 0.4')\n",
      "0.30, 1000, 1.414\n",
      "('optimal cut: ', 'MEt > 800 & pt2 > 120 & pt1 + pt2 + pt3 + pt4 > 0 & dphi < 0.4')\n",
      "0.40, 1000, 1.567\n",
      "('optimal cut: ', 'MEt > 800 & pt2 > 120 & pt1 + pt2 + pt3 + pt4 > 0 & dphi < 0.4')\n",
      "0.50, 1000, 1.080\n",
      "('optimal cut: ', 'MEt > 800 & pt2 > 100 & pt1 + pt2 + pt3 + pt4 > 0 & dphi < 0.4')\n",
      "0.60, 1000, 0.937\n",
      "('optimal cut: ', 'MEt > 800 & pt2 > 120 & pt1 + pt2 + pt3 + pt4 > 0 & dphi < 0.4')\n",
      "0.70, 1000, 0.785\n",
      "('optimal cut: ', 'MEt > 800 & pt2 > 140 & pt1 + pt2 + pt3 + pt4 > 0 & dphi < 0.4')\n",
      "0.80, 1000, 0.433\n",
      "('optimal cut: ', 'MEt > 800 & pt2 > 100 & pt1 + pt2 + pt3 + pt4 > 0 & dphi > 0.4')\n",
      "0.90, 1000, 0.352\n",
      "('optimal cut: ', 'MEt > 800 & pt2 > 100 & pt1 + pt2 + pt3 + pt4 > 0 & dphi > 0.4')\n"
     ]
    },
    {
     "name": "stderr",
     "output_type": "stream",
     "text": [
      "\r",
      "2it [01:10, 35.36s/it]"
     ]
    },
    {
     "name": "stdout",
     "output_type": "stream",
     "text": [
      "1.00, 1000, 0.204\n",
      "('optimal cut: ', 'MEt > 800 & pt2 > 100 & pt1 + pt2 + pt3 + pt4 > 0 & dphi > 0.4')\n",
      "0.10, 2000, 19.425\n",
      "('optimal cut: ', 'MEt > 800 & pt2 > 120 & pt1 + pt2 + pt3 + pt4 > 0 & dphi < 0.4')\n",
      "0.20, 2000, 13.206\n",
      "('optimal cut: ', 'MEt > 800 & pt2 > 140 & pt1 + pt2 + pt3 + pt4 > 0 & dphi < 0.4')\n",
      "0.30, 2000, 7.845\n",
      "('optimal cut: ', 'MEt > 800 & pt2 > 120 & pt1 + pt2 + pt3 + pt4 > 0 & dphi < 0.4')\n",
      "0.40, 2000, 6.887\n",
      "('optimal cut: ', 'MEt > 800 & pt2 > 100 & pt1 + pt2 + pt3 + pt4 > 0 & dphi < 0.4')\n",
      "0.50, 2000, 5.664\n",
      "('optimal cut: ', 'MEt > 800 & pt2 > 120 & pt1 + pt2 + pt3 + pt4 > 0 & dphi < 0.4')\n",
      "0.60, 2000, 4.805\n",
      "('optimal cut: ', 'MEt > 800 & pt2 > 100 & pt1 + pt2 + pt3 + pt4 > 0 & dphi < 0.4')\n",
      "0.70, 2000, 4.611\n",
      "('optimal cut: ', 'MEt > 800 & pt2 > 120 & pt1 + pt2 + pt3 + pt4 > 0 & dphi < 0.4')\n",
      "0.80, 2000, 3.959\n",
      "('optimal cut: ', 'MEt > 800 & pt2 > 100 & pt1 + pt2 + pt3 + pt4 > 0 & dphi > 0.4')\n",
      "0.90, 2000, 2.574\n",
      "('optimal cut: ', 'MEt > 800 & pt2 > 100 & pt1 + pt2 + pt3 + pt4 > 0 & dphi > 0.4')\n"
     ]
    },
    {
     "name": "stderr",
     "output_type": "stream",
     "text": [
      "\r",
      "3it [01:45, 35.26s/it]"
     ]
    },
    {
     "name": "stdout",
     "output_type": "stream",
     "text": [
      "1.00, 2000, 1.911\n",
      "('optimal cut: ', 'MEt > 800 & pt2 > 100 & pt1 + pt2 + pt3 + pt4 > 0 & dphi > 0.4')\n",
      "0.10, 4000, 144.307\n",
      "('optimal cut: ', 'MEt > 800 & pt2 > 140 & pt1 + pt2 + pt3 + pt4 > 0 & dphi < 0.4')\n",
      "0.20, 4000, 77.863\n",
      "('optimal cut: ', 'MEt > 800 & pt2 > 140 & pt1 + pt2 + pt3 + pt4 > 0 & dphi < 0.4')\n",
      "0.30, 4000, 68.452\n",
      "('optimal cut: ', 'MEt > 800 & pt2 > 100 & pt1 + pt2 + pt3 + pt4 > 0 & dphi < 0.4')\n",
      "0.40, 4000, 61.165\n",
      "('optimal cut: ', 'MEt > 800 & pt2 > 120 & pt1 + pt2 + pt3 + pt4 > 0 & dphi < 0.4')\n",
      "0.50, 4000, 52.703\n",
      "('optimal cut: ', 'MEt > 800 & pt2 > 100 & pt1 + pt2 + pt3 + pt4 > 0 & dphi < 0.4')\n",
      "0.60, 4000, 65.942\n",
      "('optimal cut: ', 'MEt > 1200 & pt2 > 140 & pt1 + pt2 + pt3 + pt4 > 0 & dphi < 0.4')\n",
      "0.70, 4000, 58.704\n",
      "('optimal cut: ', 'MEt > 800 & pt2 > 140 & pt1 + pt2 + pt3 + pt4 > 0 & dphi < 0.4')\n",
      "0.80, 4000, 80.486\n",
      "('optimal cut: ', 'MEt > 800 & pt2 > 140 & pt1 + pt2 + pt3 + pt4 > 0 & dphi < 0.4')\n",
      "0.90, 4000, 132.067\n",
      "('optimal cut: ', 'MEt > 800 & pt2 > 120 & pt1 + pt2 + pt3 + pt4 > 0 & dphi > 0.4')\n"
     ]
    },
    {
     "name": "stderr",
     "output_type": "stream",
     "text": [
      "\r",
      "4it [02:21, 35.42s/it]"
     ]
    },
    {
     "name": "stdout",
     "output_type": "stream",
     "text": [
      "1.00, 4000, 73.694\n",
      "('optimal cut: ', 'MEt > 800 & pt2 > 120 & pt1 + pt2 + pt3 + pt4 > 0 & dphi > 0.4')\n",
      "0.10, 10000, 3210.633\n",
      "('optimal cut: ', 'MEt > 1000 & pt2 > 140 & pt1 + pt2 + pt3 + pt4 > 0 & dphi < 0.4')\n",
      "0.20, 10000, 2563.966\n",
      "('optimal cut: ', 'MEt > 1000 & pt2 > 140 & pt1 + pt2 + pt3 + pt4 > 0 & dphi < 0.4')\n",
      "0.30, 10000, 1654.869\n",
      "('optimal cut: ', 'MEt > 800 & pt2 > 140 & pt1 + pt2 + pt3 + pt4 > 0 & dphi < 0.4')\n",
      "0.40, 10000, 1523.515\n",
      "('optimal cut: ', 'MEt > 800 & pt2 > 140 & pt1 + pt2 + pt3 + pt4 > 0 & dphi < 0.4')\n",
      "0.50, 10000, 1675.757\n",
      "('optimal cut: ', 'MEt > 800 & pt2 > 140 & pt1 + pt2 + pt3 + pt4 > 0 & dphi < 0.4')\n",
      "0.60, 10000, 1873.454\n",
      "('optimal cut: ', 'MEt > 800 & pt2 > 140 & pt1 + pt2 + pt3 + pt4 > 0 & dphi < 0.4')\n",
      "0.70, 10000, 2243.751\n",
      "('optimal cut: ', 'MEt > 800 & pt2 > 140 & pt1 + pt2 + pt3 + pt4 > 0 & dphi < 0.4')\n",
      "0.80, 10000, 4860.826\n",
      "('optimal cut: ', 'MEt > 800 & pt2 > 100 & pt1 + pt2 + pt3 + pt4 > 0 & dphi > 0.4')\n",
      "0.90, 10000, 4816.853\n",
      "('optimal cut: ', 'MEt > 800 & pt2 > 100 & pt1 + pt2 + pt3 + pt4 > 0 & dphi > 0.4')\n"
     ]
    },
    {
     "name": "stderr",
     "output_type": "stream",
     "text": [
      "\r",
      "5it [02:56, 35.55s/it]"
     ]
    },
    {
     "name": "stdout",
     "output_type": "stream",
     "text": [
      "1.00, 10000, 11159.779\n",
      "('optimal cut: ', 'MEt > 800 & pt2 > 120 & pt1 + pt2 + pt3 + pt4 > 0 & dphi > 0.4')\n"
     ]
    },
    {
     "name": "stderr",
     "output_type": "stream",
     "text": [
      "\n"
     ]
    }
   ],
   "source": [
    "from scipy.optimize import bisect\n",
    "def limit(sig,bkg):\n",
    "    if np.sum(sig)==0:\n",
    "        return 1e99\n",
    "    def func_root(x):\n",
    "        part1 = bkg > 20\n",
    "        part2 = np.logical_not(part1)\n",
    "        qcd_1 = bkg[part1]\n",
    "        qcd_2 = bkg[part2]\n",
    "        sig_1 = sig[part1]\n",
    "        sig_2 = sig[part2]\n",
    "\n",
    "        sig_t1 = (10**x)*sig_1\n",
    "        sig_t2 = (10**x)*sig_2\n",
    "        \n",
    "        sb1 = qcd_1 + sig_1\n",
    "        sb2 = qcd_2 + sig_2\n",
    "        \n",
    "        normpart = sig_t1**2/(2*(sb1+0.02**2*qcd_1**2))\n",
    "        logpart = np.where(qcd_2 > 1e-3, -qcd_2*np.log(1+sig_t2/qcd_2), 0)\n",
    "        my_val = np.sum(normpart)+(np.sum(logpart)+np.sum(sig_t2)) - 2\n",
    "        return my_val\n",
    "    \n",
    "    \n",
    "    soln = bisect(func_root, -10.,20.)\n",
    "    return 10**soln\n",
    "\n",
    "\n",
    "rinv=np.array([.01,.1,.2,.3,.4,.5,.6,.7,.8,.9,1])\n",
    "#masses=[500,1000,2000,3000,4000,5000,7000,10000,20000,50000,100000] #[10000] #np.arange(300,3100,100)\n",
    "masses=[500,1000,2000,4000,10000]\n",
    "\n",
    "#basecut='MEt > 1000 & '\n",
    "cutlist=[]\n",
    "\n",
    "# scan over different cuts\n",
    "\n",
    "for MEtcut in [800, 1000, 1200]:\n",
    "    for pt2cut in [100, 120, 140]:\n",
    "        for HTcut in [0, 200, 400]:\n",
    "            for dphicut in ['dphi < 0.4', 'dphi > 0.4']:\n",
    "                c1 = 'MEt > ' + str(MEtcut) + ' & '\n",
    "                c2 = 'pt2 > ' + str(pt2cut) + ' & '\n",
    "                c3 = 'pt1 + pt2 + pt3 + pt4 > ' + str(HTcut) + ' & '\n",
    "                cutlist = cutlist + [ c1 + c2 + c3 +  dphicut ]\n",
    "\n",
    "\n",
    "result=np.zeros([len(rinv),len(masses)])\n",
    "cutindex=np.zeros([len(rinv),len(masses)],dtype=int)\n",
    "\n",
    "#get all the bkg first\n",
    "bkg_list=[ get_bkg(mybins, cut=c) for c in cutlist ]\n",
    "\n",
    "\n",
    "for im,m in tqdm(enumerate(masses)):\n",
    "    for ir,r in enumerate(rinv[1:]):\n",
    "        tempresult=np.array([ limit(get_sig(m,r,mybins,cut=c),bkg_list[i]) for i,c in enumerate(cutlist)])\n",
    "        print(\"{:1.2f}, {:d}, {:1.3f}\".format(r,m,np.amin(tempresult)))\n",
    "        result[ir, im]=np.amin(tempresult)\n",
    "        cutindex[ir, im]=np.argmin(tempresult)\n",
    "        print(\"optimal cut: \",cutlist[cutindex[ir,im]])\n"
   ]
  },
  {
   "cell_type": "code",
   "execution_count": 137,
   "metadata": {
    "collapsed": false
   },
   "outputs": [],
   "source": [
    "masses_ary = []\n",
    "rinv_ary = []\n",
    "cuts_ary = []\n",
    "\n",
    "for im, mass in enumerate(masses):\n",
    "    for ir, r in enumerate(rinv):\n",
    "        masses_ary.append(mass)\n",
    "        rinv_ary.append(r)\n",
    "        cuts_ary.append(cutlist[cutindex[ir,im]])"
   ]
  },
  {
   "cell_type": "code",
   "execution_count": 138,
   "metadata": {
    "collapsed": false
   },
   "outputs": [],
   "source": [
    "cuts_ary = [cut.replace(\"pt1 + pt2 + pt3 + pt4\", \"$H_T$\").replace(\"MEt\", \"$E_{T, miss}$\").replace(\"&\", \",\").replace(\"dphi\", \"$\\Delta phi$\") for cut in cuts_ary]"
   ]
  },
  {
   "cell_type": "code",
   "execution_count": 141,
   "metadata": {
    "collapsed": false
   },
   "outputs": [],
   "source": [
    "cuts_pd = pd.DataFrame(zip(masses_ary,\n",
    "                rinv_ary,\n",
    "                cuts_ary),\n",
    "            columns=[\"$M_\\phi$\", \"$r_\\mathrm{inv}$\", \"Optimum cut\"])"
   ]
  },
  {
   "cell_type": "code",
   "execution_count": 143,
   "metadata": {
    "collapsed": false
   },
   "outputs": [
    {
     "name": "stdout",
     "output_type": "stream",
     "text": [
      "\\begin{tabular}{lrrl}\n",
      "\\toprule\n",
      "{} &  \\$M\\_\\textbackslashphi\\$ &  \\$r\\_\\textbackslashmathrm\\{inv\\}\\$ &                                        Optimum cut \\\\\n",
      "\\midrule\n",
      "0  &       500 &              0.01 &  \\$E\\_\\{T, miss\\}\\$ > 800 , pt2 > 140 , \\$H\\_T\\$ > 0 , ... \\\\\n",
      "1  &       500 &              0.10 &  \\$E\\_\\{T, miss\\}\\$ > 800 , pt2 > 140 , \\$H\\_T\\$ > 0 , ... \\\\\n",
      "2  &       500 &              0.20 &  \\$E\\_\\{T, miss\\}\\$ > 800 , pt2 > 140 , \\$H\\_T\\$ > 0 , ... \\\\\n",
      "3  &       500 &              0.30 &  \\$E\\_\\{T, miss\\}\\$ > 800 , pt2 > 140 , \\$H\\_T\\$ > 0 , ... \\\\\n",
      "4  &       500 &              0.40 &  \\$E\\_\\{T, miss\\}\\$ > 1000 , pt2 > 140 , \\$H\\_T\\$ > 0 ,... \\\\\n",
      "5  &       500 &              0.50 &  \\$E\\_\\{T, miss\\}\\$ > 800 , pt2 > 120 , \\$H\\_T\\$ > 0 , ... \\\\\n",
      "6  &       500 &              0.60 &  \\$E\\_\\{T, miss\\}\\$ > 1200 , pt2 > 140 , \\$H\\_T\\$ > 0 ,... \\\\\n",
      "7  &       500 &              0.70 &  \\$E\\_\\{T, miss\\}\\$ > 800 , pt2 > 120 , \\$H\\_T\\$ > 0 , ... \\\\\n",
      "8  &       500 &              0.80 &  \\$E\\_\\{T, miss\\}\\$ > 800 , pt2 > 100 , \\$H\\_T\\$ > 0 , ... \\\\\n",
      "9  &       500 &              0.90 &  \\$E\\_\\{T, miss\\}\\$ > 800 , pt2 > 100 , \\$H\\_T\\$ > 0 , ... \\\\\n",
      "10 &       500 &              1.00 &  \\$E\\_\\{T, miss\\}\\$ > 800 , pt2 > 100 , \\$H\\_T\\$ > 0 , ... \\\\\n",
      "11 &      1000 &              0.01 &  \\$E\\_\\{T, miss\\}\\$ > 800 , pt2 > 140 , \\$H\\_T\\$ > 0 , ... \\\\\n",
      "12 &      1000 &              0.10 &  \\$E\\_\\{T, miss\\}\\$ > 800 , pt2 > 140 , \\$H\\_T\\$ > 0 , ... \\\\\n",
      "13 &      1000 &              0.20 &  \\$E\\_\\{T, miss\\}\\$ > 800 , pt2 > 120 , \\$H\\_T\\$ > 0 , ... \\\\\n",
      "14 &      1000 &              0.30 &  \\$E\\_\\{T, miss\\}\\$ > 800 , pt2 > 120 , \\$H\\_T\\$ > 0 , ... \\\\\n",
      "15 &      1000 &              0.40 &  \\$E\\_\\{T, miss\\}\\$ > 800 , pt2 > 100 , \\$H\\_T\\$ > 0 , ... \\\\\n",
      "16 &      1000 &              0.50 &  \\$E\\_\\{T, miss\\}\\$ > 800 , pt2 > 120 , \\$H\\_T\\$ > 0 , ... \\\\\n",
      "17 &      1000 &              0.60 &  \\$E\\_\\{T, miss\\}\\$ > 800 , pt2 > 140 , \\$H\\_T\\$ > 0 , ... \\\\\n",
      "18 &      1000 &              0.70 &  \\$E\\_\\{T, miss\\}\\$ > 800 , pt2 > 100 , \\$H\\_T\\$ > 0 , ... \\\\\n",
      "19 &      1000 &              0.80 &  \\$E\\_\\{T, miss\\}\\$ > 800 , pt2 > 100 , \\$H\\_T\\$ > 0 , ... \\\\\n",
      "20 &      1000 &              0.90 &  \\$E\\_\\{T, miss\\}\\$ > 800 , pt2 > 100 , \\$H\\_T\\$ > 0 , ... \\\\\n",
      "21 &      1000 &              1.00 &  \\$E\\_\\{T, miss\\}\\$ > 800 , pt2 > 100 , \\$H\\_T\\$ > 0 , ... \\\\\n",
      "22 &      2000 &              0.01 &  \\$E\\_\\{T, miss\\}\\$ > 800 , pt2 > 120 , \\$H\\_T\\$ > 0 , ... \\\\\n",
      "23 &      2000 &              0.10 &  \\$E\\_\\{T, miss\\}\\$ > 800 , pt2 > 140 , \\$H\\_T\\$ > 0 , ... \\\\\n",
      "24 &      2000 &              0.20 &  \\$E\\_\\{T, miss\\}\\$ > 800 , pt2 > 120 , \\$H\\_T\\$ > 0 , ... \\\\\n",
      "25 &      2000 &              0.30 &  \\$E\\_\\{T, miss\\}\\$ > 800 , pt2 > 100 , \\$H\\_T\\$ > 0 , ... \\\\\n",
      "26 &      2000 &              0.40 &  \\$E\\_\\{T, miss\\}\\$ > 800 , pt2 > 120 , \\$H\\_T\\$ > 0 , ... \\\\\n",
      "27 &      2000 &              0.50 &  \\$E\\_\\{T, miss\\}\\$ > 800 , pt2 > 100 , \\$H\\_T\\$ > 0 , ... \\\\\n",
      "28 &      2000 &              0.60 &  \\$E\\_\\{T, miss\\}\\$ > 800 , pt2 > 120 , \\$H\\_T\\$ > 0 , ... \\\\\n",
      "29 &      2000 &              0.70 &  \\$E\\_\\{T, miss\\}\\$ > 800 , pt2 > 100 , \\$H\\_T\\$ > 0 , ... \\\\\n",
      "30 &      2000 &              0.80 &  \\$E\\_\\{T, miss\\}\\$ > 800 , pt2 > 100 , \\$H\\_T\\$ > 0 , ... \\\\\n",
      "31 &      2000 &              0.90 &  \\$E\\_\\{T, miss\\}\\$ > 800 , pt2 > 100 , \\$H\\_T\\$ > 0 , ... \\\\\n",
      "32 &      2000 &              1.00 &  \\$E\\_\\{T, miss\\}\\$ > 800 , pt2 > 100 , \\$H\\_T\\$ > 0 , ... \\\\\n",
      "33 &      4000 &              0.01 &  \\$E\\_\\{T, miss\\}\\$ > 800 , pt2 > 140 , \\$H\\_T\\$ > 0 , ... \\\\\n",
      "34 &      4000 &              0.10 &  \\$E\\_\\{T, miss\\}\\$ > 800 , pt2 > 140 , \\$H\\_T\\$ > 0 , ... \\\\\n",
      "35 &      4000 &              0.20 &  \\$E\\_\\{T, miss\\}\\$ > 800 , pt2 > 100 , \\$H\\_T\\$ > 0 , ... \\\\\n",
      "36 &      4000 &              0.30 &  \\$E\\_\\{T, miss\\}\\$ > 800 , pt2 > 120 , \\$H\\_T\\$ > 0 , ... \\\\\n",
      "37 &      4000 &              0.40 &  \\$E\\_\\{T, miss\\}\\$ > 800 , pt2 > 100 , \\$H\\_T\\$ > 0 , ... \\\\\n",
      "38 &      4000 &              0.50 &  \\$E\\_\\{T, miss\\}\\$ > 1200 , pt2 > 140 , \\$H\\_T\\$ > 0 ,... \\\\\n",
      "39 &      4000 &              0.60 &  \\$E\\_\\{T, miss\\}\\$ > 800 , pt2 > 140 , \\$H\\_T\\$ > 0 , ... \\\\\n",
      "40 &      4000 &              0.70 &  \\$E\\_\\{T, miss\\}\\$ > 800 , pt2 > 140 , \\$H\\_T\\$ > 0 , ... \\\\\n",
      "41 &      4000 &              0.80 &  \\$E\\_\\{T, miss\\}\\$ > 800 , pt2 > 120 , \\$H\\_T\\$ > 0 , ... \\\\\n",
      "42 &      4000 &              0.90 &  \\$E\\_\\{T, miss\\}\\$ > 800 , pt2 > 120 , \\$H\\_T\\$ > 0 , ... \\\\\n",
      "43 &      4000 &              1.00 &  \\$E\\_\\{T, miss\\}\\$ > 800 , pt2 > 100 , \\$H\\_T\\$ > 0 , ... \\\\\n",
      "44 &     10000 &              0.01 &  \\$E\\_\\{T, miss\\}\\$ > 1000 , pt2 > 140 , \\$H\\_T\\$ > 0 ,... \\\\\n",
      "45 &     10000 &              0.10 &  \\$E\\_\\{T, miss\\}\\$ > 1000 , pt2 > 140 , \\$H\\_T\\$ > 0 ,... \\\\\n",
      "46 &     10000 &              0.20 &  \\$E\\_\\{T, miss\\}\\$ > 800 , pt2 > 140 , \\$H\\_T\\$ > 0 , ... \\\\\n",
      "47 &     10000 &              0.30 &  \\$E\\_\\{T, miss\\}\\$ > 800 , pt2 > 140 , \\$H\\_T\\$ > 0 , ... \\\\\n",
      "48 &     10000 &              0.40 &  \\$E\\_\\{T, miss\\}\\$ > 800 , pt2 > 140 , \\$H\\_T\\$ > 0 , ... \\\\\n",
      "49 &     10000 &              0.50 &  \\$E\\_\\{T, miss\\}\\$ > 800 , pt2 > 140 , \\$H\\_T\\$ > 0 , ... \\\\\n",
      "50 &     10000 &              0.60 &  \\$E\\_\\{T, miss\\}\\$ > 800 , pt2 > 140 , \\$H\\_T\\$ > 0 , ... \\\\\n",
      "51 &     10000 &              0.70 &  \\$E\\_\\{T, miss\\}\\$ > 800 , pt2 > 100 , \\$H\\_T\\$ > 0 , ... \\\\\n",
      "52 &     10000 &              0.80 &  \\$E\\_\\{T, miss\\}\\$ > 800 , pt2 > 100 , \\$H\\_T\\$ > 0 , ... \\\\\n",
      "53 &     10000 &              0.90 &  \\$E\\_\\{T, miss\\}\\$ > 800 , pt2 > 120 , \\$H\\_T\\$ > 0 , ... \\\\\n",
      "54 &     10000 &              1.00 &  \\$E\\_\\{T, miss\\}\\$ > 800 , pt2 > 100 , \\$H\\_T\\$ > 0 , ... \\\\\n",
      "\\bottomrule\n",
      "\\end{tabular}\n",
      "\n"
     ]
    }
   ],
   "source": [
    "print cuts_pd.to_latex()"
   ]
  },
  {
   "cell_type": "code",
   "execution_count": 51,
   "metadata": {
    "collapsed": false
   },
   "outputs": [
    {
     "name": "stdout",
     "output_type": "stream",
     "text": [
      "[ -562.64870275   361.25432303   575.04213427   999.49973788   880.12114143\n",
      "  1016.45005753  1045.41825667  1160.18431481  1304.82058836  1509.03279654\n",
      "  1502.94414221  2500.        ]\n",
      "[    0.             0.           575.04213427   999.49973788   880.12114143\n",
      "  1016.45005753  1045.41825667  1160.18431481  1304.82058836  1509.03279654\n",
      "  1502.94414221  2500.        ]\n"
     ]
    },
    {
     "name": "stderr",
     "output_type": "stream",
     "text": [
      "/group/hepheno/heptools/anaconda3/envs/venv_py27/lib/python2.7/site-packages/scipy/optimize/minpack.py:161: RuntimeWarning: The iteration is not making good progress, as measured by the \n",
      "  improvement from the last five Jacobian evaluations.\n",
      "  warnings.warn(msg, RuntimeWarning)\n"
     ]
    },
    {
     "data": {
      "image/png": "[encoded data removed]",
      "text/plain": [
       "<matplotlib.figure.Figure at 0x7f1190edf510>"
      ]
     },
     "metadata": {},
     "output_type": "display_data"
    }
   ],
   "source": [
    "from scipy.optimize import fsolve\n",
    "\n",
    "mass_limit=np.zeros(len(rinv))\n",
    "for i,r in enumerate(rinv):\n",
    "    mymass = np.insert(masses,0,0)\n",
    "    masslist = np.insert(result[i],0,0)    \n",
    "    mass_limit[i] = fsolve(lambda mZ: 1-np.interp(mZ, mymass, masslist), 2500)[0]\n",
    "\n",
    "final_limit=mass_limit\n",
    "print(mass_limit)\n",
    "\n",
    "\n",
    "final_limit[0]=0\n",
    "final_limit[1]=0\n",
    "cutoff = final_limit/sqrt(.1)\n",
    "plt.plot(rinv,final_limit)\n",
    "print(final_limit)"
   ]
  },
  {
   "cell_type": "code",
   "execution_count": 52,
   "metadata": {
    "collapsed": false
   },
   "outputs": [
    {
     "data": {
      "text/plain": [
       "[<matplotlib.lines.Line2D at 0x7f1190bd5250>]"
      ]
     },
     "execution_count": 52,
     "metadata": {},
     "output_type": "execute_result"
    },
    {
     "data": {
      "image/png": "[encoded data removed]",
      "text/plain": [
       "<matplotlib.figure.Figure at 0x7f1191095350>"
      ]
     },
     "metadata": {},
     "output_type": "display_data"
    }
   ],
   "source": [
    "plt.plot(rinv,cutoff)"
   ]
  },
  {
   "cell_type": "code",
   "execution_count": null,
   "metadata": {
    "collapsed": true
   },
   "outputs": [],
   "source": []
  }
 ],
 "metadata": {
  "anaconda-cloud": {},
  "celltoolbar": "Raw Cell Format",
  "kernelspec": {
   "display_name": "Python [conda env:venv_py27]",
   "language": "python",
   "name": "conda-env-venv_py27-py"
  },
  "language_info": {
   "codemirror_mode": {
    "name": "ipython",
    "version": 2
   },
   "file_extension": ".py",
   "mimetype": "text/x-python",
   "name": "python",
   "nbconvert_exporter": "python",
   "pygments_lexer": "ipython2",
   "version": "2.7.12"
  }
 },
 "nbformat": 4,
 "nbformat_minor": 0
}
