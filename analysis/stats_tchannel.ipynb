{
 "cells": [
  {
   "cell_type": "code",
   "execution_count": 1,
   "metadata": {
    "collapsed": false
   },
   "outputs": [
    {
     "name": "stderr",
     "output_type": "stream",
     "text": [
      "/usr/local/lib/python2.7/dist-packages/matplotlib/font_manager.py:273: UserWarning: Matplotlib is building the font cache using fc-list. This may take a moment.\n",
      "  warnings.warn('Matplotlib is building the font cache using fc-list. This may take a moment.')\n"
     ]
    }
   ],
   "source": [
    "from math import *\n",
    "from numpy import sign\n",
    "\n",
    "import numpy as np\n",
    "from scipy.interpolate import interp1d\n",
    "import scipy.integrate as integrate\n",
    "import scipy.optimize as optimize\n",
    "import matplotlib\n",
    "import matplotlib.cbook \n",
    "import matplotlib.pyplot as plt\n",
    "import pandas as pd\n",
    "import numpy.random as rand\n",
    "\n",
    "from matplotlib import rc\n",
    "\n",
    "\n",
    "rc('text', usetex=True)\n",
    "rc('xtick.major', size=5, pad=7)\n",
    "rc('xtick', labelsize=20)\n",
    "rc('ytick.major', size=5, pad=7)\n",
    "rc('ytick', labelsize=20)\n",
    "\n",
    "matplotlib.rcParams['text.latex.preamble'] = [\n",
    "    r'\\usepackage{graphics,graphicx,rotating}'\n",
    "]\n",
    "\n",
    "%matplotlib inline  \n",
    "\n"
   ]
  },
  {
   "cell_type": "code",
   "execution_count": 2,
   "metadata": {
    "collapsed": false
   },
   "outputs": [
    {
     "data": {
      "text/plain": [
       "['ntuple_Tchannel/tchannel_up_1000_rinv0.01.evt',\n",
       " 'ntuple_Tchannel/tchannel_up_1000_rinv0.1.evt',\n",
       " 'ntuple_Tchannel/tchannel_up_1000_rinv0.2.evt',\n",
       " 'ntuple_Tchannel/tchannel_up_1000_rinv0.3.evt',\n",
       " 'ntuple_Tchannel/tchannel_up_1000_rinv0.4.evt',\n",
       " 'ntuple_Tchannel/tchannel_up_1000_rinv0.5.evt',\n",
       " 'ntuple_Tchannel/tchannel_up_1000_rinv0.6.evt',\n",
       " 'ntuple_Tchannel/tchannel_up_1000_rinv0.7.evt',\n",
       " 'ntuple_Tchannel/tchannel_up_1000_rinv0.8.evt',\n",
       " 'ntuple_Tchannel/tchannel_up_1000_rinv0.98.evt',\n",
       " 'ntuple_Tchannel/tchannel_up_1000_rinv0.99.evt',\n",
       " 'ntuple_Tchannel/tchannel_up_1000_rinv0.9.evt',\n",
       " 'ntuple_Tchannel/tchannel_up_1000_rinv1.0.evt']"
      ]
     },
     "execution_count": 2,
     "metadata": {},
     "output_type": "execute_result"
    }
   ],
   "source": [
    "num=1000\n",
    "def get(num):\n",
    "    ! cd ntuple_Tchannel\n",
    "    mylist=! ls ntuple_Tchannel/tchannel_up_$num*.evt\n",
    "    return mylist\n",
    "\n",
    "get(1000)"
   ]
  },
  {
   "cell_type": "markdown",
   "metadata": {},
   "source": [
    "### Read input"
   ]
  },
  {
   "cell_type": "code",
   "execution_count": 4,
   "metadata": {
    "collapsed": false
   },
   "outputs": [],
   "source": [
    "def readfile(name, folder='ntuple_Tchannel/', lumi=1, cxn=None):\n",
    "    data = pd.read_csv(folder+name+'.evt', header=0, delimiter=',', skipinitialspace=True)\n",
    "    data.meta = pd.read_csv(folder+name+'.meta', header=0, delimiter=',', skipinitialspace=True)\n",
    "    if 'weight' in data.columns:\n",
    "        data['weight'] *= (data.meta['cxn']*lumi/data.meta['sum_weight'])[0]\n",
    "    else:\n",
    "        data['weight'] = (data.meta['cxn']*lumi / data.meta['nevt'])[0]  \n",
    "    if cxn is not None:\n",
    "        data['weight'] = (cxn*lumi / data.meta['nevt'])[0]  \n",
    "    return data\n",
    "\n",
    "bkg = ['bkg_ttbar_dilep_0',  'bkg_ttbar_semilep_0',  'bkg_Wj_0',  'bkg_Zj_0']\n",
    "bkg = [ readfile(f,folder='ntuple_Zprime/') for f in bkg ]\n",
    "\n",
    "def nbkg(cut, lumi=37*1000):\n",
    "    mybkg = [ f.query(cut) for f in bkg ]\n",
    "    myevt = np.asarray([ lumi*np.sum(f['weight']) for f in mybkg ])\n",
    "    return myevt\n",
    "\n",
    "b = 10**np.linspace(log10(500),log10(10000),101)\n",
    "\n",
    "cxn3000= .03951\n",
    "cxn5000= .0103\n",
    "\n",
    "def get_sig(mass):\n",
    "    sigup = ['tchannel_up_mass_rinv0.01',\n",
    "        'tchannel_up_mass_rinv0.1',\n",
    "        'tchannel_up_mass_rinv0.2',\n",
    "        'tchannel_up_mass_rinv0.3',\n",
    "        'tchannel_up_mass_rinv0.4',\n",
    "        'tchannel_up_mass_rinv0.5',\n",
    "        'tchannel_up_mass_rinv0.6',\n",
    "        'tchannel_up_mass_rinv0.7',\n",
    "        'tchannel_up_mass_rinv0.8',\n",
    "        'tchannel_up_mass_rinv0.9',\n",
    "        'tchannel_up_mass_rinv0.98',\n",
    "        'tchannel_up_mass_rinv0.99',\n",
    "        'tchannel_up_mass_rinv1.0'\n",
    "        ]\n",
    "    \n",
    "    sigdown = ['tchannel_down_mass_rinv0.01',\n",
    "        'tchannel_down_mass_rinv0.1',\n",
    "        'tchannel_down_mass_rinv0.2',\n",
    "        'tchannel_down_mass_rinv0.3',\n",
    "        'tchannel_down_mass_rinv0.4',\n",
    "        'tchannel_down_mass_rinv0.5',\n",
    "        'tchannel_down_mass_rinv0.6',\n",
    "        'tchannel_down_mass_rinv0.7',\n",
    "        'tchannel_down_mass_rinv0.8',\n",
    "        'tchannel_down_mass_rinv0.9',\n",
    "        'tchannel_down_mass_rinv0.98',\n",
    "        'tchannel_down_mass_rinv0.99',\n",
    "        'tchannel_down_mass_rinv1.0'\n",
    "        ]\n",
    "    \n",
    "    sigup = [ s.replace('mass',str(mass)) for s in sigup ]\n",
    "    sigdown = [ s.replace('mass',str(mass)) for s in sigdown ]\n",
    "    \n",
    "    sigup = [ readfile(f) for f in sigup ]\n",
    "    sigup_cxn = [ f.meta['cxn'] for f in sigup ]\n",
    "    \n",
    "    sigdown = [ readfile(f) for f in sigdown ]\n",
    "    sigdown_cxn = [ f.meta['cxn'] for f in sigdown ]\n",
    "    \n",
    "    #sig_Mt = [ np.histogram(f['Mt'],bins=b,weights=f['weight'])[0] for f in sigup ]\n",
    "    return [ sigup, sigdown ]\n",
    "\n",
    "\n",
    "\n",
    "def get_sig_pair(mass):\n",
    "    sig = [\n",
    "            'pair_prod_mass_rinv0.01',\n",
    "            'pair_prod_mass_rinv0.1',\n",
    "            'pair_prod_mass_rinv0.2',\n",
    "            'pair_prod_mass_rinv0.3',\n",
    "            'pair_prod_mass_rinv0.4',\n",
    "            'pair_prod_mass_rinv0.5',\n",
    "            'pair_prod_mass_rinv0.6',\n",
    "            'pair_prod_mass_rinv0.7',\n",
    "            'pair_prod_mass_rinv0.8',\n",
    "            'pair_prod_mass_rinv0.98',\n",
    "            'pair_prod_mass_rinv0.99',\n",
    "            'pair_prod_mass_rinv1.0',\n",
    "        ]\n",
    "        \n",
    "    sig = [ s.replace('mass',str(mass)) for s in sig ]\n",
    "    sig = [ readfile(f) for f in sig ]\n",
    "\n",
    "    sig_cxn = [ f.meta['cxn'] for f in sig ]\n",
    "    \n",
    "    \n",
    "    #sig_Mt = [ np.histogram(f['Mt'],bins=b,weights=f['weight'])[0] for f in sigup ]\n",
    "    return sig\n",
    "\n",
    "sig1000=get_sig(1000)\n",
    "sig5000=get_sig(5000)\n",
    "sig1000_pair = get_sig_pair(1000)\n",
    "sig3000_pair = get_sig_pair(3000)\n",
    "sig5000_pair = get_sig_pair(5000)"
   ]
  },
  {
   "cell_type": "code",
   "execution_count": 7,
   "metadata": {
    "collapsed": false
   },
   "outputs": [],
   "source": [
    "def nsig(sig, cut, lumi=37*1000, mix=[4./(4./3 *.59)**2 , 4./(2./3 *.59)**2]):\n",
    "    [ sig1, sig2 ] = sig\n",
    "    mysig1 = [ f.query(cut) for f in sig1 ]\n",
    "    mysig2 = [ f.query(cut) for f in sig2 ]\n",
    "    \n",
    "    myevt1 = np.asarray([ mix[0]*lumi*np.sum(f['weight']) for f in mysig1 ])\n",
    "    myevt2 = np.asarray([ mix[1]*lumi*np.sum(f['weight']) for f in mysig2 ])\n",
    "    \n",
    "    return myevt1+myevt2\n",
    "\n",
    "def nsig_pair(sig, cut, lumi=37*1000):\n",
    "    mysig = [ f.query(cut) for f in sig ]\n",
    "    \n",
    "    myevt = np.asarray([ 2*2*2*lumi*np.sum(f['weight']) for f in mysig ])\n",
    "    return myevt"
   ]
  },
  {
   "cell_type": "code",
   "execution_count": 23,
   "metadata": {
    "collapsed": false
   },
   "outputs": [],
   "source": [
    "cutlist1=['MEt > 1000 & dphi <.4', 'MEt > 1200 & dphi <.4', \n",
    "          'MEt > 1000 & dphi <.4 & pt3 > 100', 'MEt > 1200 & dphi <.4 & pt3 > 100',\n",
    "          'MEt > 1000 & dphi <.4 & pt3 > 120', 'MEt > 1200 & dphi <.4 & pt3 > 120',\n",
    "         ]\n",
    "\n",
    "cutlist2=['MEt > 800 & dphi >.4', 'MEt > 1000 & dphi >.4', 'MEt > 1200 & dphi >.4',\n",
    "          'MEt > 800 & dphi >.4 & pt3 > 100', 'MEt > 1000 & dphi >.4 & pt3 > 100', 'MEt > 1200 & dphi >.4 & pt3 > 100',\n",
    "          'MEt > 800 & dphi >.4 & pt3 > 120', 'MEt > 1000 & dphi >.4 & pt3 > 120', 'MEt > 1200 & dphi >.4 & pt3 > 120'        \n",
    "         ]\n",
    "\n",
    "cutlist1_pair=['MEt > 1000 & dphi <.4 & pt4 > 80', 'MEt > 1200 & dphi <.4 & pt4 > 80', \n",
    "          'MEt > 1000 & dphi <.4 & pt4 > 100', 'MEt > 1200 & dphi <.4 & pt4 > 100',\n",
    "          'MEt > 1000 & dphi <.4 & pt4 > 110', 'MEt > 1200 & dphi <.4 & pt4 > 110',\n",
    "         ]\n",
    "\n",
    "cutlist2_pair=['MEt > 800 & dphi >.4 & pt4 > 80', 'MEt > 1000 & dphi >.4 & pt4 > 80', 'MEt > 1200 & dphi >.4 & pt4 > 80',\n",
    "          'MEt > 800 & dphi >.4 & pt4 > 100', 'MEt > 1000 & dphi >.4 & pt4 > 100', 'MEt > 1200 & dphi >.4 & pt4 > 100',\n",
    "          'MEt > 800 & dphi >.4 & pt4 > 110', 'MEt > 1000 & dphi >.4 & pt4 > 110', 'MEt > 1200 & dphi >.4 & pt4 > 110'        \n",
    "         ]\n",
    "\n",
    "\n",
    "commoncut=' & pt3 > 80'\n",
    "\n",
    "cutnbkg1=[ np.sum(nbkg(c+commoncut)) for c in cutlist1 ]\n",
    "cutnbkg2=[ np.sum(nbkg(c+commoncut)) for c in cutlist2 ]\n",
    "cutnbkg1_pair=[ np.sum(nbkg(c+commoncut)) for c in cutlist1_pair ]\n",
    "cutnbkg2_pair=[ np.sum(nbkg(c+commoncut)) for c in cutlist2_pair ]\n",
    "\n",
    "\n",
    "cutnsig1=[ nsig(sig1000, c+commoncut) for c in cutlist1 ]\n",
    "cutnsig2=[ nsig(sig1000, c+commoncut) for c in cutlist2 ]\n",
    "cutnsig1_5000=[ nsig(sig5000, c+commoncut) for c in cutlist1 ]\n",
    "cutnsig2_5000=[ nsig(sig5000, c+commoncut) for c in cutlist2 ]\n",
    "\n",
    "cutnsig1_1000_pair=[ nsig_pair(sig1000_pair, c+commoncut) for c in cutlist1_pair ]\n",
    "cutnsig2_1000_pair=[ nsig_pair(sig1000_pair, c+commoncut) for c in cutlist2_pair ]\n",
    "cutnsig1_5000_pair=[ nsig_pair(sig5000_pair, c+commoncut) for c in cutlist1_pair ]\n",
    "cutnsig2_5000_pair=[ nsig_pair(sig5000_pair, c+commoncut) for c in cutlist2_pair ]\n",
    "\n",
    "\n",
    "from scipy.optimize import bisect\n",
    "def limit(nbkg):\n",
    "    \n",
    "    def func_root(x):\n",
    "        logpart = x-nbkg*np.log(1+x/nbkg)\n",
    "        my_val = logpart - 2.0\n",
    "        return my_val\n",
    "    \n",
    "    soln = bisect(func_root, 0,10*nbkg)\n",
    "    return soln\n",
    "\n",
    "def limit_list(nbkg):\n",
    "    return np.asarray([ limit(n) for n in nbkg ])\n",
    "\n",
    "cutlim1 = [ limit(n) for n in cutnbkg1 ]\n",
    "cutlim2 = [ limit(n) for n in cutnbkg2 ]\n",
    "cutlim1_pair = [ limit(n) for n in cutnbkg1_pair ]\n",
    "cutlim2_pair = [ limit(n) for n in cutnbkg2_pair ]\n",
    "\n",
    "\n",
    "exc_sig_factor1 = np.asarray([ cutlim1[i]/l for i,l in enumerate(cutnsig1)])\n",
    "exc_sig_factor2 = np.asarray([ cutlim2[i]/l for i,l in enumerate(cutnsig2)])\n",
    "exc_sig_factor1_5000 = np.asarray([ cutlim1[i]/l for i,l in enumerate(cutnsig1_5000)])\n",
    "exc_sig_factor2_5000 = np.asarray([ cutlim2[i]/l for i,l in enumerate(cutnsig2_5000)])\n",
    "\n",
    "exc_sig_factor1_1000_pair = np.asarray([ cutlim1_pair[i]/l for i,l in enumerate(cutnsig1_1000_pair)])\n",
    "exc_sig_factor2_1000_pair = np.asarray([ cutlim2_pair[i]/l for i,l in enumerate(cutnsig2_1000_pair)])\n",
    "exc_sig_factor1_5000_pair = np.asarray([ cutlim1_pair[i]/l for i,l in enumerate(cutnsig1_5000_pair)])\n",
    "exc_sig_factor2_5000_pair = np.asarray([ cutlim2_pair[i]/l for i,l in enumerate(cutnsig2_5000_pair)])\n",
    "\n",
    "\n",
    "exc_sig_factor1 = np.amin(exc_sig_factor1, axis=0)\n",
    "exc_sig_factor2 = np.amin(exc_sig_factor2, axis=0)\n",
    "exc_sig_factor1_5000 = np.amin(exc_sig_factor1_5000, axis=0)\n",
    "exc_sig_factor2_5000 = np.amin(exc_sig_factor2_5000, axis=0)\n",
    "\n",
    "exc_sig_factor1_1000_pair = np.amin(exc_sig_factor1_1000_pair, axis=0)\n",
    "exc_sig_factor2_1000_pair = np.amin(exc_sig_factor2_1000_pair, axis=0)\n",
    "exc_sig_factor1_5000_pair = np.amin(exc_sig_factor1_5000_pair, axis=0)\n",
    "exc_sig_factor2_5000_pair = np.amin(exc_sig_factor2_5000_pair, axis=0)\n",
    "\n",
    "\n",
    "cutoff1 = 1000./exc_sig_factor1**(1./4)\n",
    "cutoff2 = 1000./exc_sig_factor2**(1./4)\n",
    "cutoff1_5000 = 5000./exc_sig_factor1_5000**(1./4)\n",
    "cutoff2_5000 = 5000./exc_sig_factor2_5000**(1./4)\n",
    "\n",
    "cutoff1_1000_pair = 1000./exc_sig_factor1_1000_pair**(1./4)\n",
    "cutoff2_1000_pair = 1000./exc_sig_factor2_1000_pair**(1./4)\n",
    "cutoff1_5000_pair = 5000./exc_sig_factor1_5000_pair**(1./4)\n",
    "cutoff2_5000_pair = 5000./exc_sig_factor2_5000_pair**(1./4)\n",
    "\n"
   ]
  },
  {
   "cell_type": "code",
   "execution_count": 29,
   "metadata": {
    "collapsed": false
   },
   "outputs": [
    {
     "name": "stdout",
     "output_type": "stream",
     "text": [
      "[ 294.03663308  567.44840705  708.29653928  806.77918334  879.09730996\n",
      "  916.85873811  933.02266067  908.02556663  854.66895525  716.61769515\n",
      "  459.03150834  389.297541    256.79011121]\n",
      "[ 381.1266407   596.49542841  677.74965777  737.22714184  810.60010275\n",
      "  887.96792278  933.65154757  982.69804542  899.31063733  855.38587751\n",
      "  933.65154757  848.40255153]\n",
      "[  315.44034222   530.50530599   783.18278794   870.95823718  1004.12084901\n",
      "  1133.29149629  1231.72095128  1357.40777932  1497.24316799  1694.0966787\n",
      "  1693.70183036  1681.72581299]\n",
      "[ 17.66025192  33.67556825  40.440135    45.36936343  48.79397825\n",
      "  50.5327511   50.9006222   50.19754878  48.0784187   36.54102622\n",
      "  34.76531171  32.74432591]\n",
      "[ 11.15396504  23.09766889  30.78862014  36.33495193  41.20071566\n",
      "  45.22653738  48.42510685  50.52411988  51.38935857  47.54221578\n",
      "  46.93497643  46.58935011]\n"
     ]
    }
   ],
   "source": [
    "print(cutoff1)\n",
    "print(cutoff1_1000_pair)\n",
    "print(cutoff2_1000_pair)\n",
    "\n",
    "print(cutoff1_5000_pair)\n",
    "print(cutoff2_5000_pair)"
   ]
  },
  {
   "cell_type": "code",
   "execution_count": 28,
   "metadata": {
    "collapsed": false
   },
   "outputs": [
    {
     "data": {
      "text/plain": [
       "<matplotlib.figure.Figure at 0x7ff354739810>"
      ]
     },
     "metadata": {},
     "output_type": "display_data"
    },
    {
     "data": {
      "image/png": "[encoded data removed]",
      "text/plain": [
       "<matplotlib.figure.Figure at 0x7ff354524790>"
      ]
     },
     "metadata": {},
     "output_type": "display_data"
    },
    {
     "data": {
      "text/plain": [
       "<matplotlib.figure.Figure at 0x7ff35494fc10>"
      ]
     },
     "metadata": {},
     "output_type": "display_data"
    },
    {
     "data": {
      "image/png": "[encoded data removed]",
      "text/plain": [
       "<matplotlib.figure.Figure at 0x7ff3545399d0>"
      ]
     },
     "metadata": {},
     "output_type": "display_data"
    }
   ],
   "source": [
    "plt.figure()\n",
    "\n",
    "fig=plt.figure(\"m\", figsize=(8,7))\n",
    "plt.subplots_adjust(left=0.2, right=0.90, top=0.9, bottom=0.2)\n",
    "\n",
    "rinv_pair=[.01,.1,.2,.3,.4,.5,.6,.7,.8,.98,.99,1]\n",
    "\n",
    "rinv=[.01,.1,.2,.3,.4,.5,.6,.7,.8,.9,.98,.99,1]\n",
    "\n",
    "plt.plot(rinv,cutoff1,label=r'$M_\\phi = 1\\;{\\rm TeV},\\; \\Delta \\phi < 0.4,\\;{\\rm Asso.}$',\n",
    "         lw=3,alpha=.8,c='red',ls='--')\n",
    "plt.plot(rinv,cutoff2,label=r'$M_\\phi = 1\\;{\\rm TeV},\\; \\Delta \\phi > 0.4,\\;{\\rm Asso.}$',\n",
    "         lw=3,alpha=.8,c='green',ls='--')\n",
    "\n",
    "plt.plot(rinv_pair,cutoff1_1000_pair,label=r'$M_\\phi = 1\\;{\\rm TeV},\\; \\Delta \\phi < 0.4,\\;{\\rm Pair.}$',\n",
    "         lw=3,alpha=.8,c='red')\n",
    "\n",
    "plt.plot(rinv_pair,cutoff2_1000_pair,label=r'$M_\\phi = 1\\;{\\rm TeV},\\; \\Delta \\phi > 0.4,\\;{\\rm Pair.}$',\n",
    "         lw=3,alpha=.8,c='green')\n",
    "\n",
    "\n",
    "\n",
    "plt.ylim([0,2000])\n",
    "plt.xlabel(r'$ r_{\\rm inv}$', fontsize=25)\n",
    "plt.ylabel(r'$ \\Lambda\\,\\,{\\rm\\; GeV}$', fontsize=25)\n",
    "\n",
    "plt.legend(bbox_to_anchor=(0, 0, .95, 0.95),\n",
    "           fontsize=20, ncol=1,frameon=False,\n",
    "           handletextpad=.5, columnspacing=.8,\n",
    "           borderaxespad=0.)\n",
    "\n",
    "plt.savefig(\"cutoff_tchannel_associated_1000.pdf\")\n",
    "\n",
    "\n",
    "plt.figure()\n",
    "\n",
    "fig=plt.figure(\"5000\", figsize=(8,7))\n",
    "plt.subplots_adjust(left=0.2, right=0.90, top=0.9, bottom=0.2)\n",
    "\n",
    "rinv=[.01,.1,.2,.3,.4,.5,.6,.7,.8,.9,.98,.99,1]\n",
    "\n",
    "plt.plot(rinv,cutoff1_5000,label=r'$M_\\phi = 5\\;{\\rm TeV},\\; \\Delta \\phi < 0.4,\\;{\\rm Asso.}$',\n",
    "         lw=3,alpha=.8,c='red',ls='--')\n",
    "plt.plot(rinv,cutoff2_5000,label=r'$M_\\phi = 5\\;{\\rm TeV},\\; \\Delta \\phi > 0.4,\\;{\\rm Asso.}$',\n",
    "         lw=3,alpha=.8,c='green',ls='--')\n",
    "\n",
    "plt.plot(rinv_pair,cutoff1_5000_pair,label=r'$M_\\phi = 5\\;{\\rm TeV},\\; \\Delta \\phi < 0.4,\\;{\\rm Pair.}$',\n",
    "         lw=3,alpha=.8,c='red')\n",
    "\n",
    "plt.plot(rinv_pair,cutoff2_5000_pair,label=r'$M_\\phi = 5\\;{\\rm TeV},\\; \\Delta \\phi > 0.4,\\;{\\rm Pair.}$',\n",
    "         lw=3,alpha=.8,c='green')\n",
    "\n",
    "\n",
    "plt.ylim([0,2000])\n",
    "plt.xlabel(r'$ r_{\\rm inv}$', fontsize=25)\n",
    "plt.ylabel(r'$ \\Lambda\\,\\,{\\rm\\; GeV}$', fontsize=25)\n",
    "\n",
    "plt.legend(bbox_to_anchor=(0, 0, .95, 0.95),\n",
    "           fontsize=20, ncol=1,frameon=False,\n",
    "           handletextpad=.5, columnspacing=.8,\n",
    "           borderaxespad=0.)\n",
    "\n",
    "plt.savefig(\"cutoff_tchannel_associated_5000.pdf\")"
   ]
  },
  {
   "cell_type": "code",
   "execution_count": 32,
   "metadata": {
    "collapsed": false
   },
   "outputs": [
    {
     "name": "stdout",
     "output_type": "stream",
     "text": [
      "Cutoff Limits for 1 TeV t-channel, same order as legend\n",
      "[ 294.03663308  567.44840705  708.29653928  806.77918334  879.09730996\n",
      "  916.85873811  933.02266067  908.02556663  854.66895525  716.61769515\n",
      "  459.03150834  389.297541    256.79011121]\n",
      "[ 152.7350868   226.7698984   289.4608086   346.39789009  442.47342879\n",
      "  471.55718805  519.89008878  589.68660891  583.20256407  553.95620026\n",
      "  516.79244831  487.48598757  491.30101899]\n",
      "[ 381.1266407   596.49542841  677.74965777  737.22714184  810.60010275\n",
      "  887.96792278  933.65154757  982.69804542  899.31063733  855.38587751\n",
      "  933.65154757  848.40255153]\n",
      "[  315.44034222   530.50530599   783.18278794   870.95823718  1004.12084901\n",
      "  1133.29149629  1231.72095128  1357.40777932  1497.24316799  1694.0966787\n",
      "  1693.70183036  1681.72581299]\n",
      " \n",
      "Cutoff Limits for 5 TeV t-channel, same order as legend\n",
      "[ 216.74256499  402.51164068  511.7285209   597.64235834  668.1290737\n",
      "  715.80941127  740.85150479  728.89329634  677.46855772  571.57997447\n",
      "  363.77358763  312.19927118  226.05437573]\n",
      "[  64.97624068  147.10824334  220.74122342  285.95914066  341.5567054\n",
      "  395.39779467  442.43438416  471.07085437  484.65552564  470.75732552\n",
      "  423.2852346   423.06449575  415.76360452]\n",
      "[ 17.66025192  33.67556825  40.440135    45.36936343  48.79397825\n",
      "  50.5327511   50.9006222   50.19754878  48.0784187   36.54102622\n",
      "  34.76531171  32.74432591]\n",
      "[ 11.15396504  23.09766889  30.78862014  36.33495193  41.20071566\n",
      "  45.22653738  48.42510685  50.52411988  51.38935857  47.54221578\n",
      "  46.93497643  46.58935011]\n"
     ]
    }
   ],
   "source": [
    "print(\"Cutoff Limits for 1 TeV t-channel, same order as legend\")\n",
    "print(cutoff1)\n",
    "print(cutoff2)\n",
    "print(cutoff1_1000_pair)\n",
    "print(cutoff2_1000_pair)\n",
    "\n",
    "print(\" \")\n",
    "print(\"Cutoff Limits for 5 TeV t-channel, same order as legend\")\n",
    "print(cutoff1_5000)\n",
    "print(cutoff2_5000)\n",
    "print(cutoff1_5000_pair)\n",
    "print(cutoff2_5000_pair)"
   ]
  },
  {
   "cell_type": "code",
   "execution_count": null,
   "metadata": {
    "collapsed": true
   },
   "outputs": [],
   "source": []
  }
 ],
 "metadata": {
  "celltoolbar": "Raw Cell Format",
  "kernelspec": {
   "display_name": "Python 2",
   "language": "python",
   "name": "python2"
  },
  "language_info": {
   "codemirror_mode": {
    "name": "ipython",
    "version": 2
   },
   "file_extension": ".py",
   "mimetype": "text/x-python",
   "name": "python",
   "nbconvert_exporter": "python",
   "pygments_lexer": "ipython2",
   "version": "2.7.6"
  }
 },
 "nbformat": 4,
 "nbformat_minor": 0
}
