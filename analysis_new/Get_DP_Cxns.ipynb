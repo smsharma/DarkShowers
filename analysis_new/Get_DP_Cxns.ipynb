{
 "cells": [
  {
   "cell_type": "code",
   "execution_count": 54,
   "metadata": {
    "collapsed": true
   },
   "outputs": [],
   "source": [
    "import pandas as pd\n",
    "import numpy as np\n",
    "from bs4 import BeautifulSoup\n",
    "import matplotlib.pyplot as plt\n",
    "\n",
    "%matplotlib inline"
   ]
  },
  {
   "cell_type": "code",
   "execution_count": 55,
   "metadata": {
    "collapsed": false
   },
   "outputs": [],
   "source": [
    "masses = list(np.linspace(500,15000,20)) + [20000,50000,100000]\n",
    "# [20000,50000,100000]"
   ]
  },
  {
   "cell_type": "code",
   "execution_count": 59,
   "metadata": {
    "collapsed": true
   },
   "outputs": [],
   "source": [
    "masses = list(np.array([   500.        ,   1263.15789474,   2026.31578947,   2789.47368421,\n",
    "         3552.63157895,   4315.78947368,   5078.94736842,   \n",
    "         6605.26315789,   7368.42105263,   8131.57894737,   8894.73684211,\n",
    "         9657.89473684,  10421.05263158,  11184.21052632,  \n",
    "        12710.52631579,  13473.68421053,  14236.84210526,  15000.        ])) + [20000,50000,100000]\n"
   ]
  },
  {
   "cell_type": "code",
   "execution_count": 58,
   "metadata": {
    "collapsed": false
   },
   "outputs": [
    {
     "name": "stdout",
     "output_type": "stream",
     "text": [
      "0.351304548807\n",
      "0.668158935591\n",
      "0.784225976189\n",
      "0.824161673559\n",
      "0.834505709328\n",
      "0.838103638022\n",
      "0.835394597743\n",
      "0.831546508102\n",
      "0.832775660691\n",
      "0.833888000796\n",
      "0.829027035458\n",
      "0.83122915215\n",
      "0.830551522614\n",
      "0.830105128079\n",
      "0.827416191367\n",
      "0.829127398504\n",
      "0.829184179061\n",
      "0.828399475859\n",
      "0.827079168754\n",
      "0.829023623114\n",
      "0.827826781289\n"
     ]
    }
   ],
   "source": [
    "dp_frac = []\n",
    "for mass in masses:\n",
    "    with open (\"/group/hepheno/smsharma/Dark-Showers/MG5_aMC_v2_5_6_patch_int_signal_sig_tchannel_\"+str(mass) + \"_0/bin/sig_tchannel/HTML/run_01/results.html\", \"r\") as myfile:\n",
    "        data=myfile.read()\n",
    "        \n",
    "    soup = BeautifulSoup(data) # Parse the HTML as a string\n",
    "    \n",
    "    table = soup.find_all('table')[0] # Grab the first table\n",
    "    \n",
    "    dp_sum = 0.\n",
    "    rest_sum = 0.\n",
    "    \n",
    "    for row in table.find_all('tr'):\n",
    "        column_marker = 0\n",
    "        columns = row.find_all('td')\n",
    "        for icolumn, column in enumerate(columns):\n",
    "            if columns[icolumn-1].get_text() == 'P1 sum':\n",
    "                dp_sum += float(column.get_text())\n",
    "            if columns[icolumn-1].get_text() == 'P2 sum':\n",
    "                rest_sum += float(column.get_text())\n",
    "            if columns[icolumn-1].get_text() == 'P3 sum':\n",
    "                rest_sum += float(column.get_text())\n",
    "            column_marker += 1\n",
    "    print dp_sum/(dp_sum+rest_sum)\n",
    "    dp_frac.append(dp_sum/(dp_sum+rest_sum))"
   ]
  },
  {
   "cell_type": "code",
   "execution_count": 61,
   "metadata": {
    "collapsed": true
   },
   "outputs": [],
   "source": [
    "fs_labels = 26\n",
    "fs_ticks = 25\n",
    "fs_text = 23\n",
    "fs_legend = 22"
   ]
  },
  {
   "cell_type": "code",
   "execution_count": 72,
   "metadata": {
    "collapsed": false
   },
   "outputs": [
    {
     "data": {
      "image/png": "[encoded data removed]",
      "text/plain": [
       "<matplotlib.figure.Figure at 0x7fb715cd03d0>"
      ]
     },
     "metadata": {},
     "output_type": "display_data"
    }
   ],
   "source": [
    "fig=plt.figure(figsize=(9,7))\n",
    "plot_colorsss=['cornflowerblue','mediumseagreen', 'firebrick','indigo','violet','maroon','darkgrey','lightpink','black','forestgreen','cornflowerblue', 'salmon','violet','goldenrod','maroon','darkgrey','lightpink']\n",
    "\n",
    "lw = 2.5\n",
    "\n",
    "\n",
    "plt.plot(masses, np.array(dp_frac)*1/0.83, color = 'navy')\n",
    "plt.xscale(\"log\")\n",
    "plt.xlabel(\"$M_\\phi$\",fontsize=fs_labels)\n",
    "plt.ylabel(\"$\\sigma_{q \\overline q\\\\rightarrow \\chi\\overline\\chi}/\\sigma_\\mathrm{tot}$\",fontsize=fs_labels)\n",
    "plt.ylim(0.2,1.2)\n",
    "plt.xlim(min(masses), max(masses))\n",
    "\n",
    "leg = plt.legend(bbox_to_anchor=(0, 0, 0.97, 0.95),\n",
    "           fontsize=22, ncol=1,frameon=False,\n",
    "           handletextpad=.5,\n",
    "           borderaxespad=0.,title=\"$M_\\phi$\")\n",
    "plt.tick_params(axis='both', which='major', labelsize=fs_ticks)\n",
    "\n",
    "title = \"$t$-channel\"\n",
    "plt.title(title, fontsize=fs_labels)\n",
    "ax = plt.gca()\n",
    "ttl = ax.title\n",
    "ttl.set_position([.5, 1.02])\n",
    "plt.tight_layout()\n",
    "\n",
    "plt.axhline(1.,ls='--',lw=0.5)\n",
    "\n",
    "plt.savefig(\"CxnDPvsRest.pdf\")"
   ]
  },
  {
   "cell_type": "code",
   "execution_count": null,
   "metadata": {
    "collapsed": true
   },
   "outputs": [],
   "source": []
  }
 ],
 "metadata": {
  "anaconda-cloud": {},
  "kernelspec": {
   "display_name": "Python [conda env:venv_py27]",
   "language": "python",
   "name": "conda-env-venv_py27-py"
  },
  "language_info": {
   "codemirror_mode": {
    "name": "ipython",
    "version": 2
   },
   "file_extension": ".py",
   "mimetype": "text/x-python",
   "name": "python",
   "nbconvert_exporter": "python",
   "pygments_lexer": "ipython2",
   "version": "2.7.12"
  }
 },
 "nbformat": 4,
 "nbformat_minor": 1
}
