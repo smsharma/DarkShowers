{
 "cells": [
  {
   "cell_type": "code",
   "execution_count": 86,
   "metadata": {
    "collapsed": true
   },
   "outputs": [],
   "source": [
    "# Important necessary libraries\n",
    "import pandas as pd\n",
    "import numpy as np\n",
    "import matplotlib.pyplot as plt\n",
    "from __future__ import division\n",
    "from matplotlib.lines import Line2D\n",
    "from tqdm import *\n",
    "from itertools import compress\n",
    "%matplotlib inline  "
   ]
  },
  {
   "cell_type": "code",
   "execution_count": 115,
   "metadata": {
    "collapsed": false
   },
   "outputs": [],
   "source": [
    "def combine_background_files(folder='../data/bkg_Zj/', lumi=37*1000, nfiles=200):\n",
    "    \"\"\" Read .evt and .meta files as output by monojet.C and \n",
    "        properly weigh events\n",
    "    \"\"\"\n",
    "    \n",
    "    evt_frames = [pd.read_csv(folder+'events_'+str(i)+'.evt', header=0, delimiter=',', skipinitialspace=True) for i in range(nfiles)]\n",
    "    good_frames = np.array([len(evt_frame) for evt_frame in evt_frames]) > 0\n",
    "    \n",
    "    evt_frames = list(compress(evt_frames, good_frames))\n",
    "    meta_frames = [pd.read_csv(folder+'events_'+str(i)+'.meta', header=0, delimiter=',', skipinitialspace=True) for i in compress(range(nfiles),good_frames)]\n",
    "    for evt_frame, meta_frame in zip(evt_frames, meta_frames):\n",
    "        evt_frame['weight'] *= (meta_frame['cxn']*lumi/meta_frame['sum_weight'])[0]\n",
    "        \n",
    "    data = pd.concat(evt_frames)\n",
    "    return data"
   ]
  },
  {
   "cell_type": "code",
   "execution_count": 140,
   "metadata": {
    "collapsed": false
   },
   "outputs": [],
   "source": [
    "# Zj_df = combine_background_files('../data/bkg_Zj/', nfiles=200)\n",
    "# Wj_df = combine_background_files('../data/bkg_Wj/', nfiles=200)\n",
    "# tt_d_df = combine_background_files('../data/bkg_ttbar_dilep//', nfiles=200)\n",
    "# tt_s_df = combine_background_files('../data/bkg_ttbar_semilep//', nfiles=200)\n",
    "QCD_df = combine_background_files('../data/bkg_qcd/', nfiles=200)\n",
    "QCD_nobias_df = combine_background_files('../data/bkg_qcd_nobias/', nfiles=200)"
   ]
  },
  {
   "cell_type": "code",
   "execution_count": 151,
   "metadata": {
    "collapsed": false
   },
   "outputs": [
    {
     "data": {
      "text/plain": [
       "92.73043988696445"
      ]
     },
     "execution_count": 151,
     "metadata": {},
     "output_type": "execute_result"
    }
   ],
   "source": [
    "35547.9*5.72328/2194"
   ]
  },
  {
   "cell_type": "code",
   "execution_count": 158,
   "metadata": {
    "collapsed": false
   },
   "outputs": [
    {
     "data": {
      "text/html": [
       "<div>\n",
       "<table border=\"1\" class=\"dataframe\">\n",
       "  <thead>\n",
       "    <tr style=\"text-align: right;\">\n",
       "      <th></th>\n",
       "      <th>nevt</th>\n",
       "      <th>npass</th>\n",
       "      <th>eff</th>\n",
       "      <th>total</th>\n",
       "      <th>pass</th>\n",
       "      <th>ptcut</th>\n",
       "      <th>metcut</th>\n",
       "      <th>cxn</th>\n",
       "      <th>cxn_err</th>\n",
       "      <th>sum_weight</th>\n",
       "    </tr>\n",
       "  </thead>\n",
       "  <tbody>\n",
       "    <tr>\n",
       "      <th>0</th>\n",
       "      <td>1698</td>\n",
       "      <td>1698</td>\n",
       "      <td>1</td>\n",
       "      <td>1698</td>\n",
       "      <td>1698</td>\n",
       "      <td>0</td>\n",
       "      <td>0</td>\n",
       "      <td>5.72328</td>\n",
       "      <td>0.172127</td>\n",
       "      <td>35547.9</td>\n",
       "    </tr>\n",
       "  </tbody>\n",
       "</table>\n",
       "</div>"
      ],
      "text/plain": [
       "   nevt  npass  eff  total  pass  ptcut  metcut      cxn   cxn_err  sum_weight\n",
       "0  1698   1698    1   1698  1698      0       0  5.72328  0.172127     35547.9"
      ]
     },
     "execution_count": 158,
     "metadata": {},
     "output_type": "execute_result"
    }
   ],
   "source": [
    "df_qcd = pd.read_csv('../data/bkg_qcd/'+'events_'+str(0)+'.meta', header=0, delimiter=',', skipinitialspace=True)\n",
    "df_qcd.head()"
   ]
  },
  {
   "cell_type": "code",
   "execution_count": 159,
   "metadata": {
    "collapsed": false
   },
   "outputs": [
    {
     "data": {
      "text/html": [
       "<div>\n",
       "<table border=\"1\" class=\"dataframe\">\n",
       "  <thead>\n",
       "    <tr style=\"text-align: right;\">\n",
       "      <th></th>\n",
       "      <th>nevt</th>\n",
       "      <th>npass</th>\n",
       "      <th>eff</th>\n",
       "      <th>total</th>\n",
       "      <th>pass</th>\n",
       "      <th>ptcut</th>\n",
       "      <th>metcut</th>\n",
       "      <th>cxn</th>\n",
       "      <th>cxn_err</th>\n",
       "      <th>sum_weight</th>\n",
       "    </tr>\n",
       "  </thead>\n",
       "  <tbody>\n",
       "    <tr>\n",
       "      <th>0</th>\n",
       "      <td>2194</td>\n",
       "      <td>2194</td>\n",
       "      <td>1</td>\n",
       "      <td>2194</td>\n",
       "      <td>2194</td>\n",
       "      <td>0</td>\n",
       "      <td>0</td>\n",
       "      <td>42728.7</td>\n",
       "      <td>691.638</td>\n",
       "      <td>2194</td>\n",
       "    </tr>\n",
       "  </tbody>\n",
       "</table>\n",
       "</div>"
      ],
      "text/plain": [
       "   nevt  npass  eff  total  pass  ptcut  metcut      cxn  cxn_err  sum_weight\n",
       "0  2194   2194    1   2194  2194      0       0  42728.7  691.638        2194"
      ]
     },
     "execution_count": 159,
     "metadata": {},
     "output_type": "execute_result"
    }
   ],
   "source": [
    "df_qcd_nobias = pd.read_csv('../data/bkg_qcd_nobias//'+'events_'+str(0)+'.meta', header=0, delimiter=',', skipinitialspace=True)\n",
    "df_qcd_nobias.head()"
   ]
  },
  {
   "cell_type": "code",
   "execution_count": 171,
   "metadata": {
    "collapsed": false
   },
   "outputs": [
    {
     "data": {
      "text/plain": [
       "7465.7713758544051"
      ]
     },
     "execution_count": 171,
     "metadata": {},
     "output_type": "execute_result"
    }
   ],
   "source": [
    "cxn_ratio = df_qcd_nobias['cxn'][0]/df_qcd['cxn'][0]\n",
    "cxn_ratio"
   ]
  },
  {
   "cell_type": "code",
   "execution_count": 175,
   "metadata": {
    "collapsed": false
   },
   "outputs": [
    {
     "data": {
      "image/png": "[encoded data removed]",
      "text/plain": [
       "<matplotlib.figure.Figure at 0x7f3647ebd390>"
      ]
     },
     "metadata": {},
     "output_type": "display_data"
    }
   ],
   "source": [
    "bins = np.linspace(0,2500,50)\n",
    "\n",
    "normed = False\n",
    "\n",
    "plt.hist(Zj_df['MEt'], weights=Zj_df['weight'], \n",
    "                     bins=bins,\n",
    "                     histtype='step', alpha=.5, lw=1.6, label=\"$Z+j$\", normed=normed)\n",
    "plt.hist(Wj_df['MEt'], weights=Wj_df['weight'], \n",
    "                     bins=bins,\n",
    "                     histtype='step', alpha=.5, lw=1.6, label=\"$W+j$\", normed=normed)\n",
    "\n",
    "tt_df = pd.concat([tt_d_df, tt_s_df])\n",
    "\n",
    "plt.hist(tt_df['MEt'], weights=tt_df['weight'], \n",
    "                     bins=bins,\n",
    "                     histtype='step', alpha=.5, lw=1.6, label=\"$t\\\\bar t$\", normed=normed)\n",
    "\n",
    "plt.hist(QCD_df['MEt'], weights=QCD_df['weight']*0.53212E+03, \n",
    "                     bins=bins,\n",
    "                     histtype='step', alpha=.5, lw=1.6, label=\"QCD\", normed=normed)\n",
    "\n",
    "plt.hist(QCD_nobias_df['MEt'], weights=QCD_nobias_df['weight'], \n",
    "                     bins=bins,\n",
    "                     histtype='step', alpha=.5, lw=1.6, label=\"QCD nobias\", normed=normed)\n",
    "\n",
    "\n",
    "plt.xlabel(\"MET\")\n",
    "\n",
    "\n",
    "plt.legend()\n",
    "plt.ylabel(\"Events\")\n",
    "plt.yscale(\"log\")"
   ]
  },
  {
   "cell_type": "code",
   "execution_count": null,
   "metadata": {
    "collapsed": true
   },
   "outputs": [],
   "source": []
  },
  {
   "cell_type": "code",
   "execution_count": null,
   "metadata": {
    "collapsed": true
   },
   "outputs": [],
   "source": []
  }
 ],
 "metadata": {
  "anaconda-cloud": {},
  "kernelspec": {
   "display_name": "Python [conda env:venv_py27]",
   "language": "python",
   "name": "conda-env-venv_py27-py"
  },
  "language_info": {
   "codemirror_mode": {
    "name": "ipython",
    "version": 2
   },
   "file_extension": ".py",
   "mimetype": "text/x-python",
   "name": "python",
   "nbconvert_exporter": "python",
   "pygments_lexer": "ipython2",
   "version": "2.7.12"
  }
 },
 "nbformat": 4,
 "nbformat_minor": 1
}
